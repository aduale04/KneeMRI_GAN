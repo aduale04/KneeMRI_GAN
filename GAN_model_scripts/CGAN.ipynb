{
  "nbformat": 4,
  "nbformat_minor": 0,
  "metadata": {
    "colab": {
      "provenance": [],
      "machine_shape": "hm"
    },
    "kernelspec": {
      "name": "python3",
      "display_name": "Python 3"
    },
    "language_info": {
      "name": "python"
    },
    "accelerator": "GPU",
    "gpuClass": "standard"
  },
  "cells": [
    {
      "cell_type": "code",
      "source": [
        "from google.colab import drive\n",
        "drive.mount('/content/drive')"
      ],
      "metadata": {
        "colab": {
          "base_uri": "https://localhost:8080/"
        },
        "id": "MXHur2M98UGM",
        "outputId": "3c59debd-eec0-4a62-82b3-b2c8b195a485"
      },
      "execution_count": null,
      "outputs": [
        {
          "output_type": "stream",
          "name": "stdout",
          "text": [
            "Mounted at /content/drive\n"
          ]
        }
      ]
    },
    {
      "cell_type": "code",
      "source": [
        "!rm -r \"/content/drive/MyDrive/Freelancing/upwork/Mohammed Warsame/generated\"\n",
        "!mkdir \"/content/drive/MyDrive/Freelancing/upwork/Mohammed Warsame/generated\""
      ],
      "metadata": {
        "id": "O6w6so_tC15z"
      },
      "execution_count": null,
      "outputs": []
    },
    {
      "cell_type": "code",
      "source": [
        "import numpy as np\n",
        "import cv2\n",
        "import os\n",
        "# https://github.com/eyalbetzalel/inception-score-pytorch/blob/master/inception_score.py\n",
        "def inception_score(imgs, batch_size=1):\n",
        "    \"\"\"Computes the inception score of the generated images imgs\n",
        "    imgs -- Torch dataset of (3xHxW) numpy images normalized in the range [-1, 1]\n",
        "    batch_size -- batch size for feeding into Inception v3\n",
        "    \"\"\"\n",
        "\n",
        "    import torch\n",
        "    from torch import nn\n",
        "    from torch.autograd import Variable\n",
        "    from torch.nn import functional as F\n",
        "    import torch.utils.data\n",
        "    from torchvision.models.inception import inception_v3\n",
        "    from scipy.stats import entropy\n",
        "    from glob import glob\n",
        "    from tqdm import tqdm\n",
        "\n",
        "    N = len(imgs)\n",
        "\n",
        "    if torch.cuda.is_available():\n",
        "        dtype = torch.cuda.FloatTensor\n",
        "    else:\n",
        "        dtype = torch.FloatTensor\n",
        "\n",
        "    # Set up dataloader\n",
        "    dataloader = torch.utils.data.DataLoader(imgs, batch_size=batch_size)\n",
        "\n",
        "    # Load inception model\n",
        "    inception_model = inception_v3(pretrained=True, transform_input=False).type(dtype)\n",
        "    inception_model.eval();\n",
        "    up = nn.Upsample(size=(299, 299), mode='bilinear').type(dtype)\n",
        "    def get_pred(x):\n",
        "        x = inception_model(x)\n",
        "        return F.softmax(x).data.cpu().numpy()\n",
        "\n",
        "    # Get predictions\n",
        "    preds = np.zeros((N, 1000))\n",
        "\n",
        "    for i, batch in tqdm(enumerate(dataloader), total=len(dataloader)):\n",
        "        batch = batch.type(dtype)\n",
        "        batchv = Variable(batch)\n",
        "        batch_size_i = batch.size()[0]\n",
        "\n",
        "        preds[i*batch_size:i*batch_size + batch_size_i] = get_pred(batchv)\n",
        "\n",
        "    # Now compute the mean kl-div\n",
        "    py = np.mean(preds, axis=0)\n",
        "    scores = []\n",
        "    for i in range(preds.shape[0]):\n",
        "        pyx = preds[i, :]\n",
        "        scores.append(entropy(pyx, py))\n",
        "    return np.exp(np.mean(scores))"
      ],
      "metadata": {
        "id": "AohCzkqA7KYd"
      },
      "execution_count": null,
      "outputs": []
    },
    {
      "cell_type": "code",
      "source": [
        "import tensorflow as tf\n",
        "\n",
        "output_path = \"/content/drive/MyDrive/Freelancing/upwork/Mohammed Warsame/generated\"\n",
        "model_path = \"/content/drive/MyDrive/Freelancing/upwork/Mohammed Warsame/cond_gan/cond_gan.h5\"\n",
        "num_of_images_per_class = 100\n",
        "\n",
        "\n",
        "model = tf.keras.models.load_model(model_path)\n",
        "latent_plus_one_hot = np.random.normal(size = (num_of_images_per_class,102))\n",
        "input_array = np.random.normal(size = (num_of_images_per_class,102))\n",
        "zero_mask = np.zeros((num_of_images_per_class,2))\n",
        "one_mask = np.ones((num_of_images_per_class,1))\n",
        "zero_mask[:,[0]] = one_mask\n",
        "input_array[:,[-2,-1]] = zero_mask\n",
        "pred = model.predict(input_array)*255\n",
        "for ind, img in enumerate(pred):\n",
        "  cv2.imwrite(\"/{}/class0{}.png\".format(output_path, ind), img) \n",
        "input_array = np.random.normal(size = (num_of_images_per_class,102))\n",
        "zero_mask = np.zeros((num_of_images_per_class,2))\n",
        "zero_mask[:,[1]] = one_mask\n",
        "input_array[:,[-2,-1]] = zero_mask\n",
        "pred = model.predict(input_array)*255\n",
        "for ind, img in enumerate(pred):\n",
        "  cv2.imwrite(\"/{}/class1{}.png\".format(output_path, ind), img) "
      ],
      "metadata": {
        "colab": {
          "base_uri": "https://localhost:8080/",
          "height": 371
        },
        "id": "l88JckvyX6rN",
        "outputId": "7191aa89-adfc-4547-ce72-084c83b62088"
      },
      "execution_count": null,
      "outputs": [
        {
          "output_type": "error",
          "ename": "AttributeError",
          "evalue": "ignored",
          "traceback": [
            "\u001b[0;31m---------------------------------------------------------------------------\u001b[0m",
            "\u001b[0;31mAttributeError\u001b[0m                            Traceback (most recent call last)",
            "\u001b[0;32m<ipython-input-2-a5f6368caffa>\u001b[0m in \u001b[0;36m<module>\u001b[0;34m\u001b[0m\n\u001b[0;32m----> 1\u001b[0;31m \u001b[0;32mimport\u001b[0m \u001b[0mtensorflow\u001b[0m \u001b[0;32mas\u001b[0m \u001b[0mtf\u001b[0m\u001b[0;34m\u001b[0m\u001b[0;34m\u001b[0m\u001b[0m\n\u001b[0m\u001b[1;32m      2\u001b[0m \u001b[0;34m\u001b[0m\u001b[0m\n\u001b[1;32m      3\u001b[0m \u001b[0moutput_path\u001b[0m \u001b[0;34m=\u001b[0m \u001b[0;34m\"/content/drive/MyDrive/Freelancing/upwork/Mohammed Warsame/generator_data\"\u001b[0m\u001b[0;34m\u001b[0m\u001b[0;34m\u001b[0m\u001b[0m\n\u001b[1;32m      4\u001b[0m \u001b[0mmodel_path\u001b[0m \u001b[0;34m=\u001b[0m \u001b[0;34m\"/content/drive/MyDrive/Freelancing/upwork/Mohammed Warsame/cond_gan/cond_gan.h5\"\u001b[0m\u001b[0;34m\u001b[0m\u001b[0;34m\u001b[0m\u001b[0m\n\u001b[1;32m      5\u001b[0m \u001b[0mnum_of_images_per_class\u001b[0m \u001b[0;34m=\u001b[0m \u001b[0;36m100\u001b[0m\u001b[0;34m\u001b[0m\u001b[0;34m\u001b[0m\u001b[0m\n",
            "\u001b[0;32m/usr/local/lib/python3.7/dist-packages/tensorflow/__init__.py\u001b[0m in \u001b[0;36m<module>\u001b[0;34m\u001b[0m\n\u001b[1;32m     49\u001b[0m \u001b[0;32mfrom\u001b[0m \u001b[0;34m.\u001b[0m\u001b[0m_api\u001b[0m\u001b[0;34m.\u001b[0m\u001b[0mv2\u001b[0m \u001b[0;32mimport\u001b[0m \u001b[0mautograph\u001b[0m\u001b[0;34m\u001b[0m\u001b[0;34m\u001b[0m\u001b[0m\n\u001b[1;32m     50\u001b[0m \u001b[0;32mfrom\u001b[0m \u001b[0;34m.\u001b[0m\u001b[0m_api\u001b[0m\u001b[0;34m.\u001b[0m\u001b[0mv2\u001b[0m \u001b[0;32mimport\u001b[0m \u001b[0mbitwise\u001b[0m\u001b[0;34m\u001b[0m\u001b[0;34m\u001b[0m\u001b[0m\n\u001b[0;32m---> 51\u001b[0;31m \u001b[0;32mfrom\u001b[0m \u001b[0;34m.\u001b[0m\u001b[0m_api\u001b[0m\u001b[0;34m.\u001b[0m\u001b[0mv2\u001b[0m \u001b[0;32mimport\u001b[0m \u001b[0mcompat\u001b[0m\u001b[0;34m\u001b[0m\u001b[0;34m\u001b[0m\u001b[0m\n\u001b[0m\u001b[1;32m     52\u001b[0m \u001b[0;32mfrom\u001b[0m \u001b[0;34m.\u001b[0m\u001b[0m_api\u001b[0m\u001b[0;34m.\u001b[0m\u001b[0mv2\u001b[0m \u001b[0;32mimport\u001b[0m \u001b[0mconfig\u001b[0m\u001b[0;34m\u001b[0m\u001b[0;34m\u001b[0m\u001b[0m\n\u001b[1;32m     53\u001b[0m \u001b[0;32mfrom\u001b[0m \u001b[0;34m.\u001b[0m\u001b[0m_api\u001b[0m\u001b[0;34m.\u001b[0m\u001b[0mv2\u001b[0m \u001b[0;32mimport\u001b[0m \u001b[0mdata\u001b[0m\u001b[0;34m\u001b[0m\u001b[0;34m\u001b[0m\u001b[0m\n",
            "\u001b[0;32m/usr/local/lib/python3.7/dist-packages/tensorflow/_api/v2/compat/__init__.py\u001b[0m in \u001b[0;36m<module>\u001b[0;34m\u001b[0m\n\u001b[1;32m     35\u001b[0m \u001b[0;32mimport\u001b[0m \u001b[0msys\u001b[0m \u001b[0;32mas\u001b[0m \u001b[0m_sys\u001b[0m\u001b[0;34m\u001b[0m\u001b[0;34m\u001b[0m\u001b[0m\n\u001b[1;32m     36\u001b[0m \u001b[0;34m\u001b[0m\u001b[0m\n\u001b[0;32m---> 37\u001b[0;31m \u001b[0;32mfrom\u001b[0m \u001b[0;34m.\u001b[0m \u001b[0;32mimport\u001b[0m \u001b[0mv1\u001b[0m\u001b[0;34m\u001b[0m\u001b[0;34m\u001b[0m\u001b[0m\n\u001b[0m\u001b[1;32m     38\u001b[0m \u001b[0;32mfrom\u001b[0m \u001b[0;34m.\u001b[0m \u001b[0;32mimport\u001b[0m \u001b[0mv2\u001b[0m\u001b[0;34m\u001b[0m\u001b[0;34m\u001b[0m\u001b[0m\n\u001b[1;32m     39\u001b[0m \u001b[0;32mfrom\u001b[0m \u001b[0mtensorflow\u001b[0m\u001b[0;34m.\u001b[0m\u001b[0mpython\u001b[0m\u001b[0;34m.\u001b[0m\u001b[0mcompat\u001b[0m\u001b[0;34m.\u001b[0m\u001b[0mcompat\u001b[0m \u001b[0;32mimport\u001b[0m \u001b[0mforward_compatibility_horizon\u001b[0m\u001b[0;34m\u001b[0m\u001b[0;34m\u001b[0m\u001b[0m\n",
            "\u001b[0;32m/usr/local/lib/python3.7/dist-packages/tensorflow/_api/v2/compat/v1/__init__.py\u001b[0m in \u001b[0;36m<module>\u001b[0;34m\u001b[0m\n\u001b[1;32m     28\u001b[0m \u001b[0;32mfrom\u001b[0m \u001b[0;34m.\u001b[0m \u001b[0;32mimport\u001b[0m \u001b[0mautograph\u001b[0m\u001b[0;34m\u001b[0m\u001b[0;34m\u001b[0m\u001b[0m\n\u001b[1;32m     29\u001b[0m \u001b[0;32mfrom\u001b[0m \u001b[0;34m.\u001b[0m \u001b[0;32mimport\u001b[0m \u001b[0mbitwise\u001b[0m\u001b[0;34m\u001b[0m\u001b[0;34m\u001b[0m\u001b[0m\n\u001b[0;32m---> 30\u001b[0;31m \u001b[0;32mfrom\u001b[0m \u001b[0;34m.\u001b[0m \u001b[0;32mimport\u001b[0m \u001b[0mcompat\u001b[0m\u001b[0;34m\u001b[0m\u001b[0;34m\u001b[0m\u001b[0m\n\u001b[0m\u001b[1;32m     31\u001b[0m \u001b[0;32mfrom\u001b[0m \u001b[0;34m.\u001b[0m \u001b[0;32mimport\u001b[0m \u001b[0mconfig\u001b[0m\u001b[0;34m\u001b[0m\u001b[0;34m\u001b[0m\u001b[0m\n\u001b[1;32m     32\u001b[0m \u001b[0;32mfrom\u001b[0m \u001b[0;34m.\u001b[0m \u001b[0;32mimport\u001b[0m \u001b[0mdata\u001b[0m\u001b[0;34m\u001b[0m\u001b[0;34m\u001b[0m\u001b[0m\n",
            "\u001b[0;32m/usr/local/lib/python3.7/dist-packages/tensorflow/_api/v2/compat/v1/compat/__init__.py\u001b[0m in \u001b[0;36m<module>\u001b[0;34m\u001b[0m\n\u001b[1;32m     35\u001b[0m \u001b[0;32mimport\u001b[0m \u001b[0msys\u001b[0m \u001b[0;32mas\u001b[0m \u001b[0m_sys\u001b[0m\u001b[0;34m\u001b[0m\u001b[0;34m\u001b[0m\u001b[0m\n\u001b[1;32m     36\u001b[0m \u001b[0;34m\u001b[0m\u001b[0m\n\u001b[0;32m---> 37\u001b[0;31m \u001b[0;32mfrom\u001b[0m \u001b[0;34m.\u001b[0m \u001b[0;32mimport\u001b[0m \u001b[0mv1\u001b[0m\u001b[0;34m\u001b[0m\u001b[0;34m\u001b[0m\u001b[0m\n\u001b[0m\u001b[1;32m     38\u001b[0m \u001b[0;32mfrom\u001b[0m \u001b[0;34m.\u001b[0m \u001b[0;32mimport\u001b[0m \u001b[0mv2\u001b[0m\u001b[0;34m\u001b[0m\u001b[0;34m\u001b[0m\u001b[0m\n\u001b[1;32m     39\u001b[0m \u001b[0;32mfrom\u001b[0m \u001b[0mtensorflow\u001b[0m\u001b[0;34m.\u001b[0m\u001b[0mpython\u001b[0m\u001b[0;34m.\u001b[0m\u001b[0mcompat\u001b[0m\u001b[0;34m.\u001b[0m\u001b[0mcompat\u001b[0m \u001b[0;32mimport\u001b[0m \u001b[0mforward_compatibility_horizon\u001b[0m\u001b[0;34m\u001b[0m\u001b[0;34m\u001b[0m\u001b[0m\n",
            "\u001b[0;32m/usr/local/lib/python3.7/dist-packages/tensorflow/_api/v2/compat/v1/compat/v1/__init__.py\u001b[0m in \u001b[0;36m<module>\u001b[0;34m\u001b[0m\n\u001b[1;32m     45\u001b[0m \u001b[0;32mfrom\u001b[0m \u001b[0mtensorflow\u001b[0m\u001b[0;34m.\u001b[0m\u001b[0m_api\u001b[0m\u001b[0;34m.\u001b[0m\u001b[0mv2\u001b[0m\u001b[0;34m.\u001b[0m\u001b[0mcompat\u001b[0m\u001b[0;34m.\u001b[0m\u001b[0mv1\u001b[0m \u001b[0;32mimport\u001b[0m \u001b[0mlayers\u001b[0m\u001b[0;34m\u001b[0m\u001b[0;34m\u001b[0m\u001b[0m\n\u001b[1;32m     46\u001b[0m \u001b[0;32mfrom\u001b[0m \u001b[0mtensorflow\u001b[0m\u001b[0;34m.\u001b[0m\u001b[0m_api\u001b[0m\u001b[0;34m.\u001b[0m\u001b[0mv2\u001b[0m\u001b[0;34m.\u001b[0m\u001b[0mcompat\u001b[0m\u001b[0;34m.\u001b[0m\u001b[0mv1\u001b[0m \u001b[0;32mimport\u001b[0m \u001b[0mlinalg\u001b[0m\u001b[0;34m\u001b[0m\u001b[0;34m\u001b[0m\u001b[0m\n\u001b[0;32m---> 47\u001b[0;31m \u001b[0;32mfrom\u001b[0m \u001b[0mtensorflow\u001b[0m\u001b[0;34m.\u001b[0m\u001b[0m_api\u001b[0m\u001b[0;34m.\u001b[0m\u001b[0mv2\u001b[0m\u001b[0;34m.\u001b[0m\u001b[0mcompat\u001b[0m\u001b[0;34m.\u001b[0m\u001b[0mv1\u001b[0m \u001b[0;32mimport\u001b[0m \u001b[0mlite\u001b[0m\u001b[0;34m\u001b[0m\u001b[0;34m\u001b[0m\u001b[0m\n\u001b[0m\u001b[1;32m     48\u001b[0m \u001b[0;32mfrom\u001b[0m \u001b[0mtensorflow\u001b[0m\u001b[0;34m.\u001b[0m\u001b[0m_api\u001b[0m\u001b[0;34m.\u001b[0m\u001b[0mv2\u001b[0m\u001b[0;34m.\u001b[0m\u001b[0mcompat\u001b[0m\u001b[0;34m.\u001b[0m\u001b[0mv1\u001b[0m \u001b[0;32mimport\u001b[0m \u001b[0mlogging\u001b[0m\u001b[0;34m\u001b[0m\u001b[0;34m\u001b[0m\u001b[0m\n\u001b[1;32m     49\u001b[0m \u001b[0;32mfrom\u001b[0m \u001b[0mtensorflow\u001b[0m\u001b[0;34m.\u001b[0m\u001b[0m_api\u001b[0m\u001b[0;34m.\u001b[0m\u001b[0mv2\u001b[0m\u001b[0;34m.\u001b[0m\u001b[0mcompat\u001b[0m\u001b[0;34m.\u001b[0m\u001b[0mv1\u001b[0m \u001b[0;32mimport\u001b[0m \u001b[0mlookup\u001b[0m\u001b[0;34m\u001b[0m\u001b[0;34m\u001b[0m\u001b[0m\n",
            "\u001b[0;32m/usr/local/lib/python3.7/dist-packages/tensorflow/_api/v2/compat/v1/lite/__init__.py\u001b[0m in \u001b[0;36m<module>\u001b[0;34m\u001b[0m\n\u001b[1;32m      7\u001b[0m \u001b[0;34m\u001b[0m\u001b[0m\n\u001b[1;32m      8\u001b[0m \u001b[0;32mfrom\u001b[0m \u001b[0;34m.\u001b[0m \u001b[0;32mimport\u001b[0m \u001b[0mconstants\u001b[0m\u001b[0;34m\u001b[0m\u001b[0;34m\u001b[0m\u001b[0m\n\u001b[0;32m----> 9\u001b[0;31m \u001b[0;32mfrom\u001b[0m \u001b[0;34m.\u001b[0m \u001b[0;32mimport\u001b[0m \u001b[0mexperimental\u001b[0m\u001b[0;34m\u001b[0m\u001b[0;34m\u001b[0m\u001b[0m\n\u001b[0m\u001b[1;32m     10\u001b[0m \u001b[0;32mfrom\u001b[0m \u001b[0mtensorflow\u001b[0m\u001b[0;34m.\u001b[0m\u001b[0mlite\u001b[0m\u001b[0;34m.\u001b[0m\u001b[0mpython\u001b[0m\u001b[0;34m.\u001b[0m\u001b[0mlite\u001b[0m \u001b[0;32mimport\u001b[0m \u001b[0mInterpreter\u001b[0m\u001b[0;34m\u001b[0m\u001b[0;34m\u001b[0m\u001b[0m\n\u001b[1;32m     11\u001b[0m \u001b[0;32mfrom\u001b[0m \u001b[0mtensorflow\u001b[0m\u001b[0;34m.\u001b[0m\u001b[0mlite\u001b[0m\u001b[0;34m.\u001b[0m\u001b[0mpython\u001b[0m\u001b[0;34m.\u001b[0m\u001b[0mlite\u001b[0m \u001b[0;32mimport\u001b[0m \u001b[0mOpHint\u001b[0m\u001b[0;34m\u001b[0m\u001b[0;34m\u001b[0m\u001b[0m\n",
            "\u001b[0;32m/usr/local/lib/python3.7/dist-packages/tensorflow/_api/v2/compat/v1/lite/experimental/__init__.py\u001b[0m in \u001b[0;36m<module>\u001b[0;34m\u001b[0m\n\u001b[1;32m      6\u001b[0m \u001b[0;32mimport\u001b[0m \u001b[0msys\u001b[0m \u001b[0;32mas\u001b[0m \u001b[0m_sys\u001b[0m\u001b[0;34m\u001b[0m\u001b[0;34m\u001b[0m\u001b[0m\n\u001b[1;32m      7\u001b[0m \u001b[0;34m\u001b[0m\u001b[0m\n\u001b[0;32m----> 8\u001b[0;31m \u001b[0;32mfrom\u001b[0m \u001b[0;34m.\u001b[0m \u001b[0;32mimport\u001b[0m \u001b[0mauthoring\u001b[0m\u001b[0;34m\u001b[0m\u001b[0;34m\u001b[0m\u001b[0m\n\u001b[0m\u001b[1;32m      9\u001b[0m \u001b[0;32mfrom\u001b[0m \u001b[0mtensorflow\u001b[0m\u001b[0;34m.\u001b[0m\u001b[0mlite\u001b[0m\u001b[0;34m.\u001b[0m\u001b[0mpython\u001b[0m\u001b[0;34m.\u001b[0m\u001b[0manalyzer\u001b[0m \u001b[0;32mimport\u001b[0m \u001b[0mModelAnalyzer\u001b[0m \u001b[0;32mas\u001b[0m \u001b[0mAnalyzer\u001b[0m\u001b[0;34m\u001b[0m\u001b[0;34m\u001b[0m\u001b[0m\n\u001b[1;32m     10\u001b[0m \u001b[0;32mfrom\u001b[0m \u001b[0mtensorflow\u001b[0m\u001b[0;34m.\u001b[0m\u001b[0mlite\u001b[0m\u001b[0;34m.\u001b[0m\u001b[0mpython\u001b[0m\u001b[0;34m.\u001b[0m\u001b[0mlite\u001b[0m \u001b[0;32mimport\u001b[0m \u001b[0mOpResolverType\u001b[0m\u001b[0;34m\u001b[0m\u001b[0;34m\u001b[0m\u001b[0m\n",
            "\u001b[0;32m/usr/local/lib/python3.7/dist-packages/tensorflow/_api/v2/compat/v1/lite/experimental/authoring/__init__.py\u001b[0m in \u001b[0;36m<module>\u001b[0;34m\u001b[0m\n\u001b[1;32m      6\u001b[0m \u001b[0;32mimport\u001b[0m \u001b[0msys\u001b[0m \u001b[0;32mas\u001b[0m \u001b[0m_sys\u001b[0m\u001b[0;34m\u001b[0m\u001b[0;34m\u001b[0m\u001b[0m\n\u001b[1;32m      7\u001b[0m \u001b[0;34m\u001b[0m\u001b[0m\n\u001b[0;32m----> 8\u001b[0;31m \u001b[0;32mfrom\u001b[0m \u001b[0mtensorflow\u001b[0m\u001b[0;34m.\u001b[0m\u001b[0mlite\u001b[0m\u001b[0;34m.\u001b[0m\u001b[0mpython\u001b[0m\u001b[0;34m.\u001b[0m\u001b[0mauthoring\u001b[0m\u001b[0;34m.\u001b[0m\u001b[0mauthoring\u001b[0m \u001b[0;32mimport\u001b[0m \u001b[0mcompatible\u001b[0m\u001b[0;34m\u001b[0m\u001b[0;34m\u001b[0m\u001b[0m\n\u001b[0m",
            "\u001b[0;32m/usr/local/lib/python3.7/dist-packages/tensorflow/lite/python/authoring/authoring.py\u001b[0m in \u001b[0;36m<module>\u001b[0;34m\u001b[0m\n\u001b[1;32m     41\u001b[0m \u001b[0;34m\u001b[0m\u001b[0m\n\u001b[1;32m     42\u001b[0m \u001b[0;31m# pylint: disable=g-import-not-at-top\u001b[0m\u001b[0;34m\u001b[0m\u001b[0;34m\u001b[0m\u001b[0;34m\u001b[0m\u001b[0m\n\u001b[0;32m---> 43\u001b[0;31m \u001b[0;32mfrom\u001b[0m \u001b[0mtensorflow\u001b[0m\u001b[0;34m.\u001b[0m\u001b[0mlite\u001b[0m\u001b[0;34m.\u001b[0m\u001b[0mpython\u001b[0m \u001b[0;32mimport\u001b[0m \u001b[0mconvert\u001b[0m\u001b[0;34m\u001b[0m\u001b[0;34m\u001b[0m\u001b[0m\n\u001b[0m\u001b[1;32m     44\u001b[0m \u001b[0;32mfrom\u001b[0m \u001b[0mtensorflow\u001b[0m\u001b[0;34m.\u001b[0m\u001b[0mlite\u001b[0m\u001b[0;34m.\u001b[0m\u001b[0mpython\u001b[0m \u001b[0;32mimport\u001b[0m \u001b[0mlite\u001b[0m\u001b[0;34m\u001b[0m\u001b[0;34m\u001b[0m\u001b[0m\n\u001b[1;32m     45\u001b[0m \u001b[0;32mfrom\u001b[0m \u001b[0mtensorflow\u001b[0m\u001b[0;34m.\u001b[0m\u001b[0mlite\u001b[0m\u001b[0;34m.\u001b[0m\u001b[0mpython\u001b[0m\u001b[0;34m.\u001b[0m\u001b[0mmetrics\u001b[0m \u001b[0;32mimport\u001b[0m \u001b[0mconverter_error_data_pb2\u001b[0m\u001b[0;34m\u001b[0m\u001b[0;34m\u001b[0m\u001b[0m\n",
            "\u001b[0;32m/usr/local/lib/python3.7/dist-packages/tensorflow/lite/python/convert.py\u001b[0m in \u001b[0;36m<module>\u001b[0;34m\u001b[0m\n\u001b[1;32m     27\u001b[0m \u001b[0;34m\u001b[0m\u001b[0m\n\u001b[1;32m     28\u001b[0m \u001b[0;32mfrom\u001b[0m \u001b[0mtensorflow\u001b[0m\u001b[0;34m.\u001b[0m\u001b[0mlite\u001b[0m\u001b[0;34m.\u001b[0m\u001b[0mpython\u001b[0m \u001b[0;32mimport\u001b[0m \u001b[0mlite_constants\u001b[0m\u001b[0;34m\u001b[0m\u001b[0;34m\u001b[0m\u001b[0m\n\u001b[0;32m---> 29\u001b[0;31m \u001b[0;32mfrom\u001b[0m \u001b[0mtensorflow\u001b[0m\u001b[0;34m.\u001b[0m\u001b[0mlite\u001b[0m\u001b[0;34m.\u001b[0m\u001b[0mpython\u001b[0m \u001b[0;32mimport\u001b[0m \u001b[0mutil\u001b[0m\u001b[0;34m\u001b[0m\u001b[0;34m\u001b[0m\u001b[0m\n\u001b[0m\u001b[1;32m     30\u001b[0m \u001b[0;32mfrom\u001b[0m \u001b[0mtensorflow\u001b[0m\u001b[0;34m.\u001b[0m\u001b[0mlite\u001b[0m\u001b[0;34m.\u001b[0m\u001b[0mpython\u001b[0m \u001b[0;32mimport\u001b[0m \u001b[0mwrap_toco\u001b[0m\u001b[0;34m\u001b[0m\u001b[0;34m\u001b[0m\u001b[0m\n\u001b[1;32m     31\u001b[0m \u001b[0;32mfrom\u001b[0m \u001b[0mtensorflow\u001b[0m\u001b[0;34m.\u001b[0m\u001b[0mlite\u001b[0m\u001b[0;34m.\u001b[0m\u001b[0mpython\u001b[0m\u001b[0;34m.\u001b[0m\u001b[0mconvert_phase\u001b[0m \u001b[0;32mimport\u001b[0m \u001b[0mComponent\u001b[0m\u001b[0;34m\u001b[0m\u001b[0;34m\u001b[0m\u001b[0m\n",
            "\u001b[0;32m/usr/local/lib/python3.7/dist-packages/tensorflow/lite/python/util.py\u001b[0m in \u001b[0;36m<module>\u001b[0;34m\u001b[0m\n\u001b[1;32m     49\u001b[0m \u001b[0;31m# pylint: disable=unused-import\u001b[0m\u001b[0;34m\u001b[0m\u001b[0;34m\u001b[0m\u001b[0;34m\u001b[0m\u001b[0m\n\u001b[1;32m     50\u001b[0m \u001b[0;32mtry\u001b[0m\u001b[0;34m:\u001b[0m\u001b[0;34m\u001b[0m\u001b[0;34m\u001b[0m\u001b[0m\n\u001b[0;32m---> 51\u001b[0;31m   \u001b[0;32mfrom\u001b[0m \u001b[0mjax\u001b[0m \u001b[0;32mimport\u001b[0m \u001b[0mxla_computation\u001b[0m \u001b[0;32mas\u001b[0m \u001b[0m_xla_computation\u001b[0m\u001b[0;34m\u001b[0m\u001b[0;34m\u001b[0m\u001b[0m\n\u001b[0m\u001b[1;32m     52\u001b[0m \u001b[0;32mexcept\u001b[0m \u001b[0mImportError\u001b[0m\u001b[0;34m:\u001b[0m\u001b[0;34m\u001b[0m\u001b[0;34m\u001b[0m\u001b[0m\n\u001b[1;32m     53\u001b[0m   \u001b[0m_xla_computation\u001b[0m \u001b[0;34m=\u001b[0m \u001b[0;32mNone\u001b[0m\u001b[0;34m\u001b[0m\u001b[0;34m\u001b[0m\u001b[0m\n",
            "\u001b[0;32m/usr/local/lib/python3.7/dist-packages/jax/__init__.py\u001b[0m in \u001b[0;36m<module>\u001b[0;34m\u001b[0m\n\u001b[1;32m    135\u001b[0m \u001b[0;32mfrom\u001b[0m \u001b[0mjax\u001b[0m \u001b[0;32mimport\u001b[0m \u001b[0mimage\u001b[0m \u001b[0;32mas\u001b[0m \u001b[0mimage\u001b[0m\u001b[0;34m\u001b[0m\u001b[0;34m\u001b[0m\u001b[0m\n\u001b[1;32m    136\u001b[0m \u001b[0;32mfrom\u001b[0m \u001b[0mjax\u001b[0m \u001b[0;32mimport\u001b[0m \u001b[0mlax\u001b[0m \u001b[0;32mas\u001b[0m \u001b[0mlax\u001b[0m\u001b[0;34m\u001b[0m\u001b[0;34m\u001b[0m\u001b[0m\n\u001b[0;32m--> 137\u001b[0;31m \u001b[0;32mfrom\u001b[0m \u001b[0mjax\u001b[0m \u001b[0;32mimport\u001b[0m \u001b[0mnn\u001b[0m \u001b[0;32mas\u001b[0m \u001b[0mnn\u001b[0m\u001b[0;34m\u001b[0m\u001b[0;34m\u001b[0m\u001b[0m\n\u001b[0m\u001b[1;32m    138\u001b[0m \u001b[0;32mfrom\u001b[0m \u001b[0mjax\u001b[0m \u001b[0;32mimport\u001b[0m \u001b[0mnumpy\u001b[0m \u001b[0;32mas\u001b[0m \u001b[0mnumpy\u001b[0m\u001b[0;34m\u001b[0m\u001b[0;34m\u001b[0m\u001b[0m\n\u001b[1;32m    139\u001b[0m \u001b[0;32mfrom\u001b[0m \u001b[0mjax\u001b[0m \u001b[0;32mimport\u001b[0m \u001b[0mops\u001b[0m \u001b[0;32mas\u001b[0m \u001b[0mops\u001b[0m\u001b[0;34m\u001b[0m\u001b[0;34m\u001b[0m\u001b[0m\n",
            "\u001b[0;32m/usr/local/lib/python3.7/dist-packages/jax/nn/__init__.py\u001b[0m in \u001b[0;36m<module>\u001b[0;34m\u001b[0m\n\u001b[1;32m     17\u001b[0m \u001b[0;32mfrom\u001b[0m \u001b[0mjax\u001b[0m\u001b[0;34m.\u001b[0m\u001b[0mnumpy\u001b[0m \u001b[0;32mimport\u001b[0m \u001b[0mtanh\u001b[0m \u001b[0;32mas\u001b[0m \u001b[0mtanh\u001b[0m\u001b[0;34m\u001b[0m\u001b[0;34m\u001b[0m\u001b[0m\n\u001b[1;32m     18\u001b[0m \u001b[0;32mfrom\u001b[0m \u001b[0mjax\u001b[0m\u001b[0;34m.\u001b[0m\u001b[0mnn\u001b[0m \u001b[0;32mimport\u001b[0m \u001b[0minitializers\u001b[0m \u001b[0;32mas\u001b[0m \u001b[0minitializers\u001b[0m\u001b[0;34m\u001b[0m\u001b[0;34m\u001b[0m\u001b[0m\n\u001b[0;32m---> 19\u001b[0;31m from jax._src.nn.functions import (\n\u001b[0m\u001b[1;32m     20\u001b[0m   \u001b[0mcelu\u001b[0m \u001b[0;32mas\u001b[0m \u001b[0mcelu\u001b[0m\u001b[0;34m,\u001b[0m\u001b[0;34m\u001b[0m\u001b[0;34m\u001b[0m\u001b[0m\n\u001b[1;32m     21\u001b[0m   \u001b[0melu\u001b[0m \u001b[0;32mas\u001b[0m \u001b[0melu\u001b[0m\u001b[0;34m,\u001b[0m\u001b[0;34m\u001b[0m\u001b[0;34m\u001b[0m\u001b[0m\n",
            "\u001b[0;32m/usr/local/lib/python3.7/dist-packages/jax/_src/nn/functions.py\u001b[0m in \u001b[0;36m<module>\u001b[0;34m\u001b[0m\n\u001b[1;32m     28\u001b[0m \u001b[0;32mfrom\u001b[0m \u001b[0mjax\u001b[0m\u001b[0;34m.\u001b[0m\u001b[0mcore\u001b[0m \u001b[0;32mimport\u001b[0m \u001b[0mAxisName\u001b[0m\u001b[0;34m\u001b[0m\u001b[0;34m\u001b[0m\u001b[0m\n\u001b[1;32m     29\u001b[0m \u001b[0;32mfrom\u001b[0m \u001b[0mjax\u001b[0m\u001b[0;34m.\u001b[0m\u001b[0m_src\u001b[0m \u001b[0;32mimport\u001b[0m \u001b[0mutil\u001b[0m\u001b[0;34m\u001b[0m\u001b[0;34m\u001b[0m\u001b[0m\n\u001b[0;32m---> 30\u001b[0;31m \u001b[0;32mfrom\u001b[0m \u001b[0mjax\u001b[0m\u001b[0;34m.\u001b[0m\u001b[0mscipy\u001b[0m\u001b[0;34m.\u001b[0m\u001b[0mspecial\u001b[0m \u001b[0;32mimport\u001b[0m \u001b[0mexpit\u001b[0m\u001b[0;34m\u001b[0m\u001b[0;34m\u001b[0m\u001b[0m\n\u001b[0m\u001b[1;32m     31\u001b[0m \u001b[0;32mfrom\u001b[0m \u001b[0mjax\u001b[0m\u001b[0;34m.\u001b[0m\u001b[0mscipy\u001b[0m\u001b[0;34m.\u001b[0m\u001b[0mspecial\u001b[0m \u001b[0;32mimport\u001b[0m \u001b[0mlogsumexp\u001b[0m \u001b[0;32mas\u001b[0m \u001b[0m_logsumexp\u001b[0m\u001b[0;34m\u001b[0m\u001b[0;34m\u001b[0m\u001b[0m\n\u001b[1;32m     32\u001b[0m \u001b[0;32mimport\u001b[0m \u001b[0mjax\u001b[0m\u001b[0;34m.\u001b[0m\u001b[0mnumpy\u001b[0m \u001b[0;32mas\u001b[0m \u001b[0mjnp\u001b[0m\u001b[0;34m\u001b[0m\u001b[0;34m\u001b[0m\u001b[0m\n",
            "\u001b[0;32m/usr/local/lib/python3.7/dist-packages/jax/scipy/__init__.py\u001b[0m in \u001b[0;36m<module>\u001b[0;34m\u001b[0m\n\u001b[1;32m     19\u001b[0m \u001b[0;32mfrom\u001b[0m \u001b[0mjax\u001b[0m\u001b[0;34m.\u001b[0m\u001b[0mscipy\u001b[0m \u001b[0;32mimport\u001b[0m \u001b[0msparse\u001b[0m \u001b[0;32mas\u001b[0m \u001b[0msparse\u001b[0m\u001b[0;34m\u001b[0m\u001b[0;34m\u001b[0m\u001b[0m\n\u001b[1;32m     20\u001b[0m \u001b[0;32mfrom\u001b[0m \u001b[0mjax\u001b[0m\u001b[0;34m.\u001b[0m\u001b[0mscipy\u001b[0m \u001b[0;32mimport\u001b[0m \u001b[0mspecial\u001b[0m \u001b[0;32mas\u001b[0m \u001b[0mspecial\u001b[0m\u001b[0;34m\u001b[0m\u001b[0;34m\u001b[0m\u001b[0m\n\u001b[0;32m---> 21\u001b[0;31m \u001b[0;32mfrom\u001b[0m \u001b[0mjax\u001b[0m\u001b[0;34m.\u001b[0m\u001b[0mscipy\u001b[0m \u001b[0;32mimport\u001b[0m \u001b[0mstats\u001b[0m \u001b[0;32mas\u001b[0m \u001b[0mstats\u001b[0m\u001b[0;34m\u001b[0m\u001b[0;34m\u001b[0m\u001b[0m\n\u001b[0m\u001b[1;32m     22\u001b[0m \u001b[0;32mfrom\u001b[0m \u001b[0mjax\u001b[0m\u001b[0;34m.\u001b[0m\u001b[0mscipy\u001b[0m \u001b[0;32mimport\u001b[0m \u001b[0mfft\u001b[0m \u001b[0;32mas\u001b[0m \u001b[0mfft\u001b[0m\u001b[0;34m\u001b[0m\u001b[0;34m\u001b[0m\u001b[0m\n\u001b[1;32m     23\u001b[0m \u001b[0;32mfrom\u001b[0m \u001b[0mjax\u001b[0m\u001b[0;34m.\u001b[0m\u001b[0mscipy\u001b[0m \u001b[0;32mimport\u001b[0m \u001b[0mcluster\u001b[0m \u001b[0;32mas\u001b[0m \u001b[0mcluster\u001b[0m\u001b[0;34m\u001b[0m\u001b[0;34m\u001b[0m\u001b[0m\n",
            "\u001b[0;32m/usr/local/lib/python3.7/dist-packages/jax/scipy/stats/__init__.py\u001b[0m in \u001b[0;36m<module>\u001b[0;34m\u001b[0m\n\u001b[1;32m     30\u001b[0m \u001b[0;32mfrom\u001b[0m \u001b[0mjax\u001b[0m\u001b[0;34m.\u001b[0m\u001b[0mscipy\u001b[0m\u001b[0;34m.\u001b[0m\u001b[0mstats\u001b[0m \u001b[0;32mimport\u001b[0m \u001b[0muniform\u001b[0m \u001b[0;32mas\u001b[0m \u001b[0muniform\u001b[0m\u001b[0;34m\u001b[0m\u001b[0;34m\u001b[0m\u001b[0m\n\u001b[1;32m     31\u001b[0m \u001b[0;32mfrom\u001b[0m \u001b[0mjax\u001b[0m\u001b[0;34m.\u001b[0m\u001b[0mscipy\u001b[0m\u001b[0;34m.\u001b[0m\u001b[0mstats\u001b[0m \u001b[0;32mimport\u001b[0m \u001b[0mchi2\u001b[0m \u001b[0;32mas\u001b[0m \u001b[0mchi2\u001b[0m\u001b[0;34m\u001b[0m\u001b[0;34m\u001b[0m\u001b[0m\n\u001b[0;32m---> 32\u001b[0;31m \u001b[0;32mfrom\u001b[0m \u001b[0mjax\u001b[0m\u001b[0;34m.\u001b[0m\u001b[0mscipy\u001b[0m\u001b[0;34m.\u001b[0m\u001b[0mstats\u001b[0m \u001b[0;32mimport\u001b[0m \u001b[0mbetabinom\u001b[0m \u001b[0;32mas\u001b[0m \u001b[0mbetabinom\u001b[0m\u001b[0;34m\u001b[0m\u001b[0;34m\u001b[0m\u001b[0m\n\u001b[0m\u001b[1;32m     33\u001b[0m \u001b[0;32mfrom\u001b[0m \u001b[0mjax\u001b[0m\u001b[0;34m.\u001b[0m\u001b[0mscipy\u001b[0m\u001b[0;34m.\u001b[0m\u001b[0mstats\u001b[0m \u001b[0;32mimport\u001b[0m \u001b[0mgennorm\u001b[0m \u001b[0;32mas\u001b[0m \u001b[0mgennorm\u001b[0m\u001b[0;34m\u001b[0m\u001b[0;34m\u001b[0m\u001b[0m\n",
            "\u001b[0;32m/usr/local/lib/python3.7/dist-packages/jax/scipy/stats/betabinom.py\u001b[0m in \u001b[0;36m<module>\u001b[0;34m\u001b[0m\n\u001b[1;32m     13\u001b[0m \u001b[0;31m# limitations under the License.\u001b[0m\u001b[0;34m\u001b[0m\u001b[0;34m\u001b[0m\u001b[0;34m\u001b[0m\u001b[0m\n\u001b[1;32m     14\u001b[0m \u001b[0;34m\u001b[0m\u001b[0m\n\u001b[0;32m---> 15\u001b[0;31m from jax._src.scipy.stats.betabinom import (\n\u001b[0m\u001b[1;32m     16\u001b[0m   \u001b[0mlogpmf\u001b[0m \u001b[0;32mas\u001b[0m \u001b[0mlogpmf\u001b[0m\u001b[0;34m,\u001b[0m\u001b[0;34m\u001b[0m\u001b[0;34m\u001b[0m\u001b[0m\n\u001b[1;32m     17\u001b[0m   \u001b[0mpmf\u001b[0m \u001b[0;32mas\u001b[0m \u001b[0mpmf\u001b[0m\u001b[0;34m,\u001b[0m\u001b[0;34m\u001b[0m\u001b[0;34m\u001b[0m\u001b[0m\n",
            "\u001b[0;32m/usr/local/lib/python3.7/dist-packages/jax/_src/scipy/stats/betabinom.py\u001b[0m in \u001b[0;36m<module>\u001b[0;34m\u001b[0m\n\u001b[1;32m     44\u001b[0m \u001b[0;34m\u001b[0m\u001b[0m\n\u001b[1;32m     45\u001b[0m \u001b[0;34m\u001b[0m\u001b[0m\n\u001b[0;32m---> 46\u001b[0;31m \u001b[0mlogpmf\u001b[0m \u001b[0;34m=\u001b[0m \u001b[0m_wraps\u001b[0m\u001b[0;34m(\u001b[0m\u001b[0mosp_stats\u001b[0m\u001b[0;34m.\u001b[0m\u001b[0mbetabinom\u001b[0m\u001b[0;34m.\u001b[0m\u001b[0mlogpmf\u001b[0m\u001b[0;34m,\u001b[0m \u001b[0mupdate_doc\u001b[0m\u001b[0;34m=\u001b[0m\u001b[0;32mFalse\u001b[0m\u001b[0;34m)\u001b[0m\u001b[0;34m(\u001b[0m\u001b[0mlogpmf\u001b[0m\u001b[0;34m)\u001b[0m\u001b[0;34m\u001b[0m\u001b[0;34m\u001b[0m\u001b[0m\n\u001b[0m\u001b[1;32m     47\u001b[0m \u001b[0mpmf\u001b[0m \u001b[0;34m=\u001b[0m \u001b[0m_wraps\u001b[0m\u001b[0;34m(\u001b[0m\u001b[0mosp_stats\u001b[0m\u001b[0;34m.\u001b[0m\u001b[0mbetabinom\u001b[0m\u001b[0;34m.\u001b[0m\u001b[0mpmf\u001b[0m\u001b[0;34m,\u001b[0m \u001b[0mupdate_doc\u001b[0m\u001b[0;34m=\u001b[0m\u001b[0;32mFalse\u001b[0m\u001b[0;34m)\u001b[0m\u001b[0;34m(\u001b[0m\u001b[0mpmf\u001b[0m\u001b[0;34m)\u001b[0m\u001b[0;34m\u001b[0m\u001b[0;34m\u001b[0m\u001b[0m\n",
            "\u001b[0;31mAttributeError\u001b[0m: module 'scipy.stats' has no attribute 'betabinom'"
          ]
        }
      ]
    },
    {
      "cell_type": "code",
      "source": [
        "!pip install fid_score"
      ],
      "metadata": {
        "colab": {
          "base_uri": "https://localhost:8080/",
          "height": 482
        },
        "id": "SGM11C9QaU2J",
        "outputId": "418a8848-2ee9-4dbf-b9e1-b5263844907f"
      },
      "execution_count": null,
      "outputs": [
        {
          "output_type": "stream",
          "name": "stdout",
          "text": [
            "Looking in indexes: https://pypi.org/simple, https://us-python.pkg.dev/colab-wheels/public/simple/\n",
            "Collecting fid_score\n",
            "  Downloading fid_score-0.1.3-py3-none-any.whl (6.5 kB)\n",
            "Requirement already satisfied: pillow>=7.0.0 in /usr/local/lib/python3.7/dist-packages (from fid_score) (7.1.2)\n",
            "Collecting scipy==1.3.2\n",
            "  Downloading scipy-1.3.2-cp37-cp37m-manylinux1_x86_64.whl (25.2 MB)\n",
            "\u001b[K     |████████████████████████████████| 25.2 MB 4.1 MB/s \n",
            "\u001b[?25hRequirement already satisfied: numpy>=1.18.1 in /usr/local/lib/python3.7/dist-packages (from fid_score) (1.21.6)\n",
            "Installing collected packages: scipy, fid-score\n",
            "  Attempting uninstall: scipy\n",
            "    Found existing installation: scipy 1.7.3\n",
            "    Uninstalling scipy-1.7.3:\n",
            "      Successfully uninstalled scipy-1.7.3\n",
            "\u001b[31mERROR: pip's dependency resolver does not currently take into account all the packages that are installed. This behaviour is the source of the following dependency conflicts.\n",
            "pymc 4.1.4 requires scipy>=1.4.1, but you have scipy 1.3.2 which is incompatible.\n",
            "plotnine 0.8.0 requires scipy>=1.5.0, but you have scipy 1.3.2 which is incompatible.\n",
            "jaxlib 0.3.14+cuda11.cudnn805 requires scipy>=1.5, but you have scipy 1.3.2 which is incompatible.\n",
            "jax 0.3.14 requires scipy>=1.5, but you have scipy 1.3.2 which is incompatible.\n",
            "aeppl 0.0.33 requires scipy>=1.4.0, but you have scipy 1.3.2 which is incompatible.\u001b[0m\n",
            "Successfully installed fid-score-0.1.3 scipy-1.3.2\n"
          ]
        },
        {
          "output_type": "display_data",
          "data": {
            "application/vnd.colab-display-data+json": {
              "pip_warning": {
                "packages": [
                  "scipy"
                ]
              }
            }
          },
          "metadata": {}
        }
      ]
    },
    {
      "cell_type": "code",
      "source": [
        "from fid_score.fid_score import FidScore\n",
        "\n",
        "original_data_path = \"/content/drive/MyDrive/Freelancing/upwork/Mohammed Warsame/original_data\"\n",
        "generated_data_path = \"/content/drive/MyDrive/Freelancing/upwork/Mohammed Warsame/generator_data\"\n",
        "scores = [FidScore([original_data_path,generated_data_path], batch_size=64).calculate_fid_score() for i in range(1)]\n",
        "print(\"Scores:\")\n",
        "print(*range(1),sep=\"\\t\")\n",
        "print(*[f\"{score:.1f}\" for score in scores],sep=\"\\t\")\n"
      ],
      "metadata": {
        "colab": {
          "base_uri": "https://localhost:8080/"
        },
        "id": "khFi3WA3aCCQ",
        "outputId": "f3ff9723-4092-4e13-9713-fd2c907cfca7"
      },
      "execution_count": null,
      "outputs": [
        {
          "output_type": "stream",
          "name": "stderr",
          "text": [
            "/usr/local/lib/python3.7/dist-packages/torchvision/models/_utils.py:209: UserWarning: The parameter 'pretrained' is deprecated since 0.13 and will be removed in 0.15, please use 'weights' instead.\n",
            "  f\"The parameter '{pretrained_param}' is deprecated since 0.13 and will be removed in 0.15, \"\n",
            "/usr/local/lib/python3.7/dist-packages/torchvision/models/_utils.py:223: UserWarning: Arguments other than a weight enum or `None` for 'weights' are deprecated since 0.13 and will be removed in 0.15. The current behavior is equivalent to passing `weights=None`.\n",
            "  warnings.warn(msg)\n",
            "  0%|          | 0/26 [00:00<?, ?it/s]"
          ]
        },
        {
          "output_type": "stream",
          "name": "stdout",
          "text": [
            "\rPresent batch 1/64"
          ]
        },
        {
          "output_type": "stream",
          "name": "stderr",
          "text": [
            "\r  4%|▍         | 1/26 [00:07<02:56,  7.04s/it]"
          ]
        },
        {
          "output_type": "stream",
          "name": "stdout",
          "text": [
            "done\n",
            "\rPresent batch 65/64"
          ]
        },
        {
          "output_type": "stream",
          "name": "stderr",
          "text": [
            "\r  8%|▊         | 2/26 [00:13<02:38,  6.62s/it]"
          ]
        },
        {
          "output_type": "stream",
          "name": "stdout",
          "text": [
            "done\n",
            "\rPresent batch 129/64"
          ]
        },
        {
          "output_type": "stream",
          "name": "stderr",
          "text": [
            "\r 12%|█▏        | 3/26 [00:19<02:29,  6.51s/it]"
          ]
        },
        {
          "output_type": "stream",
          "name": "stdout",
          "text": [
            "done\n",
            "\rPresent batch 193/64"
          ]
        },
        {
          "output_type": "stream",
          "name": "stderr",
          "text": [
            "\r 15%|█▌        | 4/26 [00:26<02:21,  6.44s/it]"
          ]
        },
        {
          "output_type": "stream",
          "name": "stdout",
          "text": [
            "done\n",
            "\rPresent batch 257/64"
          ]
        },
        {
          "output_type": "stream",
          "name": "stderr",
          "text": [
            "\r 19%|█▉        | 5/26 [00:32<02:14,  6.39s/it]"
          ]
        },
        {
          "output_type": "stream",
          "name": "stdout",
          "text": [
            "done\n",
            "\rPresent batch 321/64"
          ]
        },
        {
          "output_type": "stream",
          "name": "stderr",
          "text": [
            "\r 23%|██▎       | 6/26 [00:38<02:06,  6.33s/it]"
          ]
        },
        {
          "output_type": "stream",
          "name": "stdout",
          "text": [
            "done\n",
            "\rPresent batch 385/64"
          ]
        },
        {
          "output_type": "stream",
          "name": "stderr",
          "text": [
            "\r 27%|██▋       | 7/26 [00:44<01:59,  6.31s/it]"
          ]
        },
        {
          "output_type": "stream",
          "name": "stdout",
          "text": [
            "done\n",
            "\rPresent batch 449/64"
          ]
        },
        {
          "output_type": "stream",
          "name": "stderr",
          "text": [
            "\r 31%|███       | 8/26 [00:51<01:53,  6.29s/it]"
          ]
        },
        {
          "output_type": "stream",
          "name": "stdout",
          "text": [
            "done\n",
            "\rPresent batch 513/64"
          ]
        },
        {
          "output_type": "stream",
          "name": "stderr",
          "text": [
            "\r 35%|███▍      | 9/26 [00:57<01:47,  6.31s/it]"
          ]
        },
        {
          "output_type": "stream",
          "name": "stdout",
          "text": [
            "done\n",
            "\rPresent batch 577/64"
          ]
        },
        {
          "output_type": "stream",
          "name": "stderr",
          "text": [
            "\r 38%|███▊      | 10/26 [01:03<01:39,  6.25s/it]"
          ]
        },
        {
          "output_type": "stream",
          "name": "stdout",
          "text": [
            "done\n",
            "\rPresent batch 641/64"
          ]
        },
        {
          "output_type": "stream",
          "name": "stderr",
          "text": [
            "\r 42%|████▏     | 11/26 [01:09<01:33,  6.24s/it]"
          ]
        },
        {
          "output_type": "stream",
          "name": "stdout",
          "text": [
            "done\n",
            "\rPresent batch 705/64"
          ]
        },
        {
          "output_type": "stream",
          "name": "stderr",
          "text": [
            "\r 46%|████▌     | 12/26 [01:15<01:27,  6.23s/it]"
          ]
        },
        {
          "output_type": "stream",
          "name": "stdout",
          "text": [
            "done\n",
            "\rPresent batch 769/64"
          ]
        },
        {
          "output_type": "stream",
          "name": "stderr",
          "text": [
            "\r 50%|█████     | 13/26 [01:22<01:20,  6.23s/it]"
          ]
        },
        {
          "output_type": "stream",
          "name": "stdout",
          "text": [
            "done\n",
            "\rPresent batch 833/64"
          ]
        },
        {
          "output_type": "stream",
          "name": "stderr",
          "text": [
            "\r 54%|█████▍    | 14/26 [01:28<01:14,  6.24s/it]"
          ]
        },
        {
          "output_type": "stream",
          "name": "stdout",
          "text": [
            "done\n",
            "\rPresent batch 897/64"
          ]
        }
      ]
    },
    {
      "cell_type": "code",
      "source": [
        "import torch\n",
        "from torch import nn\n",
        "from torch.autograd import Variable\n",
        "from torch.nn import functional as F\n",
        "import torch.utils.data\n",
        "\n",
        "from torchvision.models.inception import inception_v3\n",
        "\n",
        "import numpy as np\n",
        "from scipy.stats import entropy\n",
        "\n",
        "from glob import glob\n",
        "import cv2\n",
        "\n",
        "from tqdm import tqdm\n",
        "\n",
        "# https://github.com/eyalbetzalel/inception-score-pytorch/blob/master/inception_score.py\n",
        "def inception_score(imgs, batch_size=1):\n",
        "    \"\"\"Computes the inception score of the generated images imgs\n",
        "    imgs -- Torch dataset of (3xHxW) numpy images normalized in the range [-1, 1]\n",
        "    batch_size -- batch size for feeding into Inception v3\n",
        "    \"\"\"\n",
        "    N = len(imgs)\n",
        "\n",
        "    if torch.cuda.is_available():\n",
        "        dtype = torch.cuda.FloatTensor\n",
        "    else:\n",
        "        dtype = torch.FloatTensor\n",
        "\n",
        "    # Set up dataloader\n",
        "    dataloader = torch.utils.data.DataLoader(imgs, batch_size=batch_size)\n",
        "\n",
        "    # Load inception model\n",
        "    inception_model = inception_v3(pretrained=True, transform_input=False).type(dtype)\n",
        "    inception_model.eval();\n",
        "    up = nn.Upsample(size=(299, 299), mode='bilinear').type(dtype)\n",
        "    def get_pred(x):\n",
        "        x = inception_model(x)\n",
        "        return F.softmax(x).data.cpu().numpy()\n",
        "\n",
        "    # Get predictions\n",
        "    preds = np.zeros((N, 1000))\n",
        "\n",
        "    for i, batch in tqdm(enumerate(dataloader), total=len(dataloader)):\n",
        "        batch = batch.type(dtype)\n",
        "        batchv = Variable(batch)\n",
        "        batch_size_i = batch.size()[0]\n",
        "\n",
        "        preds[i*batch_size:i*batch_size + batch_size_i] = get_pred(batchv)\n",
        "\n",
        "    # Now compute the mean kl-div\n",
        "    py = np.mean(preds, axis=0)\n",
        "    scores = []\n",
        "    for i in range(preds.shape[0]):\n",
        "        pyx = preds[i, :]\n",
        "        scores.append(entropy(pyx, py))\n",
        "    return np.exp(np.mean(scores))\n",
        "\n",
        "imgs = torch.tensor([cv2.cvtColor(cv2.imread(file), cv2.COLOR_BGR2RGB) for file in glob(generated_data_path+\"/*.png\", recursive=True)])\n",
        "imgs = torch.permute(imgs, (0,3,1,2)) / 128 - 1\n",
        "inception_score(imgs)"
      ],
      "metadata": {
        "id": "m4SqBCO73SFH",
        "colab": {
          "base_uri": "https://localhost:8080/",
          "height": 1000
        },
        "outputId": "fbbe5fdb-71de-489f-ab50-1433840edb59"
      },
      "execution_count": null,
      "outputs": [
        {
          "output_type": "stream",
          "name": "stderr",
          "text": [
            "WARNING:tensorflow:No training configuration found in the save file, so the model was *not* compiled. Compile it manually.\n",
            "/usr/local/lib/python3.7/dist-packages/torchvision/models/_utils.py:209: UserWarning: The parameter 'pretrained' is deprecated since 0.13 and will be removed in 0.15, please use 'weights' instead.\n",
            "  f\"The parameter '{pretrained_param}' is deprecated since 0.13 and will be removed in 0.15, \"\n",
            "/usr/local/lib/python3.7/dist-packages/torchvision/models/_utils.py:223: UserWarning: Arguments other than a weight enum or `None` for 'weights' are deprecated since 0.13 and will be removed in 0.15. The current behavior is equivalent to passing `weights=None`.\n",
            "  warnings.warn(msg)\n",
            "  0%|          | 0/26 [00:00<?, ?it/s]"
          ]
        },
        {
          "output_type": "stream",
          "name": "stdout",
          "text": [
            "\rPresent batch 1/64"
          ]
        },
        {
          "output_type": "stream",
          "name": "stderr",
          "text": [
            "\r  4%|▍         | 1/26 [00:07<03:10,  7.61s/it]"
          ]
        },
        {
          "output_type": "stream",
          "name": "stdout",
          "text": [
            "done\n",
            "\rPresent batch 65/64"
          ]
        },
        {
          "output_type": "stream",
          "name": "stderr",
          "text": [
            "\r  8%|▊         | 2/26 [00:14<02:49,  7.07s/it]"
          ]
        },
        {
          "output_type": "stream",
          "name": "stdout",
          "text": [
            "done\n",
            "\rPresent batch 129/64"
          ]
        },
        {
          "output_type": "stream",
          "name": "stderr",
          "text": [
            "\r 12%|█▏        | 3/26 [00:21<02:39,  6.92s/it]"
          ]
        },
        {
          "output_type": "stream",
          "name": "stdout",
          "text": [
            "done\n",
            "\rPresent batch 193/64"
          ]
        },
        {
          "output_type": "stream",
          "name": "stderr",
          "text": [
            "\r 15%|█▌        | 4/26 [00:27<02:30,  6.86s/it]"
          ]
        },
        {
          "output_type": "stream",
          "name": "stdout",
          "text": [
            "done\n",
            "\rPresent batch 257/64"
          ]
        },
        {
          "output_type": "stream",
          "name": "stderr",
          "text": [
            "\r 19%|█▉        | 5/26 [00:34<02:23,  6.83s/it]"
          ]
        },
        {
          "output_type": "stream",
          "name": "stdout",
          "text": [
            "done\n",
            "\rPresent batch 321/64"
          ]
        },
        {
          "output_type": "stream",
          "name": "stderr",
          "text": [
            "\r 23%|██▎       | 6/26 [00:41<02:14,  6.75s/it]"
          ]
        },
        {
          "output_type": "stream",
          "name": "stdout",
          "text": [
            "done\n",
            "\rPresent batch 385/64"
          ]
        },
        {
          "output_type": "stream",
          "name": "stderr",
          "text": [
            "\r 27%|██▋       | 7/26 [00:47<02:08,  6.75s/it]"
          ]
        },
        {
          "output_type": "stream",
          "name": "stdout",
          "text": [
            "done\n",
            "\rPresent batch 449/64"
          ]
        },
        {
          "output_type": "stream",
          "name": "stderr",
          "text": [
            "\r 31%|███       | 8/26 [00:54<01:59,  6.65s/it]"
          ]
        },
        {
          "output_type": "stream",
          "name": "stdout",
          "text": [
            "done\n",
            "\rPresent batch 513/64"
          ]
        },
        {
          "output_type": "stream",
          "name": "stderr",
          "text": [
            "\r 35%|███▍      | 9/26 [01:00<01:52,  6.64s/it]"
          ]
        },
        {
          "output_type": "stream",
          "name": "stdout",
          "text": [
            "done\n",
            "\rPresent batch 577/64"
          ]
        },
        {
          "output_type": "stream",
          "name": "stderr",
          "text": [
            "\r 38%|███▊      | 10/26 [01:07<01:45,  6.62s/it]"
          ]
        },
        {
          "output_type": "stream",
          "name": "stdout",
          "text": [
            "done\n",
            "\rPresent batch 641/64"
          ]
        },
        {
          "output_type": "stream",
          "name": "stderr",
          "text": [
            "\r 42%|████▏     | 11/26 [01:14<01:39,  6.63s/it]"
          ]
        },
        {
          "output_type": "stream",
          "name": "stdout",
          "text": [
            "done\n",
            "\rPresent batch 705/64"
          ]
        },
        {
          "output_type": "stream",
          "name": "stderr",
          "text": [
            "\r 46%|████▌     | 12/26 [01:20<01:32,  6.61s/it]"
          ]
        },
        {
          "output_type": "stream",
          "name": "stdout",
          "text": [
            "done\n",
            "\rPresent batch 769/64"
          ]
        },
        {
          "output_type": "stream",
          "name": "stderr",
          "text": [
            "\r 50%|█████     | 13/26 [01:27<01:26,  6.64s/it]"
          ]
        },
        {
          "output_type": "stream",
          "name": "stdout",
          "text": [
            "done\n",
            "\rPresent batch 833/64"
          ]
        },
        {
          "output_type": "stream",
          "name": "stderr",
          "text": [
            "\r 54%|█████▍    | 14/26 [01:34<01:19,  6.61s/it]"
          ]
        },
        {
          "output_type": "stream",
          "name": "stdout",
          "text": [
            "done\n",
            "\rPresent batch 897/64"
          ]
        },
        {
          "output_type": "stream",
          "name": "stderr",
          "text": [
            "\r 58%|█████▊    | 15/26 [01:40<01:12,  6.61s/it]"
          ]
        },
        {
          "output_type": "stream",
          "name": "stdout",
          "text": [
            "done\n",
            "\rPresent batch 961/64"
          ]
        },
        {
          "output_type": "stream",
          "name": "stderr",
          "text": [
            "\r 62%|██████▏   | 16/26 [01:47<01:06,  6.61s/it]"
          ]
        },
        {
          "output_type": "stream",
          "name": "stdout",
          "text": [
            "done\n",
            "\rPresent batch 1025/64"
          ]
        },
        {
          "output_type": "stream",
          "name": "stderr",
          "text": [
            "\r 65%|██████▌   | 17/26 [01:53<00:59,  6.61s/it]"
          ]
        },
        {
          "output_type": "stream",
          "name": "stdout",
          "text": [
            "done\n",
            "\rPresent batch 1089/64"
          ]
        },
        {
          "output_type": "stream",
          "name": "stderr",
          "text": [
            "\r 69%|██████▉   | 18/26 [02:00<00:52,  6.60s/it]"
          ]
        },
        {
          "output_type": "stream",
          "name": "stdout",
          "text": [
            "done\n",
            "\rPresent batch 1153/64"
          ]
        },
        {
          "output_type": "stream",
          "name": "stderr",
          "text": [
            "\r 73%|███████▎  | 19/26 [02:06<00:46,  6.59s/it]"
          ]
        },
        {
          "output_type": "stream",
          "name": "stdout",
          "text": [
            "done\n",
            "\rPresent batch 1217/64"
          ]
        },
        {
          "output_type": "stream",
          "name": "stderr",
          "text": [
            "\r 77%|███████▋  | 20/26 [02:13<00:39,  6.58s/it]"
          ]
        },
        {
          "output_type": "stream",
          "name": "stdout",
          "text": [
            "done\n",
            "\rPresent batch 1281/64"
          ]
        },
        {
          "output_type": "stream",
          "name": "stderr",
          "text": [
            "\r 81%|████████  | 21/26 [02:20<00:33,  6.62s/it]"
          ]
        },
        {
          "output_type": "stream",
          "name": "stdout",
          "text": [
            "done\n",
            "\rPresent batch 1345/64"
          ]
        },
        {
          "output_type": "stream",
          "name": "stderr",
          "text": [
            "\r 85%|████████▍ | 22/26 [02:26<00:26,  6.60s/it]"
          ]
        },
        {
          "output_type": "stream",
          "name": "stdout",
          "text": [
            "done\n",
            "\rPresent batch 1409/64"
          ]
        },
        {
          "output_type": "stream",
          "name": "stderr",
          "text": [
            "\r 88%|████████▊ | 23/26 [02:33<00:19,  6.63s/it]"
          ]
        },
        {
          "output_type": "stream",
          "name": "stdout",
          "text": [
            "done\n",
            "\rPresent batch 1473/64"
          ]
        },
        {
          "output_type": "stream",
          "name": "stderr",
          "text": [
            "\r 92%|█████████▏| 24/26 [02:40<00:13,  6.63s/it]"
          ]
        },
        {
          "output_type": "stream",
          "name": "stdout",
          "text": [
            "done\n",
            "\rPresent batch 1537/64"
          ]
        },
        {
          "output_type": "stream",
          "name": "stderr",
          "text": [
            "\r 96%|█████████▌| 25/26 [02:46<00:06,  6.64s/it]"
          ]
        },
        {
          "output_type": "stream",
          "name": "stdout",
          "text": [
            "done\n",
            "\rPresent batch 1601/64"
          ]
        },
        {
          "output_type": "stream",
          "name": "stderr",
          "text": [
            "100%|██████████| 26/26 [02:51<00:00,  6.59s/it]\n"
          ]
        },
        {
          "output_type": "stream",
          "name": "stdout",
          "text": [
            "done\n"
          ]
        },
        {
          "output_type": "stream",
          "name": "stderr",
          "text": [
            "\r  0%|          | 0/2 [00:00<?, ?it/s]"
          ]
        },
        {
          "output_type": "stream",
          "name": "stdout",
          "text": [
            "\rPresent batch 1/64"
          ]
        },
        {
          "output_type": "stream",
          "name": "stderr",
          "text": [
            "\r 50%|█████     | 1/2 [00:06<00:06,  6.42s/it]"
          ]
        },
        {
          "output_type": "stream",
          "name": "stdout",
          "text": [
            "done\n",
            "\rPresent batch 65/64"
          ]
        },
        {
          "output_type": "stream",
          "name": "stderr",
          "text": [
            "100%|██████████| 2/2 [00:10<00:00,  5.03s/it]"
          ]
        },
        {
          "output_type": "stream",
          "name": "stdout",
          "text": [
            "done\n"
          ]
        },
        {
          "output_type": "stream",
          "name": "stderr",
          "text": [
            "\n"
          ]
        },
        {
          "output_type": "error",
          "ename": "TypeError",
          "evalue": "ignored",
          "traceback": [
            "\u001b[0;31m---------------------------------------------------------------------------\u001b[0m",
            "\u001b[0;31mTypeError\u001b[0m                                 Traceback (most recent call last)",
            "\u001b[0;32m<ipython-input-11-6fb65f3fa5b7>\u001b[0m in \u001b[0;36m<module>\u001b[0;34m\u001b[0m\n\u001b[1;32m     35\u001b[0m   \u001b[0;32mreturn\u001b[0m \u001b[0mfid_score\u001b[0m\u001b[0;34m,\u001b[0m \u001b[0mis_score\u001b[0m\u001b[0;34m\u001b[0m\u001b[0;34m\u001b[0m\u001b[0m\n\u001b[1;32m     36\u001b[0m \u001b[0;34m\u001b[0m\u001b[0m\n\u001b[0;32m---> 37\u001b[0;31m \u001b[0mfid_score\u001b[0m\u001b[0;34m,\u001b[0m \u001b[0mis_score\u001b[0m \u001b[0;34m=\u001b[0m \u001b[0mload_cgan_and_calculate_fid_and_is\u001b[0m\u001b[0;34m(\u001b[0m\u001b[0mpath\u001b[0m\u001b[0;34m,\u001b[0m \u001b[0moutput_image_path\u001b[0m\u001b[0;34m)\u001b[0m\u001b[0;34m\u001b[0m\u001b[0;34m\u001b[0m\u001b[0m\n\u001b[0m\u001b[1;32m     38\u001b[0m \u001b[0;34m\u001b[0m\u001b[0m\n\u001b[1;32m     39\u001b[0m \u001b[0mprint\u001b[0m\u001b[0;34m(\u001b[0m\u001b[0;34m\"FID Score: {}\"\u001b[0m\u001b[0;34m.\u001b[0m\u001b[0mformat\u001b[0m\u001b[0;34m(\u001b[0m\u001b[0mfid_score\u001b[0m\u001b[0;34m)\u001b[0m\u001b[0;34m)\u001b[0m\u001b[0;34m\u001b[0m\u001b[0;34m\u001b[0m\u001b[0m\n",
            "\u001b[0;32m<ipython-input-11-6fb65f3fa5b7>\u001b[0m in \u001b[0;36mload_cgan_and_calculate_fid_and_is\u001b[0;34m(model_path, output_path, num_of_images_per_class)\u001b[0m\n\u001b[1;32m     29\u001b[0m   \u001b[0mfid_score\u001b[0m \u001b[0;34m=\u001b[0m \u001b[0mFidScore\u001b[0m\u001b[0;34m(\u001b[0m\u001b[0;34m[\u001b[0m\u001b[0moriginal_data_path\u001b[0m\u001b[0;34m,\u001b[0m\u001b[0mgenerated_data_path\u001b[0m\u001b[0;34m]\u001b[0m\u001b[0;34m,\u001b[0m \u001b[0mbatch_size\u001b[0m\u001b[0;34m=\u001b[0m\u001b[0;36m64\u001b[0m\u001b[0;34m)\u001b[0m\u001b[0;34m.\u001b[0m\u001b[0mcalculate_fid_score\u001b[0m\u001b[0;34m(\u001b[0m\u001b[0;34m)\u001b[0m\u001b[0;34m\u001b[0m\u001b[0;34m\u001b[0m\u001b[0m\n\u001b[1;32m     30\u001b[0m   \u001b[0mtorch\u001b[0m\u001b[0;34m.\u001b[0m\u001b[0mcuda\u001b[0m\u001b[0;34m.\u001b[0m\u001b[0mempty_cache\u001b[0m\u001b[0;34m(\u001b[0m\u001b[0;34m)\u001b[0m\u001b[0;34m\u001b[0m\u001b[0;34m\u001b[0m\u001b[0m\n\u001b[0;32m---> 31\u001b[0;31m   \u001b[0mimgs\u001b[0m \u001b[0;34m=\u001b[0m \u001b[0mtorch\u001b[0m\u001b[0;34m.\u001b[0m\u001b[0mtensor\u001b[0m\u001b[0;34m(\u001b[0m\u001b[0;34m[\u001b[0m\u001b[0mcv2\u001b[0m\u001b[0;34m.\u001b[0m\u001b[0mcvtColor\u001b[0m\u001b[0;34m(\u001b[0m\u001b[0mcv2\u001b[0m\u001b[0;34m.\u001b[0m\u001b[0mimread\u001b[0m\u001b[0;34m(\u001b[0m\u001b[0mfile\u001b[0m\u001b[0;34m)\u001b[0m\u001b[0;34m,\u001b[0m \u001b[0mcv2\u001b[0m\u001b[0;34m.\u001b[0m\u001b[0mCOLOR_BGR2RGB\u001b[0m\u001b[0;34m)\u001b[0m \u001b[0;32mfor\u001b[0m \u001b[0mfile\u001b[0m \u001b[0;32min\u001b[0m \u001b[0mglob\u001b[0m\u001b[0;34m(\u001b[0m\u001b[0mgenerated_data_path\u001b[0m\u001b[0;34m+\u001b[0m\u001b[0;34m\"/*.png\"\u001b[0m\u001b[0;34m,\u001b[0m \u001b[0mrecursive\u001b[0m\u001b[0;34m=\u001b[0m\u001b[0;32mTrue\u001b[0m\u001b[0;34m)\u001b[0m\u001b[0;34m]\u001b[0m\u001b[0;34m)\u001b[0m\u001b[0;34m\u001b[0m\u001b[0;34m\u001b[0m\u001b[0m\n\u001b[0m\u001b[1;32m     32\u001b[0m   \u001b[0mimgs\u001b[0m \u001b[0;34m=\u001b[0m \u001b[0mtorch\u001b[0m\u001b[0;34m.\u001b[0m\u001b[0mpermute\u001b[0m\u001b[0;34m(\u001b[0m\u001b[0mimgs\u001b[0m\u001b[0;34m,\u001b[0m \u001b[0;34m(\u001b[0m\u001b[0;36m0\u001b[0m\u001b[0;34m,\u001b[0m\u001b[0;36m3\u001b[0m\u001b[0;34m,\u001b[0m\u001b[0;36m1\u001b[0m\u001b[0;34m,\u001b[0m\u001b[0;36m2\u001b[0m\u001b[0;34m)\u001b[0m\u001b[0;34m)\u001b[0m \u001b[0;34m/\u001b[0m \u001b[0;36m128\u001b[0m \u001b[0;34m-\u001b[0m \u001b[0;36m1\u001b[0m\u001b[0;34m\u001b[0m\u001b[0;34m\u001b[0m\u001b[0m\n\u001b[1;32m     33\u001b[0m   \u001b[0mis_score\u001b[0m \u001b[0;34m=\u001b[0m \u001b[0minception_score\u001b[0m\u001b[0;34m(\u001b[0m\u001b[0mimgs\u001b[0m\u001b[0;34m)\u001b[0m\u001b[0;34m\u001b[0m\u001b[0;34m\u001b[0m\u001b[0m\n",
            "\u001b[0;31mTypeError\u001b[0m: 'module' object is not callable"
          ]
        }
      ]
    },
    {
      "cell_type": "code",
      "source": [
        "from fid_score.fid_score import FidScore\n",
        "[FidScore([original_data_path,generated_data_path], batch_size=64).calculate_fid_score() for i in range(1)]"
      ],
      "metadata": {
        "id": "R5aPYXRoCwtB"
      },
      "execution_count": null,
      "outputs": []
    },
    {
      "cell_type": "code",
      "source": [
        "!rm -r \"/content/drive/MyDrive/Freelancing/upwork/Mohammed Warsame/original_data_gray\""
      ],
      "metadata": {
        "id": "MjF154fiE8l0"
      },
      "execution_count": null,
      "outputs": []
    },
    {
      "cell_type": "code",
      "source": [
        "from glob import glob\n",
        "\n",
        "for x in glob(generated_data_path):\n",
        "  print(cv2.imread(x).shape)"
      ],
      "metadata": {
        "colab": {
          "base_uri": "https://localhost:8080/",
          "height": 1000
        },
        "id": "kWyTpdE8FVqK",
        "outputId": "f9062b49-236e-4824-93f4-cf5fc7a3ad58"
      },
      "execution_count": null,
      "outputs": [
        {
          "output_type": "stream",
          "name": "stdout",
          "text": [
            "(512, 512, 3)\n",
            "(512, 512, 3)\n",
            "(512, 512, 3)\n",
            "(512, 512, 3)\n",
            "(512, 512, 3)\n",
            "(512, 512, 3)\n",
            "(512, 512, 3)\n",
            "(512, 512, 3)\n",
            "(512, 512, 3)\n",
            "(512, 512, 3)\n",
            "(512, 512, 3)\n",
            "(512, 512, 3)\n",
            "(512, 512, 3)\n",
            "(512, 512, 3)\n",
            "(512, 512, 3)\n",
            "(512, 512, 3)\n",
            "(512, 512, 3)\n",
            "(512, 512, 3)\n",
            "(512, 512, 3)\n",
            "(512, 512, 3)\n",
            "(512, 512, 3)\n",
            "(512, 512, 3)\n",
            "(512, 512, 3)\n",
            "(512, 512, 3)\n",
            "(512, 512, 3)\n",
            "(512, 512, 3)\n",
            "(512, 512, 3)\n",
            "(512, 512, 3)\n",
            "(512, 512, 3)\n",
            "(512, 512, 3)\n",
            "(512, 512, 3)\n",
            "(512, 512, 3)\n",
            "(512, 512, 3)\n",
            "(512, 512, 3)\n",
            "(512, 512, 3)\n",
            "(512, 512, 3)\n",
            "(512, 512, 3)\n",
            "(512, 512, 3)\n",
            "(512, 512, 3)\n",
            "(512, 512, 3)\n",
            "(512, 512, 3)\n",
            "(512, 512, 3)\n",
            "(512, 512, 3)\n",
            "(512, 512, 3)\n",
            "(512, 512, 3)\n",
            "(512, 512, 3)\n",
            "(512, 512, 3)\n",
            "(512, 512, 3)\n",
            "(512, 512, 3)\n",
            "(512, 512, 3)\n",
            "(512, 512, 3)\n",
            "(512, 512, 3)\n",
            "(512, 512, 3)\n",
            "(512, 512, 3)\n",
            "(512, 512, 3)\n",
            "(512, 512, 3)\n",
            "(512, 512, 3)\n",
            "(512, 512, 3)\n",
            "(512, 512, 3)\n",
            "(512, 512, 3)\n",
            "(512, 512, 3)\n",
            "(512, 512, 3)\n",
            "(512, 512, 3)\n",
            "(512, 512, 3)\n",
            "(512, 512, 3)\n",
            "(512, 512, 3)\n",
            "(512, 512, 3)\n",
            "(512, 512, 3)\n",
            "(512, 512, 3)\n",
            "(512, 512, 3)\n",
            "(512, 512, 3)\n",
            "(512, 512, 3)\n",
            "(512, 512, 3)\n",
            "(512, 512, 3)\n",
            "(512, 512, 3)\n",
            "(512, 512, 3)\n",
            "(512, 512, 3)\n",
            "(512, 512, 3)\n",
            "(512, 512, 3)\n",
            "(512, 512, 3)\n",
            "(512, 512, 3)\n",
            "(512, 512, 3)\n",
            "(512, 512, 3)\n",
            "(512, 512, 3)\n",
            "(512, 512, 3)\n",
            "(512, 512, 3)\n",
            "(512, 512, 3)\n",
            "(512, 512, 3)\n",
            "(512, 512, 3)\n",
            "(512, 512, 3)\n",
            "(512, 512, 3)\n",
            "(512, 512, 3)\n",
            "(512, 512, 3)\n",
            "(512, 512, 3)\n",
            "(512, 512, 3)\n",
            "(512, 512, 3)\n",
            "(512, 512, 3)\n",
            "(512, 512, 3)\n",
            "(512, 512, 3)\n",
            "(512, 512, 3)\n",
            "(512, 512, 3)\n",
            "(512, 512, 3)\n",
            "(512, 512, 3)\n",
            "(512, 512, 3)\n",
            "(512, 512, 3)\n",
            "(512, 512, 3)\n",
            "(512, 512, 3)\n",
            "(512, 512, 3)\n",
            "(512, 512, 3)\n",
            "(512, 512, 3)\n",
            "(512, 512, 3)\n",
            "(512, 512, 3)\n",
            "(512, 512, 3)\n",
            "(512, 512, 3)\n",
            "(512, 512, 3)\n",
            "(512, 512, 3)\n",
            "(512, 512, 3)\n",
            "(512, 512, 3)\n",
            "(512, 512, 3)\n",
            "(512, 512, 3)\n",
            "(512, 512, 3)\n",
            "(512, 512, 3)\n",
            "(512, 512, 3)\n",
            "(512, 512, 3)\n",
            "(512, 512, 3)\n",
            "(512, 512, 3)\n",
            "(512, 512, 3)\n",
            "(512, 512, 3)\n",
            "(512, 512, 3)\n",
            "(512, 512, 3)\n",
            "(512, 512, 3)\n",
            "(512, 512, 3)\n",
            "(512, 512, 3)\n",
            "(512, 512, 3)\n",
            "(512, 512, 3)\n",
            "(512, 512, 3)\n",
            "(512, 512, 3)\n",
            "(512, 512, 3)\n",
            "(512, 512, 3)\n",
            "(512, 512, 3)\n",
            "(512, 512, 3)\n",
            "(512, 512, 3)\n",
            "(512, 512, 3)\n",
            "(512, 512, 3)\n",
            "(512, 512, 3)\n",
            "(512, 512, 3)\n",
            "(512, 512, 3)\n",
            "(512, 512, 3)\n",
            "(512, 512, 3)\n",
            "(512, 512, 3)\n",
            "(512, 512, 3)\n",
            "(512, 512, 3)\n",
            "(512, 512, 3)\n",
            "(512, 512, 3)\n",
            "(512, 512, 3)\n",
            "(512, 512, 3)\n",
            "(512, 512, 3)\n",
            "(512, 512, 3)\n",
            "(512, 512, 3)\n",
            "(512, 512, 3)\n",
            "(512, 512, 3)\n",
            "(512, 512, 3)\n",
            "(512, 512, 3)\n",
            "(512, 512, 3)\n",
            "(512, 512, 3)\n",
            "(512, 512, 3)\n",
            "(512, 512, 3)\n",
            "(512, 512, 3)\n",
            "(512, 512, 3)\n",
            "(512, 512, 3)\n",
            "(512, 512, 3)\n",
            "(512, 512, 3)\n",
            "(512, 512, 3)\n",
            "(512, 512, 3)\n",
            "(512, 512, 3)\n",
            "(512, 512, 3)\n",
            "(512, 512, 3)\n",
            "(512, 512, 3)\n",
            "(512, 512, 3)\n",
            "(512, 512, 3)\n",
            "(512, 512, 3)\n",
            "(512, 512, 3)\n",
            "(512, 512, 3)\n",
            "(512, 512, 3)\n",
            "(512, 512, 3)\n",
            "(512, 512, 3)\n",
            "(512, 512, 3)\n",
            "(512, 512, 3)\n",
            "(512, 512, 3)\n",
            "(512, 512, 3)\n",
            "(512, 512, 3)\n",
            "(512, 512, 3)\n",
            "(512, 512, 3)\n",
            "(512, 512, 3)\n",
            "(512, 512, 3)\n",
            "(512, 512, 3)\n",
            "(512, 512, 3)\n",
            "(512, 512, 3)\n",
            "(512, 512, 3)\n",
            "(512, 512, 3)\n",
            "(512, 512, 3)\n",
            "(512, 512, 3)\n",
            "(512, 512, 3)\n",
            "(512, 512, 3)\n",
            "(512, 512, 3)\n",
            "(512, 512, 3)\n",
            "(512, 512, 3)\n",
            "(512, 512, 3)\n",
            "(512, 512, 3)\n",
            "(512, 512, 3)\n",
            "(512, 512, 3)\n",
            "(512, 512, 3)\n",
            "(512, 512, 3)\n",
            "(512, 512, 3)\n",
            "(512, 512, 3)\n",
            "(512, 512, 3)\n",
            "(512, 512, 3)\n",
            "(512, 512, 3)\n",
            "(512, 512, 3)\n",
            "(512, 512, 3)\n",
            "(512, 512, 3)\n",
            "(512, 512, 3)\n",
            "(512, 512, 3)\n",
            "(512, 512, 3)\n",
            "(512, 512, 3)\n",
            "(512, 512, 3)\n",
            "(512, 512, 3)\n",
            "(512, 512, 3)\n",
            "(512, 512, 3)\n",
            "(512, 512, 3)\n",
            "(512, 512, 3)\n",
            "(512, 512, 3)\n",
            "(512, 512, 3)\n",
            "(512, 512, 3)\n",
            "(512, 512, 3)\n",
            "(512, 512, 3)\n",
            "(512, 512, 3)\n",
            "(512, 512, 3)\n",
            "(512, 512, 3)\n",
            "(512, 512, 3)\n",
            "(512, 512, 3)\n",
            "(512, 512, 3)\n",
            "(512, 512, 3)\n",
            "(512, 512, 3)\n",
            "(512, 512, 3)\n",
            "(512, 512, 3)\n",
            "(512, 512, 3)\n",
            "(512, 512, 3)\n",
            "(512, 512, 3)\n",
            "(512, 512, 3)\n",
            "(512, 512, 3)\n",
            "(512, 512, 3)\n",
            "(512, 512, 3)\n",
            "(512, 512, 3)\n",
            "(512, 512, 3)\n",
            "(512, 512, 3)\n",
            "(512, 512, 3)\n",
            "(512, 512, 3)\n",
            "(512, 512, 3)\n",
            "(512, 512, 3)\n",
            "(512, 512, 3)\n",
            "(512, 512, 3)\n",
            "(512, 512, 3)\n",
            "(512, 512, 3)\n",
            "(512, 512, 3)\n",
            "(512, 512, 3)\n",
            "(512, 512, 3)\n",
            "(512, 512, 3)\n",
            "(512, 512, 3)\n",
            "(512, 512, 3)\n",
            "(512, 512, 3)\n",
            "(512, 512, 3)\n",
            "(512, 512, 3)\n",
            "(512, 512, 3)\n",
            "(512, 512, 3)\n",
            "(512, 512, 3)\n",
            "(512, 512, 3)\n",
            "(512, 512, 3)\n",
            "(512, 512, 3)\n",
            "(512, 512, 3)\n",
            "(512, 512, 3)\n",
            "(512, 512, 3)\n",
            "(512, 512, 3)\n",
            "(512, 512, 3)\n",
            "(512, 512, 3)\n",
            "(512, 512, 3)\n",
            "(512, 512, 3)\n",
            "(512, 512, 3)\n",
            "(512, 512, 3)\n",
            "(512, 512, 3)\n",
            "(512, 512, 3)\n",
            "(512, 512, 3)\n",
            "(512, 512, 3)\n",
            "(512, 512, 3)\n",
            "(512, 512, 3)\n",
            "(512, 512, 3)\n",
            "(512, 512, 3)\n",
            "(512, 512, 3)\n",
            "(512, 512, 3)\n",
            "(512, 512, 3)\n",
            "(512, 512, 3)\n",
            "(512, 512, 3)\n",
            "(512, 512, 3)\n",
            "(512, 512, 3)\n",
            "(512, 512, 3)\n",
            "(512, 512, 3)\n",
            "(512, 512, 3)\n",
            "(512, 512, 3)\n",
            "(512, 512, 3)\n",
            "(512, 512, 3)\n",
            "(512, 512, 3)\n",
            "(512, 512, 3)\n",
            "(512, 512, 3)\n",
            "(512, 512, 3)\n",
            "(512, 512, 3)\n",
            "(512, 512, 3)\n",
            "(512, 512, 3)\n",
            "(512, 512, 3)\n",
            "(512, 512, 3)\n",
            "(512, 512, 3)\n",
            "(512, 512, 3)\n",
            "(512, 512, 3)\n",
            "(512, 512, 3)\n",
            "(512, 512, 3)\n",
            "(512, 512, 3)\n",
            "(512, 512, 3)\n",
            "(512, 512, 3)\n",
            "(512, 512, 3)\n",
            "(512, 512, 3)\n",
            "(512, 512, 3)\n",
            "(512, 512, 3)\n",
            "(512, 512, 3)\n",
            "(512, 512, 3)\n",
            "(512, 512, 3)\n",
            "(512, 512, 3)\n",
            "(512, 512, 3)\n",
            "(512, 512, 3)\n",
            "(512, 512, 3)\n",
            "(512, 512, 3)\n",
            "(512, 512, 3)\n",
            "(512, 512, 3)\n",
            "(512, 512, 3)\n",
            "(512, 512, 3)\n",
            "(512, 512, 3)\n",
            "(512, 512, 3)\n",
            "(512, 512, 3)\n",
            "(512, 512, 3)\n",
            "(512, 512, 3)\n",
            "(512, 512, 3)\n",
            "(512, 512, 3)\n",
            "(512, 512, 3)\n",
            "(512, 512, 3)\n",
            "(512, 512, 3)\n",
            "(512, 512, 3)\n",
            "(512, 512, 3)\n",
            "(512, 512, 3)\n",
            "(512, 512, 3)\n",
            "(512, 512, 3)\n",
            "(512, 512, 3)\n",
            "(512, 512, 3)\n",
            "(512, 512, 3)\n",
            "(512, 512, 3)\n",
            "(512, 512, 3)\n",
            "(512, 512, 3)\n",
            "(512, 512, 3)\n",
            "(512, 512, 3)\n",
            "(512, 512, 3)\n",
            "(512, 512, 3)\n",
            "(512, 512, 3)\n",
            "(512, 512, 3)\n",
            "(512, 512, 3)\n",
            "(512, 512, 3)\n",
            "(512, 512, 3)\n",
            "(512, 512, 3)\n",
            "(512, 512, 3)\n",
            "(512, 512, 3)\n",
            "(512, 512, 3)\n",
            "(512, 512, 3)\n",
            "(512, 512, 3)\n",
            "(512, 512, 3)\n",
            "(512, 512, 3)\n",
            "(512, 512, 3)\n",
            "(512, 512, 3)\n",
            "(512, 512, 3)\n",
            "(512, 512, 3)\n",
            "(512, 512, 3)\n",
            "(512, 512, 3)\n",
            "(512, 512, 3)\n",
            "(512, 512, 3)\n",
            "(512, 512, 3)\n",
            "(512, 512, 3)\n",
            "(512, 512, 3)\n",
            "(512, 512, 3)\n",
            "(512, 512, 3)\n",
            "(512, 512, 3)\n",
            "(512, 512, 3)\n",
            "(512, 512, 3)\n",
            "(512, 512, 3)\n",
            "(512, 512, 3)\n",
            "(512, 512, 3)\n",
            "(512, 512, 3)\n",
            "(512, 512, 3)\n",
            "(512, 512, 3)\n",
            "(512, 512, 3)\n",
            "(512, 512, 3)\n",
            "(512, 512, 3)\n",
            "(512, 512, 3)\n",
            "(512, 512, 3)\n",
            "(512, 512, 3)\n",
            "(512, 512, 3)\n",
            "(512, 512, 3)\n",
            "(512, 512, 3)\n",
            "(512, 512, 3)\n",
            "(512, 512, 3)\n",
            "(512, 512, 3)\n",
            "(512, 512, 3)\n",
            "(512, 512, 3)\n",
            "(512, 512, 3)\n",
            "(512, 512, 3)\n",
            "(512, 512, 3)\n",
            "(512, 512, 3)\n",
            "(512, 512, 3)\n",
            "(512, 512, 3)\n",
            "(512, 512, 3)\n",
            "(512, 512, 3)\n",
            "(512, 512, 3)\n",
            "(512, 512, 3)\n",
            "(512, 512, 3)\n",
            "(512, 512, 3)\n",
            "(512, 512, 3)\n",
            "(512, 512, 3)\n",
            "(512, 512, 3)\n",
            "(512, 512, 3)\n",
            "(512, 512, 3)\n",
            "(512, 512, 3)\n",
            "(512, 512, 3)\n",
            "(512, 512, 3)\n",
            "(512, 512, 3)\n",
            "(512, 512, 3)\n",
            "(512, 512, 3)\n",
            "(512, 512, 3)\n",
            "(512, 512, 3)\n",
            "(512, 512, 3)\n",
            "(512, 512, 3)\n",
            "(512, 512, 3)\n",
            "(512, 512, 3)\n",
            "(512, 512, 3)\n",
            "(512, 512, 3)\n",
            "(512, 512, 3)\n",
            "(512, 512, 3)\n",
            "(512, 512, 3)\n",
            "(512, 512, 3)\n",
            "(512, 512, 3)\n",
            "(512, 512, 3)\n",
            "(512, 512, 3)\n",
            "(512, 512, 3)\n",
            "(512, 512, 3)\n",
            "(512, 512, 3)\n",
            "(512, 512, 3)\n",
            "(512, 512, 3)\n",
            "(512, 512, 3)\n",
            "(512, 512, 3)\n",
            "(512, 512, 3)\n",
            "(512, 512, 3)\n",
            "(512, 512, 3)\n",
            "(512, 512, 3)\n",
            "(512, 512, 3)\n",
            "(512, 512, 3)\n",
            "(512, 512, 3)\n",
            "(512, 512, 3)\n",
            "(512, 512, 3)\n",
            "(512, 512, 3)\n",
            "(512, 512, 3)\n",
            "(512, 512, 3)\n",
            "(512, 512, 3)\n",
            "(512, 512, 3)\n",
            "(512, 512, 3)\n",
            "(512, 512, 3)\n",
            "(512, 512, 3)\n",
            "(512, 512, 3)\n",
            "(512, 512, 3)\n",
            "(512, 512, 3)\n",
            "(512, 512, 3)\n",
            "(512, 512, 3)\n",
            "(512, 512, 3)\n",
            "(512, 512, 3)\n",
            "(512, 512, 3)\n",
            "(512, 512, 3)\n",
            "(512, 512, 3)\n",
            "(512, 512, 3)\n",
            "(512, 512, 3)\n",
            "(512, 512, 3)\n",
            "(512, 512, 3)\n",
            "(512, 512, 3)\n",
            "(512, 512, 3)\n",
            "(512, 512, 3)\n",
            "(512, 512, 3)\n",
            "(512, 512, 3)\n",
            "(512, 512, 3)\n",
            "(512, 512, 3)\n",
            "(512, 512, 3)\n",
            "(512, 512, 3)\n",
            "(512, 512, 3)\n",
            "(512, 512, 3)\n",
            "(512, 512, 3)\n",
            "(512, 512, 3)\n",
            "(512, 512, 3)\n",
            "(512, 512, 3)\n",
            "(512, 512, 3)\n",
            "(512, 512, 3)\n",
            "(512, 512, 3)\n",
            "(512, 512, 3)\n",
            "(512, 512, 3)\n",
            "(512, 512, 3)\n",
            "(512, 512, 3)\n",
            "(512, 512, 3)\n",
            "(512, 512, 3)\n",
            "(512, 512, 3)\n",
            "(512, 512, 3)\n",
            "(512, 512, 3)\n",
            "(512, 512, 3)\n",
            "(512, 512, 3)\n",
            "(512, 512, 3)\n",
            "(512, 512, 3)\n",
            "(512, 512, 3)\n",
            "(512, 512, 3)\n",
            "(512, 512, 3)\n",
            "(512, 512, 3)\n",
            "(512, 512, 3)\n",
            "(512, 512, 3)\n",
            "(512, 512, 3)\n",
            "(512, 512, 3)\n",
            "(512, 512, 3)\n",
            "(512, 512, 3)\n",
            "(512, 512, 3)\n",
            "(512, 512, 3)\n",
            "(512, 512, 3)\n",
            "(512, 512, 3)\n",
            "(512, 512, 3)\n",
            "(512, 512, 3)\n",
            "(512, 512, 3)\n",
            "(512, 512, 3)\n",
            "(512, 512, 3)\n",
            "(512, 512, 3)\n",
            "(512, 512, 3)\n",
            "(512, 512, 3)\n",
            "(512, 512, 3)\n",
            "(512, 512, 3)\n",
            "(512, 512, 3)\n",
            "(512, 512, 3)\n",
            "(512, 512, 3)\n",
            "(512, 512, 3)\n",
            "(512, 512, 3)\n",
            "(512, 512, 3)\n",
            "(512, 512, 3)\n",
            "(512, 512, 3)\n",
            "(512, 512, 3)\n",
            "(512, 512, 3)\n",
            "(512, 512, 3)\n",
            "(512, 512, 3)\n",
            "(512, 512, 3)\n",
            "(512, 512, 3)\n",
            "(512, 512, 3)\n",
            "(512, 512, 3)\n",
            "(512, 512, 3)\n",
            "(512, 512, 3)\n",
            "(512, 512, 3)\n",
            "(512, 512, 3)\n",
            "(512, 512, 3)\n",
            "(512, 512, 3)\n",
            "(512, 512, 3)\n",
            "(512, 512, 3)\n",
            "(512, 512, 3)\n",
            "(512, 512, 3)\n",
            "(512, 512, 3)\n",
            "(512, 512, 3)\n",
            "(512, 512, 3)\n",
            "(512, 512, 3)\n",
            "(512, 512, 3)\n",
            "(512, 512, 3)\n",
            "(512, 512, 3)\n",
            "(512, 512, 3)\n",
            "(512, 512, 3)\n",
            "(512, 512, 3)\n",
            "(512, 512, 3)\n",
            "(512, 512, 3)\n",
            "(512, 512, 3)\n",
            "(512, 512, 3)\n",
            "(512, 512, 3)\n",
            "(512, 512, 3)\n",
            "(512, 512, 3)\n",
            "(512, 512, 3)\n",
            "(512, 512, 3)\n",
            "(512, 512, 3)\n",
            "(512, 512, 3)\n",
            "(512, 512, 3)\n",
            "(512, 512, 3)\n",
            "(512, 512, 3)\n",
            "(512, 512, 3)\n",
            "(512, 512, 3)\n",
            "(512, 512, 3)\n",
            "(512, 512, 3)\n",
            "(512, 512, 3)\n",
            "(512, 512, 3)\n",
            "(512, 512, 3)\n",
            "(512, 512, 3)\n",
            "(512, 512, 3)\n",
            "(512, 512, 3)\n",
            "(512, 512, 3)\n",
            "(512, 512, 3)\n",
            "(512, 512, 3)\n",
            "(512, 512, 3)\n",
            "(512, 512, 3)\n",
            "(512, 512, 3)\n",
            "(512, 512, 3)\n",
            "(512, 512, 3)\n",
            "(512, 512, 3)\n",
            "(512, 512, 3)\n",
            "(512, 512, 3)\n",
            "(512, 512, 3)\n",
            "(512, 512, 3)\n",
            "(512, 512, 3)\n",
            "(512, 512, 3)\n",
            "(512, 512, 3)\n",
            "(512, 512, 3)\n",
            "(512, 512, 3)\n",
            "(512, 512, 3)\n",
            "(512, 512, 3)\n",
            "(512, 512, 3)\n",
            "(512, 512, 3)\n",
            "(512, 512, 3)\n",
            "(512, 512, 3)\n",
            "(512, 512, 3)\n",
            "(512, 512, 3)\n",
            "(512, 512, 3)\n",
            "(512, 512, 3)\n",
            "(512, 512, 3)\n",
            "(512, 512, 3)\n",
            "(512, 512, 3)\n",
            "(512, 512, 3)\n",
            "(512, 512, 3)\n",
            "(512, 512, 3)\n",
            "(512, 512, 3)\n",
            "(512, 512, 3)\n",
            "(512, 512, 3)\n",
            "(512, 512, 3)\n",
            "(512, 512, 3)\n",
            "(512, 512, 3)\n",
            "(512, 512, 3)\n",
            "(512, 512, 3)\n",
            "(512, 512, 3)\n",
            "(512, 512, 3)\n",
            "(512, 512, 3)\n",
            "(512, 512, 3)\n",
            "(512, 512, 3)\n",
            "(512, 512, 3)\n",
            "(512, 512, 3)\n",
            "(512, 512, 3)\n",
            "(512, 512, 3)\n",
            "(512, 512, 3)\n",
            "(512, 512, 3)\n",
            "(512, 512, 3)\n",
            "(512, 512, 3)\n",
            "(512, 512, 3)\n",
            "(512, 512, 3)\n",
            "(512, 512, 3)\n",
            "(512, 512, 3)\n",
            "(512, 512, 3)\n",
            "(512, 512, 3)\n",
            "(512, 512, 3)\n",
            "(512, 512, 3)\n",
            "(512, 512, 3)\n",
            "(512, 512, 3)\n",
            "(512, 512, 3)\n",
            "(512, 512, 3)\n",
            "(512, 512, 3)\n",
            "(512, 512, 3)\n",
            "(512, 512, 3)\n",
            "(512, 512, 3)\n",
            "(512, 512, 3)\n",
            "(512, 512, 3)\n",
            "(512, 512, 3)\n",
            "(512, 512, 3)\n",
            "(512, 512, 3)\n",
            "(512, 512, 3)\n",
            "(512, 512, 3)\n",
            "(512, 512, 3)\n",
            "(512, 512, 3)\n",
            "(512, 512, 3)\n",
            "(512, 512, 3)\n",
            "(512, 512, 3)\n",
            "(512, 512, 3)\n",
            "(512, 512, 3)\n",
            "(512, 512, 3)\n",
            "(512, 512, 3)\n",
            "(512, 512, 3)\n",
            "(512, 512, 3)\n",
            "(512, 512, 3)\n",
            "(512, 512, 3)\n",
            "(512, 512, 3)\n",
            "(512, 512, 3)\n",
            "(512, 512, 3)\n",
            "(512, 512, 3)\n",
            "(512, 512, 3)\n",
            "(512, 512, 3)\n",
            "(512, 512, 3)\n",
            "(512, 512, 3)\n",
            "(512, 512, 3)\n",
            "(512, 512, 3)\n",
            "(512, 512, 3)\n",
            "(512, 512, 3)\n",
            "(512, 512, 3)\n",
            "(512, 512, 3)\n",
            "(512, 512, 3)\n",
            "(512, 512, 3)\n",
            "(512, 512, 3)\n",
            "(512, 512, 3)\n",
            "(512, 512, 3)\n",
            "(512, 512, 3)\n",
            "(512, 512, 3)\n",
            "(512, 512, 3)\n",
            "(512, 512, 3)\n",
            "(512, 512, 3)\n",
            "(512, 512, 3)\n",
            "(512, 512, 3)\n",
            "(512, 512, 3)\n",
            "(512, 512, 3)\n",
            "(512, 512, 3)\n",
            "(512, 512, 3)\n",
            "(512, 512, 3)\n",
            "(512, 512, 3)\n",
            "(512, 512, 3)\n",
            "(512, 512, 3)\n",
            "(512, 512, 3)\n",
            "(512, 512, 3)\n",
            "(512, 512, 3)\n",
            "(512, 512, 3)\n",
            "(512, 512, 3)\n",
            "(512, 512, 3)\n",
            "(512, 512, 3)\n",
            "(512, 512, 3)\n",
            "(512, 512, 3)\n",
            "(512, 512, 3)\n",
            "(512, 512, 3)\n",
            "(512, 512, 3)\n",
            "(512, 512, 3)\n",
            "(512, 512, 3)\n",
            "(512, 512, 3)\n",
            "(512, 512, 3)\n",
            "(512, 512, 3)\n",
            "(512, 512, 3)\n",
            "(512, 512, 3)\n",
            "(512, 512, 3)\n",
            "(512, 512, 3)\n",
            "(512, 512, 3)\n",
            "(512, 512, 3)\n",
            "(512, 512, 3)\n",
            "(512, 512, 3)\n",
            "(512, 512, 3)\n",
            "(512, 512, 3)\n",
            "(512, 512, 3)\n",
            "(512, 512, 3)\n",
            "(512, 512, 3)\n",
            "(512, 512, 3)\n",
            "(512, 512, 3)\n",
            "(512, 512, 3)\n",
            "(512, 512, 3)\n",
            "(512, 512, 3)\n",
            "(512, 512, 3)\n",
            "(512, 512, 3)\n",
            "(512, 512, 3)\n",
            "(512, 512, 3)\n",
            "(512, 512, 3)\n",
            "(512, 512, 3)\n",
            "(512, 512, 3)\n",
            "(512, 512, 3)\n",
            "(512, 512, 3)\n",
            "(512, 512, 3)\n",
            "(512, 512, 3)\n",
            "(512, 512, 3)\n",
            "(512, 512, 3)\n",
            "(512, 512, 3)\n",
            "(512, 512, 3)\n",
            "(512, 512, 3)\n",
            "(512, 512, 3)\n",
            "(512, 512, 3)\n",
            "(512, 512, 3)\n",
            "(512, 512, 3)\n",
            "(512, 512, 3)\n",
            "(512, 512, 3)\n",
            "(512, 512, 3)\n",
            "(512, 512, 3)\n",
            "(512, 512, 3)\n",
            "(512, 512, 3)\n",
            "(512, 512, 3)\n",
            "(512, 512, 3)\n",
            "(512, 512, 3)\n",
            "(512, 512, 3)\n",
            "(512, 512, 3)\n",
            "(512, 512, 3)\n",
            "(512, 512, 3)\n",
            "(512, 512, 3)\n",
            "(512, 512, 3)\n",
            "(512, 512, 3)\n",
            "(512, 512, 3)\n",
            "(512, 512, 3)\n",
            "(512, 512, 3)\n",
            "(512, 512, 3)\n",
            "(512, 512, 3)\n",
            "(512, 512, 3)\n",
            "(512, 512, 3)\n",
            "(512, 512, 3)\n",
            "(512, 512, 3)\n",
            "(512, 512, 3)\n",
            "(512, 512, 3)\n",
            "(512, 512, 3)\n",
            "(512, 512, 3)\n",
            "(512, 512, 3)\n",
            "(512, 512, 3)\n",
            "(512, 512, 3)\n",
            "(512, 512, 3)\n",
            "(512, 512, 3)\n",
            "(512, 512, 3)\n",
            "(512, 512, 3)\n",
            "(512, 512, 3)\n",
            "(512, 512, 3)\n",
            "(512, 512, 3)\n",
            "(512, 512, 3)\n",
            "(512, 512, 3)\n",
            "(512, 512, 3)\n",
            "(512, 512, 3)\n",
            "(512, 512, 3)\n",
            "(512, 512, 3)\n",
            "(512, 512, 3)\n",
            "(512, 512, 3)\n",
            "(512, 512, 3)\n",
            "(512, 512, 3)\n",
            "(512, 512, 3)\n",
            "(512, 512, 3)\n",
            "(512, 512, 3)\n",
            "(512, 512, 3)\n",
            "(512, 512, 3)\n",
            "(512, 512, 3)\n",
            "(512, 512, 3)\n",
            "(512, 512, 3)\n",
            "(512, 512, 3)\n",
            "(512, 512, 3)\n",
            "(512, 512, 3)\n",
            "(512, 512, 3)\n",
            "(512, 512, 3)\n",
            "(512, 512, 3)\n",
            "(512, 512, 3)\n",
            "(512, 512, 3)\n",
            "(512, 512, 3)\n",
            "(512, 512, 3)\n",
            "(512, 512, 3)\n",
            "(512, 512, 3)\n",
            "(512, 512, 3)\n",
            "(512, 512, 3)\n",
            "(512, 512, 3)\n",
            "(512, 512, 3)\n",
            "(512, 512, 3)\n",
            "(512, 512, 3)\n",
            "(512, 512, 3)\n",
            "(512, 512, 3)\n",
            "(512, 512, 3)\n",
            "(512, 512, 3)\n",
            "(512, 512, 3)\n",
            "(512, 512, 3)\n",
            "(512, 512, 3)\n",
            "(512, 512, 3)\n",
            "(512, 512, 3)\n",
            "(512, 512, 3)\n",
            "(512, 512, 3)\n",
            "(512, 512, 3)\n",
            "(512, 512, 3)\n",
            "(512, 512, 3)\n",
            "(512, 512, 3)\n",
            "(512, 512, 3)\n",
            "(512, 512, 3)\n",
            "(512, 512, 3)\n",
            "(512, 512, 3)\n",
            "(512, 512, 3)\n",
            "(512, 512, 3)\n",
            "(512, 512, 3)\n",
            "(512, 512, 3)\n",
            "(512, 512, 3)\n",
            "(512, 512, 3)\n",
            "(512, 512, 3)\n",
            "(512, 512, 3)\n",
            "(512, 512, 3)\n",
            "(512, 512, 3)\n",
            "(512, 512, 3)\n",
            "(512, 512, 3)\n",
            "(512, 512, 3)\n",
            "(512, 512, 3)\n",
            "(512, 512, 3)\n",
            "(512, 512, 3)\n",
            "(512, 512, 3)\n",
            "(512, 512, 3)\n",
            "(512, 512, 3)\n",
            "(512, 512, 3)\n",
            "(512, 512, 3)\n",
            "(512, 512, 3)\n",
            "(512, 512, 3)\n",
            "(512, 512, 3)\n",
            "(512, 512, 3)\n",
            "(512, 512, 3)\n",
            "(512, 512, 3)\n",
            "(512, 512, 3)\n",
            "(512, 512, 3)\n",
            "(512, 512, 3)\n",
            "(512, 512, 3)\n",
            "(512, 512, 3)\n",
            "(512, 512, 3)\n",
            "(512, 512, 3)\n",
            "(512, 512, 3)\n",
            "(512, 512, 3)\n",
            "(512, 512, 3)\n",
            "(512, 512, 3)\n",
            "(512, 512, 3)\n",
            "(512, 512, 3)\n",
            "(512, 512, 3)\n",
            "(512, 512, 3)\n",
            "(512, 512, 3)\n",
            "(512, 512, 3)\n",
            "(512, 512, 3)\n",
            "(512, 512, 3)\n",
            "(512, 512, 3)\n",
            "(512, 512, 3)\n",
            "(512, 512, 3)\n",
            "(512, 512, 3)\n",
            "(512, 512, 3)\n",
            "(512, 512, 3)\n",
            "(512, 512, 3)\n",
            "(512, 512, 3)\n",
            "(512, 512, 3)\n",
            "(512, 512, 3)\n",
            "(512, 512, 3)\n",
            "(512, 512, 3)\n",
            "(512, 512, 3)\n",
            "(512, 512, 3)\n",
            "(512, 512, 3)\n",
            "(512, 512, 3)\n",
            "(512, 512, 3)\n",
            "(512, 512, 3)\n",
            "(512, 512, 3)\n",
            "(512, 512, 3)\n",
            "(512, 512, 3)\n",
            "(512, 512, 3)\n",
            "(512, 512, 3)\n",
            "(512, 512, 3)\n",
            "(512, 512, 3)\n",
            "(512, 512, 3)\n",
            "(512, 512, 3)\n",
            "(512, 512, 3)\n",
            "(512, 512, 3)\n",
            "(512, 512, 3)\n",
            "(512, 512, 3)\n",
            "(512, 512, 3)\n",
            "(512, 512, 3)\n",
            "(512, 512, 3)\n",
            "(512, 512, 3)\n",
            "(512, 512, 3)\n",
            "(512, 512, 3)\n",
            "(512, 512, 3)\n",
            "(512, 512, 3)\n",
            "(512, 512, 3)\n",
            "(512, 512, 3)\n",
            "(512, 512, 3)\n",
            "(512, 512, 3)\n",
            "(512, 512, 3)\n",
            "(512, 512, 3)\n",
            "(512, 512, 3)\n",
            "(512, 512, 3)\n",
            "(512, 512, 3)\n",
            "(512, 512, 3)\n",
            "(512, 512, 3)\n",
            "(512, 512, 3)\n",
            "(512, 512, 3)\n",
            "(512, 512, 3)\n",
            "(512, 512, 3)\n",
            "(512, 512, 3)\n",
            "(512, 512, 3)\n",
            "(512, 512, 3)\n",
            "(512, 512, 3)\n",
            "(512, 512, 3)\n",
            "(512, 512, 3)\n",
            "(512, 512, 3)\n",
            "(512, 512, 3)\n",
            "(512, 512, 3)\n",
            "(512, 512, 3)\n",
            "(512, 512, 3)\n",
            "(512, 512, 3)\n",
            "(512, 512, 3)\n",
            "(512, 512, 3)\n",
            "(512, 512, 3)\n",
            "(512, 512, 3)\n",
            "(512, 512, 3)\n",
            "(512, 512, 3)\n",
            "(512, 512, 3)\n",
            "(512, 512, 3)\n",
            "(512, 512, 3)\n",
            "(512, 512, 3)\n",
            "(512, 512, 3)\n",
            "(512, 512, 3)\n",
            "(512, 512, 3)\n",
            "(512, 512, 3)\n",
            "(512, 512, 3)\n",
            "(512, 512, 3)\n",
            "(512, 512, 3)\n",
            "(512, 512, 3)\n",
            "(512, 512, 3)\n",
            "(512, 512, 3)\n",
            "(512, 512, 3)\n",
            "(512, 512, 3)\n",
            "(512, 512, 3)\n",
            "(512, 512, 3)\n",
            "(512, 512, 3)\n",
            "(512, 512, 3)\n",
            "(512, 512, 3)\n",
            "(512, 512, 3)\n",
            "(512, 512, 3)\n",
            "(512, 512, 3)\n",
            "(512, 512, 3)\n",
            "(512, 512, 3)\n",
            "(512, 512, 3)\n",
            "(512, 512, 3)\n",
            "(512, 512, 3)\n",
            "(512, 512, 3)\n",
            "(512, 512, 3)\n",
            "(512, 512, 3)\n",
            "(512, 512, 3)\n",
            "(512, 512, 3)\n",
            "(512, 512, 3)\n",
            "(512, 512, 3)\n",
            "(512, 512, 3)\n",
            "(512, 512, 3)\n",
            "(512, 512, 3)\n",
            "(512, 512, 3)\n",
            "(512, 512, 3)\n",
            "(512, 512, 3)\n",
            "(512, 512, 3)\n",
            "(512, 512, 3)\n",
            "(512, 512, 3)\n",
            "(512, 512, 3)\n",
            "(512, 512, 3)\n",
            "(512, 512, 3)\n",
            "(512, 512, 3)\n",
            "(512, 512, 3)\n",
            "(512, 512, 3)\n",
            "(512, 512, 3)\n",
            "(512, 512, 3)\n",
            "(512, 512, 3)\n",
            "(512, 512, 3)\n",
            "(512, 512, 3)\n",
            "(512, 512, 3)\n",
            "(512, 512, 3)\n",
            "(512, 512, 3)\n",
            "(512, 512, 3)\n",
            "(512, 512, 3)\n",
            "(512, 512, 3)\n",
            "(512, 512, 3)\n",
            "(512, 512, 3)\n",
            "(512, 512, 3)\n",
            "(512, 512, 3)\n",
            "(512, 512, 3)\n",
            "(512, 512, 3)\n",
            "(512, 512, 3)\n",
            "(512, 512, 3)\n",
            "(512, 512, 3)\n",
            "(512, 512, 3)\n",
            "(512, 512, 3)\n",
            "(512, 512, 3)\n",
            "(512, 512, 3)\n",
            "(512, 512, 3)\n",
            "(512, 512, 3)\n",
            "(512, 512, 3)\n",
            "(512, 512, 3)\n",
            "(512, 512, 3)\n",
            "(512, 512, 3)\n",
            "(512, 512, 3)\n",
            "(512, 512, 3)\n",
            "(512, 512, 3)\n",
            "(512, 512, 3)\n",
            "(512, 512, 3)\n",
            "(512, 512, 3)\n",
            "(512, 512, 3)\n",
            "(512, 512, 3)\n",
            "(512, 512, 3)\n",
            "(512, 512, 3)\n",
            "(512, 512, 3)\n",
            "(512, 512, 3)\n",
            "(512, 512, 3)\n",
            "(512, 512, 3)\n",
            "(512, 512, 3)\n",
            "(512, 512, 3)\n",
            "(512, 512, 3)\n",
            "(512, 512, 3)\n",
            "(512, 512, 3)\n",
            "(512, 512, 3)\n",
            "(512, 512, 3)\n",
            "(512, 512, 3)\n",
            "(512, 512, 3)\n",
            "(512, 512, 3)\n",
            "(512, 512, 3)\n",
            "(512, 512, 3)\n",
            "(512, 512, 3)\n",
            "(512, 512, 3)\n",
            "(512, 512, 3)\n",
            "(512, 512, 3)\n",
            "(512, 512, 3)\n",
            "(512, 512, 3)\n",
            "(512, 512, 3)\n",
            "(512, 512, 3)\n",
            "(512, 512, 3)\n",
            "(512, 512, 3)\n",
            "(512, 512, 3)\n",
            "(512, 512, 3)\n",
            "(512, 512, 3)\n",
            "(512, 512, 3)\n",
            "(512, 512, 3)\n",
            "(512, 512, 3)\n",
            "(512, 512, 3)\n",
            "(512, 512, 3)\n",
            "(512, 512, 3)\n",
            "(512, 512, 3)\n",
            "(512, 512, 3)\n",
            "(512, 512, 3)\n",
            "(512, 512, 3)\n",
            "(512, 512, 3)\n",
            "(512, 512, 3)\n",
            "(512, 512, 3)\n",
            "(512, 512, 3)\n",
            "(512, 512, 3)\n",
            "(512, 512, 3)\n",
            "(512, 512, 3)\n",
            "(512, 512, 3)\n",
            "(512, 512, 3)\n",
            "(512, 512, 3)\n",
            "(512, 512, 3)\n",
            "(512, 512, 3)\n",
            "(512, 512, 3)\n",
            "(512, 512, 3)\n",
            "(512, 512, 3)\n",
            "(512, 512, 3)\n",
            "(512, 512, 3)\n",
            "(512, 512, 3)\n",
            "(512, 512, 3)\n",
            "(512, 512, 3)\n",
            "(512, 512, 3)\n",
            "(512, 512, 3)\n",
            "(512, 512, 3)\n",
            "(512, 512, 3)\n",
            "(512, 512, 3)\n",
            "(512, 512, 3)\n",
            "(512, 512, 3)\n",
            "(512, 512, 3)\n",
            "(512, 512, 3)\n",
            "(512, 512, 3)\n",
            "(512, 512, 3)\n",
            "(512, 512, 3)\n",
            "(512, 512, 3)\n",
            "(512, 512, 3)\n",
            "(512, 512, 3)\n",
            "(512, 512, 3)\n",
            "(512, 512, 3)\n",
            "(512, 512, 3)\n",
            "(512, 512, 3)\n",
            "(512, 512, 3)\n",
            "(512, 512, 3)\n"
          ]
        },
        {
          "output_type": "error",
          "ename": "KeyboardInterrupt",
          "evalue": "ignored",
          "traceback": [
            "\u001b[0;31m---------------------------------------------------------------------------\u001b[0m",
            "\u001b[0;31mKeyboardInterrupt\u001b[0m                         Traceback (most recent call last)",
            "\u001b[0;32m<ipython-input-19-093918894481>\u001b[0m in \u001b[0;36m<module>\u001b[0;34m\u001b[0m\n\u001b[1;32m      2\u001b[0m \u001b[0;34m\u001b[0m\u001b[0m\n\u001b[1;32m      3\u001b[0m \u001b[0;32mfor\u001b[0m \u001b[0mx\u001b[0m \u001b[0;32min\u001b[0m \u001b[0mglob\u001b[0m\u001b[0;34m(\u001b[0m\u001b[0;34m\"/content/drive/MyDrive/Freelancing/upwork/Mohammed Warsame/original_data/*.png\"\u001b[0m\u001b[0;34m)\u001b[0m\u001b[0;34m:\u001b[0m\u001b[0;34m\u001b[0m\u001b[0;34m\u001b[0m\u001b[0m\n\u001b[0;32m----> 4\u001b[0;31m   \u001b[0mprint\u001b[0m\u001b[0;34m(\u001b[0m\u001b[0mcv2\u001b[0m\u001b[0;34m.\u001b[0m\u001b[0mimread\u001b[0m\u001b[0;34m(\u001b[0m\u001b[0mx\u001b[0m\u001b[0;34m)\u001b[0m\u001b[0;34m.\u001b[0m\u001b[0mshape\u001b[0m\u001b[0;34m)\u001b[0m\u001b[0;34m\u001b[0m\u001b[0;34m\u001b[0m\u001b[0m\n\u001b[0m",
            "\u001b[0;31mKeyboardInterrupt\u001b[0m: "
          ]
        }
      ]
    },
    {
      "cell_type": "code",
      "source": [
        "import torch\n",
        "torch.tensor"
      ],
      "metadata": {
        "colab": {
          "base_uri": "https://localhost:8080/"
        },
        "id": "uTU2-OJuHPE2",
        "outputId": "5a7ef9ce-8e4d-4b3c-cc14-cd6244e31264"
      },
      "execution_count": null,
      "outputs": [
        {
          "output_type": "execute_result",
          "data": {
            "text/plain": [
              "<function torch._VariableFunctionsClass.tensor>"
            ]
          },
          "metadata": {},
          "execution_count": 10
        }
      ]
    },
    {
      "cell_type": "code",
      "source": [],
      "metadata": {
        "id": "Ic18QMTvQm9L"
      },
      "execution_count": null,
      "outputs": []
    }
  ]
}