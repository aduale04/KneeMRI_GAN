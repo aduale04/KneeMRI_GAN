{
 "cells": [
  {
   "cell_type": "markdown",
   "id": "107d7b7f",
   "metadata": {},
   "source": [
    "# CNN Trained on Synthetic Data"
   ]
  },
  {
   "cell_type": "markdown",
   "id": "9732402d",
   "metadata": {},
   "source": [
    "## Loading Required Libraries"
   ]
  },
  {
   "cell_type": "code",
   "execution_count": 14,
   "id": "b9678d5a",
   "metadata": {
    "execution": {
     "iopub.execute_input": "2022-08-22T03:26:40.335035Z",
     "iopub.status.busy": "2022-08-22T03:26:40.334466Z",
     "iopub.status.idle": "2022-08-22T03:26:40.338547Z",
     "shell.execute_reply": "2022-08-22T03:26:40.338106Z",
     "shell.execute_reply.started": "2022-08-22T03:26:40.335012Z"
    }
   },
   "outputs": [],
   "source": [
    "import cv2\n",
    "import os\n",
    "import numpy as np\n",
    "import matplotlib.pyplot as plt\n",
    "import tensorflow as tf\n",
    "from keras.models import Sequential\n",
    "from keras.layers import Conv2D,Flatten,MaxPooling2D, Dense, BatchNormalization, LeakyReLU\n",
    "from keras.callbacks import EarlyStopping, CSVLogger, ReduceLROnPlateau"
   ]
  },
  {
   "cell_type": "code",
   "execution_count": 15,
   "id": "fea97634",
   "metadata": {
    "execution": {
     "iopub.execute_input": "2022-08-22T03:26:46.542645Z",
     "iopub.status.busy": "2022-08-22T03:26:46.542075Z",
     "iopub.status.idle": "2022-08-22T03:26:46.546157Z",
     "shell.execute_reply": "2022-08-22T03:26:46.545560Z",
     "shell.execute_reply.started": "2022-08-22T03:26:46.542645Z"
    }
   },
   "outputs": [],
   "source": [
    "def load_images(path):\n",
    "    images = []\n",
    "    for file in os.listdir(path):\n",
    "        img = cv2.imread(os.path.join(path, file))\n",
    "        if img is not None:\n",
    "            images.append(img)\n",
    "    return images"
   ]
  },
  {
   "cell_type": "code",
   "execution_count": 16,
   "id": "7afc4c58",
   "metadata": {
    "execution": {
     "iopub.execute_input": "2022-08-22T03:26:47.718118Z",
     "iopub.status.busy": "2022-08-22T03:26:47.717588Z",
     "iopub.status.idle": "2022-08-22T03:26:47.722711Z",
     "shell.execute_reply": "2022-08-22T03:26:47.722096Z",
     "shell.execute_reply.started": "2022-08-22T03:26:47.718097Z"
    }
   },
   "outputs": [],
   "source": [
    "def create_model(x, y, inChannel):\n",
    "    model=Sequential()\n",
    "    model.add(Conv2D(16, (3,3),input_shape=(x, y, inChannel)))\n",
    "    model.add(LeakyReLU(alpha=0.05))\n",
    "    model.add(Conv2D(32, (3,3), input_shape=(x, y, inChannel)))\n",
    "    model.add(BatchNormalization())\n",
    "    model.add(LeakyReLU(alpha=0.05))\n",
    "    model.add(MaxPooling2D((3,3),padding='same',strides=(1,1)))\n",
    "    model.add(Flatten())\n",
    "    model.add(Dense(100,activation='relu'))\n",
    "    model.add(Dense(2,activation='softmax'))\n",
    "    return model"
   ]
  },
  {
   "cell_type": "code",
   "execution_count": 17,
   "id": "6c52d512",
   "metadata": {
    "execution": {
     "iopub.execute_input": "2022-08-22T03:26:49.540023Z",
     "iopub.status.busy": "2022-08-22T03:26:49.539727Z",
     "iopub.status.idle": "2022-08-22T03:26:49.543959Z",
     "shell.execute_reply": "2022-08-22T03:26:49.543452Z",
     "shell.execute_reply.started": "2022-08-22T03:26:49.540004Z"
    }
   },
   "outputs": [],
   "source": [
    "def callbacks(class_type):\n",
    "    csv_logger = CSVLogger(\"Results/model_history_\"+class_type+\"_synth.csv\", append=True)\n",
    "    reduce_lr_rate=0.5\n",
    "    earlyStopping = EarlyStopping(monitor='val_accuracy', min_delta=0, patience=32, verbose=0, mode='auto')\n",
    "    reduce_lr = ReduceLROnPlateau(monitor='val_accuracy', factor=reduce_lr_rate, patience=2,\n",
    "                                  cooldown=0, min_lr=0.00001, verbose=0)\n",
    "    callbacks_list = [earlyStopping, reduce_lr, csv_logger]\n",
    "    return callbacks_list"
   ]
  },
  {
   "cell_type": "markdown",
   "id": "3c019dd5",
   "metadata": {},
   "source": [
    "## Abnormal Class"
   ]
  },
  {
   "cell_type": "markdown",
   "id": "bd19d1d1",
   "metadata": {},
   "source": [
    "### Data Loading"
   ]
  },
  {
   "cell_type": "code",
   "execution_count": 5,
   "id": "681812e5",
   "metadata": {
    "execution": {
     "iopub.execute_input": "2022-08-22T03:04:35.192003Z",
     "iopub.status.busy": "2022-08-22T03:04:35.191343Z",
     "iopub.status.idle": "2022-08-22T03:04:37.927227Z",
     "shell.execute_reply": "2022-08-22T03:04:37.926610Z",
     "shell.execute_reply.started": "2022-08-22T03:04:35.191953Z"
    }
   },
   "outputs": [],
   "source": [
    "class_type = 'abnormal'\n",
    "no_path = class_type + '_new/'+class_type+'_class_0/'\n",
    "yes_path = class_type + '_new/'+class_type+'_class_1/'\n",
    "\n",
    "no_data = load_images(no_path)\n",
    "no_data = np.stack(no_data, axis = -1)\n",
    "no_data = np.moveaxis(no_data, -1, 0)\n",
    "no_labs = np.zeros((no_data.shape[0], 1))\n",
    "\n",
    "yes_data = load_images(yes_path)\n",
    "yes_data = np.stack(yes_data, axis = -1)\n",
    "yes_data = np.moveaxis(yes_data, -1, 0)\n",
    "yes_labs = np.ones((yes_data.shape[0], 1))\n",
    "\n",
    "train_data = np.vstack((no_data, yes_data))\n",
    "labels = np.vstack((no_labs, yes_labs))\n",
    "\n",
    "one_hot_labs = np.zeros((len(labels), 2))\n",
    "\n",
    "ctr = 0\n",
    "for label in labels:\n",
    "    if label == 0:\n",
    "        one_hot_labs[ctr, 0] = 1\n",
    "    elif label == 1:\n",
    "        one_hot_labs[ctr, 1] = 1\n",
    "    ctr+=1"
   ]
  },
  {
   "cell_type": "markdown",
   "id": "13219701",
   "metadata": {},
   "source": [
    "### Train and Validate"
   ]
  },
  {
   "cell_type": "code",
   "execution_count": 9,
   "id": "5283b58a",
   "metadata": {
    "execution": {
     "iopub.execute_input": "2022-08-22T03:08:18.959647Z",
     "iopub.status.busy": "2022-08-22T03:08:18.959377Z",
     "iopub.status.idle": "2022-08-22T03:09:40.356657Z",
     "shell.execute_reply": "2022-08-22T03:09:40.356073Z",
     "shell.execute_reply.started": "2022-08-22T03:08:18.959629Z"
    }
   },
   "outputs": [
    {
     "name": "stdout",
     "output_type": "stream",
     "text": [
      "Model: \"sequential_1\"\n",
      "_________________________________________________________________\n",
      " Layer (type)                Output Shape              Param #   \n",
      "=================================================================\n",
      " conv2d_2 (Conv2D)           (None, 510, 510, 16)      448       \n",
      "                                                                 \n",
      " leaky_re_lu_2 (LeakyReLU)   (None, 510, 510, 16)      0         \n",
      "                                                                 \n",
      " conv2d_3 (Conv2D)           (None, 508, 508, 32)      4640      \n",
      "                                                                 \n",
      " batch_normalization_1 (Batc  (None, 508, 508, 32)     128       \n",
      " hNormalization)                                                 \n",
      "                                                                 \n",
      " leaky_re_lu_3 (LeakyReLU)   (None, 508, 508, 32)      0         \n",
      "                                                                 \n",
      " max_pooling2d_1 (MaxPooling  (None, 508, 508, 32)     0         \n",
      " 2D)                                                             \n",
      "                                                                 \n",
      " flatten_1 (Flatten)         (None, 8258048)           0         \n",
      "                                                                 \n",
      " dense_2 (Dense)             (None, 100)               825804900 \n",
      "                                                                 \n",
      " dense_3 (Dense)             (None, 2)                 202       \n",
      "                                                                 \n",
      "=================================================================\n",
      "Total params: 825,810,318\n",
      "Trainable params: 825,810,254\n",
      "Non-trainable params: 64\n",
      "_________________________________________________________________\n",
      "Epoch 1/100\n",
      "34/34 [==============================] - 3s 83ms/step - loss: 1071.1476 - accuracy: 0.7647 - auc: 0.7781 - val_loss: 29.8757 - val_accuracy: 0.8750 - val_auc: 0.8750 - lr: 0.0010\n",
      "Epoch 2/100\n",
      "34/34 [==============================] - 2s 70ms/step - loss: 94.2091 - accuracy: 0.8750 - auc: 0.8750 - val_loss: 113.1132 - val_accuracy: 0.8333 - val_auc: 0.8333 - lr: 0.0010\n",
      "Epoch 3/100\n",
      "34/34 [==============================] - 2s 70ms/step - loss: 38.6493 - accuracy: 0.9338 - auc: 0.9338 - val_loss: 128.4501 - val_accuracy: 0.8750 - val_auc: 0.8750 - lr: 0.0010\n",
      "Epoch 4/100\n",
      "34/34 [==============================] - 2s 70ms/step - loss: 49.4654 - accuracy: 0.9265 - auc: 0.9265 - val_loss: 330.0147 - val_accuracy: 0.8333 - val_auc: 0.8333 - lr: 5.0000e-04\n",
      "Epoch 5/100\n",
      "34/34 [==============================] - 2s 70ms/step - loss: 93.9015 - accuracy: 0.9191 - auc: 0.9191 - val_loss: 141.9516 - val_accuracy: 0.7917 - val_auc: 0.7917 - lr: 5.0000e-04\n",
      "Epoch 6/100\n",
      "34/34 [==============================] - 2s 70ms/step - loss: 8.2376 - accuracy: 0.9779 - auc: 0.9779 - val_loss: 110.1090 - val_accuracy: 0.8333 - val_auc: 0.8333 - lr: 2.5000e-04\n",
      "Epoch 7/100\n",
      "34/34 [==============================] - 2s 70ms/step - loss: 0.0594 - accuracy: 0.9926 - auc: 0.9926 - val_loss: 75.7990 - val_accuracy: 0.8750 - val_auc: 0.8750 - lr: 2.5000e-04\n",
      "Epoch 8/100\n",
      "34/34 [==============================] - 2s 70ms/step - loss: 0.7736 - accuracy: 0.9926 - auc: 0.9926 - val_loss: 83.1603 - val_accuracy: 0.8750 - val_auc: 0.8750 - lr: 1.2500e-04\n",
      "Epoch 9/100\n",
      "34/34 [==============================] - 2s 70ms/step - loss: 0.0000e+00 - accuracy: 1.0000 - auc: 1.0000 - val_loss: 136.5250 - val_accuracy: 0.7917 - val_auc: 0.7917 - lr: 1.2500e-04\n",
      "Epoch 10/100\n",
      "34/34 [==============================] - 2s 70ms/step - loss: 0.0000e+00 - accuracy: 1.0000 - auc: 1.0000 - val_loss: 138.2897 - val_accuracy: 0.7917 - val_auc: 0.7917 - lr: 6.2500e-05\n",
      "Epoch 11/100\n",
      "34/34 [==============================] - 2s 70ms/step - loss: 0.0000e+00 - accuracy: 1.0000 - auc: 1.0000 - val_loss: 138.8248 - val_accuracy: 0.7917 - val_auc: 0.7917 - lr: 6.2500e-05\n",
      "Epoch 12/100\n",
      "34/34 [==============================] - 2s 70ms/step - loss: 0.0000e+00 - accuracy: 1.0000 - auc: 1.0000 - val_loss: 139.1933 - val_accuracy: 0.7917 - val_auc: 0.7917 - lr: 3.1250e-05\n",
      "Epoch 13/100\n",
      "34/34 [==============================] - 2s 71ms/step - loss: 0.0000e+00 - accuracy: 1.0000 - auc: 1.0000 - val_loss: 139.4068 - val_accuracy: 0.7917 - val_auc: 0.7917 - lr: 3.1250e-05\n",
      "Epoch 14/100\n",
      "34/34 [==============================] - 2s 70ms/step - loss: 0.0000e+00 - accuracy: 1.0000 - auc: 1.0000 - val_loss: 139.4974 - val_accuracy: 0.7917 - val_auc: 0.7917 - lr: 1.5625e-05\n",
      "Epoch 15/100\n",
      "34/34 [==============================] - 2s 70ms/step - loss: 0.0000e+00 - accuracy: 1.0000 - auc: 1.0000 - val_loss: 139.7284 - val_accuracy: 0.7917 - val_auc: 0.7917 - lr: 1.5625e-05\n",
      "Epoch 16/100\n",
      "34/34 [==============================] - 2s 70ms/step - loss: 0.0000e+00 - accuracy: 1.0000 - auc: 1.0000 - val_loss: 139.8208 - val_accuracy: 0.7917 - val_auc: 0.7917 - lr: 1.0000e-05\n",
      "Epoch 17/100\n",
      "34/34 [==============================] - 2s 70ms/step - loss: 0.0000e+00 - accuracy: 1.0000 - auc: 1.0000 - val_loss: 139.8788 - val_accuracy: 0.7917 - val_auc: 0.7917 - lr: 1.0000e-05\n",
      "Epoch 18/100\n",
      "34/34 [==============================] - 2s 70ms/step - loss: 0.0000e+00 - accuracy: 1.0000 - auc: 1.0000 - val_loss: 139.9046 - val_accuracy: 0.7917 - val_auc: 0.7917 - lr: 1.0000e-05\n",
      "Epoch 19/100\n",
      "34/34 [==============================] - 2s 70ms/step - loss: 0.0000e+00 - accuracy: 1.0000 - auc: 1.0000 - val_loss: 139.9117 - val_accuracy: 0.7917 - val_auc: 0.7917 - lr: 1.0000e-05\n",
      "Epoch 20/100\n",
      "34/34 [==============================] - 2s 70ms/step - loss: 0.0000e+00 - accuracy: 1.0000 - auc: 1.0000 - val_loss: 139.8412 - val_accuracy: 0.7917 - val_auc: 0.7917 - lr: 1.0000e-05\n",
      "Epoch 21/100\n",
      "34/34 [==============================] - 2s 70ms/step - loss: 0.0000e+00 - accuracy: 1.0000 - auc: 1.0000 - val_loss: 139.8966 - val_accuracy: 0.7917 - val_auc: 0.7917 - lr: 1.0000e-05\n",
      "Epoch 22/100\n",
      "34/34 [==============================] - 2s 70ms/step - loss: 0.0000e+00 - accuracy: 1.0000 - auc: 1.0000 - val_loss: 139.9986 - val_accuracy: 0.7917 - val_auc: 0.7917 - lr: 1.0000e-05\n",
      "Epoch 23/100\n",
      "34/34 [==============================] - 2s 71ms/step - loss: 0.0000e+00 - accuracy: 1.0000 - auc: 1.0000 - val_loss: 139.9752 - val_accuracy: 0.7917 - val_auc: 0.7917 - lr: 1.0000e-05\n",
      "Epoch 24/100\n",
      "34/34 [==============================] - 2s 70ms/step - loss: 0.0000e+00 - accuracy: 1.0000 - auc: 1.0000 - val_loss: 139.9814 - val_accuracy: 0.7917 - val_auc: 0.7917 - lr: 1.0000e-05\n",
      "Epoch 25/100\n",
      "34/34 [==============================] - 2s 70ms/step - loss: 0.0000e+00 - accuracy: 1.0000 - auc: 1.0000 - val_loss: 139.8982 - val_accuracy: 0.7917 - val_auc: 0.7917 - lr: 1.0000e-05\n",
      "Epoch 26/100\n",
      "34/34 [==============================] - 2s 70ms/step - loss: 0.0000e+00 - accuracy: 1.0000 - auc: 1.0000 - val_loss: 139.9510 - val_accuracy: 0.7917 - val_auc: 0.7917 - lr: 1.0000e-05\n",
      "Epoch 27/100\n",
      "34/34 [==============================] - 2s 71ms/step - loss: 0.0000e+00 - accuracy: 1.0000 - auc: 1.0000 - val_loss: 139.9510 - val_accuracy: 0.7917 - val_auc: 0.7917 - lr: 1.0000e-05\n",
      "Epoch 28/100\n",
      "34/34 [==============================] - 2s 70ms/step - loss: 0.0000e+00 - accuracy: 1.0000 - auc: 1.0000 - val_loss: 139.9181 - val_accuracy: 0.7917 - val_auc: 0.7917 - lr: 1.0000e-05\n",
      "Epoch 29/100\n",
      "34/34 [==============================] - 2s 70ms/step - loss: 0.0000e+00 - accuracy: 1.0000 - auc: 1.0000 - val_loss: 139.9193 - val_accuracy: 0.7917 - val_auc: 0.7917 - lr: 1.0000e-05\n",
      "Epoch 30/100\n",
      "34/34 [==============================] - 2s 70ms/step - loss: 0.0000e+00 - accuracy: 1.0000 - auc: 1.0000 - val_loss: 139.9199 - val_accuracy: 0.7917 - val_auc: 0.7917 - lr: 1.0000e-05\n",
      "Epoch 31/100\n",
      "34/34 [==============================] - 2s 70ms/step - loss: 0.0000e+00 - accuracy: 1.0000 - auc: 1.0000 - val_loss: 139.9301 - val_accuracy: 0.7917 - val_auc: 0.7917 - lr: 1.0000e-05\n",
      "Epoch 32/100\n",
      "34/34 [==============================] - 2s 70ms/step - loss: 0.0000e+00 - accuracy: 1.0000 - auc: 1.0000 - val_loss: 139.8668 - val_accuracy: 0.7917 - val_auc: 0.7917 - lr: 1.0000e-05\n",
      "Epoch 33/100\n",
      "34/34 [==============================] - 2s 70ms/step - loss: 0.0000e+00 - accuracy: 1.0000 - auc: 1.0000 - val_loss: 139.9702 - val_accuracy: 0.7917 - val_auc: 0.7917 - lr: 1.0000e-05\n",
      "Test Accuracy:  0.8999999761581421\n"
     ]
    },
    {
     "data": {
      "image/png": "[encoded data removed]",
      "text/plain": [
       "<Figure size 432x288 with 1 Axes>"
      ]
     },
     "metadata": {
      "needs_background": "light"
     },
     "output_type": "display_data"
    },
    {
     "data": {
      "image/png": "[encoded data removed]",
      "text/plain": [
       "<Figure size 432x288 with 1 Axes>"
      ]
     },
     "metadata": {
      "needs_background": "light"
     },
     "output_type": "display_data"
    }
   ],
   "source": [
    "from sklearn.model_selection import train_test_split\n",
    "train_X,valid_X,train_ground,valid_ground = train_test_split(train_data,one_hot_labs,test_size=0.2,random_state=13)\n",
    "\n",
    "batch_size_ = 4\n",
    "epochs_ = 100\n",
    "inChannel = train_X.shape[3]\n",
    "x, y =  train_X.shape[1], train_X.shape[2]\n",
    "\n",
    "model = create_model(x, y, inChannel)\n",
    "model.summary()\n",
    "\n",
    "callbacks_list = callbacks(class_type)\n",
    "model.compile( optimizer='adam', loss='categorical_crossentropy', metrics=['accuracy',tf.keras.metrics.AUC() ])\n",
    "model_train = model.fit(train_X, train_ground,\n",
    "                    epochs = epochs_, batch_size = batch_size_,\n",
    "                    verbose=1, validation_split=0.15, callbacks=callbacks_list)\n",
    "\n",
    "test_eval=model.evaluate(valid_X,valid_ground, verbose=0)\n",
    "print(\"Test Accuracy: \",test_eval[1])\n",
    "\n",
    "loss = model_train.history['loss']\n",
    "val_loss = model_train.history['val_loss']\n",
    "epochs = range(300)\n",
    "plt.figure()\n",
    "plt.plot(loss, 'b--', label='Training loss')\n",
    "plt.plot(val_loss, 'g--', label='Validation loss')\n",
    "plt.title('Training and validation loss for ' + class_type + ' class')\n",
    "plt.legend()\n",
    "plt.show()\n",
    "\n",
    "acc = model_train.history['accuracy']\n",
    "val_acc = model_train.history['val_accuracy']\n",
    "epochs = range(300)\n",
    "plt.figure()\n",
    "plt.plot(acc, 'b--', label='Training Accuracy')\n",
    "plt.plot(val_acc, 'g--', label='Validation Accuracy')\n",
    "plt.title('Training and validation Accuracy for ' + class_type + ' class')\n",
    "plt.legend()\n",
    "plt.show()"
   ]
  },
  {
   "cell_type": "markdown",
   "id": "ff846526",
   "metadata": {},
   "source": [
    "## 2. ACL Class"
   ]
  },
  {
   "cell_type": "markdown",
   "id": "f42421bd",
   "metadata": {},
   "source": [
    "### Data Loading"
   ]
  },
  {
   "cell_type": "code",
   "execution_count": 10,
   "id": "1facdab3",
   "metadata": {
    "execution": {
     "iopub.execute_input": "2022-08-22T03:12:47.853872Z",
     "iopub.status.busy": "2022-08-22T03:12:47.853585Z",
     "iopub.status.idle": "2022-08-22T03:12:50.570975Z",
     "shell.execute_reply": "2022-08-22T03:12:50.570341Z",
     "shell.execute_reply.started": "2022-08-22T03:12:47.853851Z"
    }
   },
   "outputs": [],
   "source": [
    "class_type = 'acl'\n",
    "no_path = class_type + '_new/'+class_type+'_class_0/'\n",
    "yes_path = class_type + '_new/'+class_type+'_class_1/'\n",
    "\n",
    "no_data = load_images(no_path)\n",
    "no_data = np.stack(no_data, axis = -1)\n",
    "no_data = np.moveaxis(no_data, -1, 0)\n",
    "no_labs = np.zeros((no_data.shape[0], 1))\n",
    "\n",
    "yes_data = load_images(yes_path)\n",
    "yes_data = np.stack(yes_data, axis = -1)\n",
    "yes_data = np.moveaxis(yes_data, -1, 0)\n",
    "yes_labs = np.ones((yes_data.shape[0], 1))\n",
    "\n",
    "train_data = np.vstack((no_data, yes_data))\n",
    "labels = np.vstack((no_labs, yes_labs))\n",
    "\n",
    "one_hot_labs = np.zeros((len(labels), 2))\n",
    "\n",
    "ctr = 0\n",
    "for label in labels:\n",
    "    if label == 0:\n",
    "        one_hot_labs[ctr, 0] = 1\n",
    "    elif label == 1:\n",
    "        one_hot_labs[ctr, 1] = 1\n",
    "    ctr+=1"
   ]
  },
  {
   "cell_type": "markdown",
   "id": "733485e4",
   "metadata": {},
   "source": [
    "### Train and Validate"
   ]
  },
  {
   "cell_type": "code",
   "execution_count": 18,
   "id": "bbaa7777",
   "metadata": {
    "execution": {
     "iopub.execute_input": "2022-08-22T03:27:12.767492Z",
     "iopub.status.busy": "2022-08-22T03:27:12.767234Z",
     "iopub.status.idle": "2022-08-22T03:28:43.257551Z",
     "shell.execute_reply": "2022-08-22T03:28:43.256867Z",
     "shell.execute_reply.started": "2022-08-22T03:27:12.767473Z"
    }
   },
   "outputs": [
    {
     "name": "stdout",
     "output_type": "stream",
     "text": [
      "Model: \"sequential_3\"\n",
      "_________________________________________________________________\n",
      " Layer (type)                Output Shape              Param #   \n",
      "=================================================================\n",
      " conv2d_6 (Conv2D)           (None, 510, 510, 16)      448       \n",
      "                                                                 \n",
      " leaky_re_lu_6 (LeakyReLU)   (None, 510, 510, 16)      0         \n",
      "                                                                 \n",
      " conv2d_7 (Conv2D)           (None, 508, 508, 32)      4640      \n",
      "                                                                 \n",
      " batch_normalization_3 (Batc  (None, 508, 508, 32)     128       \n",
      " hNormalization)                                                 \n",
      "                                                                 \n",
      " leaky_re_lu_7 (LeakyReLU)   (None, 508, 508, 32)      0         \n",
      "                                                                 \n",
      " max_pooling2d_3 (MaxPooling  (None, 508, 508, 32)     0         \n",
      " 2D)                                                             \n",
      "                                                                 \n",
      " flatten_3 (Flatten)         (None, 8258048)           0         \n",
      "                                                                 \n",
      " dense_6 (Dense)             (None, 100)               825804900 \n",
      "                                                                 \n",
      " dense_7 (Dense)             (None, 2)                 202       \n",
      "                                                                 \n",
      "=================================================================\n",
      "Total params: 825,810,318\n",
      "Trainable params: 825,810,254\n",
      "Non-trainable params: 64\n",
      "_________________________________________________________________\n",
      "Epoch 1/100\n",
      "34/34 [==============================] - 3s 76ms/step - loss: 1244.3008 - accuracy: 0.6618 - auc_1: 0.6737 - val_loss: 547.4597 - val_accuracy: 0.7917 - val_auc_1: 0.7917 - lr: 0.0010\n",
      "Epoch 2/100\n",
      "34/34 [==============================] - 2s 70ms/step - loss: 219.1275 - accuracy: 0.7868 - auc_1: 0.7868 - val_loss: 817.2781 - val_accuracy: 0.6250 - val_auc_1: 0.6094 - lr: 0.0010\n",
      "Epoch 3/100\n",
      "34/34 [==============================] - 2s 70ms/step - loss: 133.2879 - accuracy: 0.8824 - auc_1: 0.8824 - val_loss: 229.6239 - val_accuracy: 0.7917 - val_auc_1: 0.7917 - lr: 0.0010\n",
      "Epoch 4/100\n",
      "34/34 [==============================] - 2s 70ms/step - loss: 50.6558 - accuracy: 0.9118 - auc_1: 0.9118 - val_loss: 349.9579 - val_accuracy: 0.6250 - val_auc_1: 0.6250 - lr: 5.0000e-04\n",
      "Epoch 5/100\n",
      "34/34 [==============================] - 2s 70ms/step - loss: 22.3525 - accuracy: 0.9632 - auc_1: 0.9632 - val_loss: 276.9822 - val_accuracy: 0.8333 - val_auc_1: 0.8333 - lr: 5.0000e-04\n",
      "Epoch 6/100\n",
      "34/34 [==============================] - 2s 70ms/step - loss: 14.6938 - accuracy: 0.9706 - auc_1: 0.9706 - val_loss: 275.3766 - val_accuracy: 0.8333 - val_auc_1: 0.8333 - lr: 5.0000e-04\n",
      "Epoch 7/100\n",
      "34/34 [==============================] - 2s 70ms/step - loss: 1.8257 - accuracy: 0.9853 - auc_1: 0.9853 - val_loss: 293.8927 - val_accuracy: 0.7083 - val_auc_1: 0.7083 - lr: 5.0000e-04\n",
      "Epoch 8/100\n",
      "34/34 [==============================] - 2s 70ms/step - loss: 1.9650 - accuracy: 0.9853 - auc_1: 0.9853 - val_loss: 258.9706 - val_accuracy: 0.8333 - val_auc_1: 0.8333 - lr: 2.5000e-04\n",
      "Epoch 9/100\n",
      "34/34 [==============================] - 2s 70ms/step - loss: 2.1849 - accuracy: 0.9853 - auc_1: 0.9853 - val_loss: 272.8946 - val_accuracy: 0.8333 - val_auc_1: 0.8333 - lr: 2.5000e-04\n",
      "Epoch 10/100\n",
      "34/34 [==============================] - 2s 70ms/step - loss: 3.4050 - accuracy: 0.9926 - auc_1: 0.9926 - val_loss: 270.4934 - val_accuracy: 0.8333 - val_auc_1: 0.8333 - lr: 1.2500e-04\n",
      "Epoch 11/100\n",
      "34/34 [==============================] - 2s 70ms/step - loss: 0.0000e+00 - accuracy: 1.0000 - auc_1: 1.0000 - val_loss: 268.9383 - val_accuracy: 0.8333 - val_auc_1: 0.8333 - lr: 1.2500e-04\n",
      "Epoch 12/100\n",
      "34/34 [==============================] - 2s 70ms/step - loss: 0.0000e+00 - accuracy: 1.0000 - auc_1: 1.0000 - val_loss: 268.2169 - val_accuracy: 0.8333 - val_auc_1: 0.8333 - lr: 6.2500e-05\n",
      "Epoch 13/100\n",
      "34/34 [==============================] - 2s 70ms/step - loss: 0.0000e+00 - accuracy: 1.0000 - auc_1: 1.0000 - val_loss: 267.6747 - val_accuracy: 0.8333 - val_auc_1: 0.8333 - lr: 6.2500e-05\n",
      "Epoch 14/100\n",
      "34/34 [==============================] - 2s 70ms/step - loss: 0.0000e+00 - accuracy: 1.0000 - auc_1: 1.0000 - val_loss: 267.2769 - val_accuracy: 0.8333 - val_auc_1: 0.8333 - lr: 3.1250e-05\n",
      "Epoch 15/100\n",
      "34/34 [==============================] - 2s 70ms/step - loss: 0.0000e+00 - accuracy: 1.0000 - auc_1: 1.0000 - val_loss: 267.0735 - val_accuracy: 0.8333 - val_auc_1: 0.8333 - lr: 3.1250e-05\n",
      "Epoch 16/100\n",
      "34/34 [==============================] - 2s 70ms/step - loss: 0.0000e+00 - accuracy: 1.0000 - auc_1: 1.0000 - val_loss: 266.8969 - val_accuracy: 0.8333 - val_auc_1: 0.8333 - lr: 1.5625e-05\n",
      "Epoch 17/100\n",
      "34/34 [==============================] - 2s 70ms/step - loss: 0.0000e+00 - accuracy: 1.0000 - auc_1: 1.0000 - val_loss: 266.7336 - val_accuracy: 0.8333 - val_auc_1: 0.8333 - lr: 1.5625e-05\n",
      "Epoch 18/100\n",
      "34/34 [==============================] - 2s 70ms/step - loss: 0.0000e+00 - accuracy: 1.0000 - auc_1: 1.0000 - val_loss: 266.6297 - val_accuracy: 0.8333 - val_auc_1: 0.8333 - lr: 1.0000e-05\n",
      "Epoch 19/100\n",
      "34/34 [==============================] - 2s 70ms/step - loss: 0.0000e+00 - accuracy: 1.0000 - auc_1: 1.0000 - val_loss: 266.6735 - val_accuracy: 0.8333 - val_auc_1: 0.8333 - lr: 1.0000e-05\n",
      "Epoch 20/100\n",
      "34/34 [==============================] - 2s 70ms/step - loss: 0.0000e+00 - accuracy: 1.0000 - auc_1: 1.0000 - val_loss: 266.6337 - val_accuracy: 0.8333 - val_auc_1: 0.8333 - lr: 1.0000e-05\n",
      "Epoch 21/100\n",
      "34/34 [==============================] - 2s 70ms/step - loss: 0.0000e+00 - accuracy: 1.0000 - auc_1: 1.0000 - val_loss: 266.5459 - val_accuracy: 0.8333 - val_auc_1: 0.8333 - lr: 1.0000e-05\n",
      "Epoch 22/100\n",
      "34/34 [==============================] - 2s 70ms/step - loss: 0.0000e+00 - accuracy: 1.0000 - auc_1: 1.0000 - val_loss: 266.4949 - val_accuracy: 0.8333 - val_auc_1: 0.8333 - lr: 1.0000e-05\n",
      "Epoch 23/100\n",
      "34/34 [==============================] - 2s 70ms/step - loss: 0.0000e+00 - accuracy: 1.0000 - auc_1: 1.0000 - val_loss: 266.5299 - val_accuracy: 0.8333 - val_auc_1: 0.8333 - lr: 1.0000e-05\n",
      "Epoch 24/100\n",
      "34/34 [==============================] - 2s 70ms/step - loss: 0.0000e+00 - accuracy: 1.0000 - auc_1: 1.0000 - val_loss: 266.4874 - val_accuracy: 0.8333 - val_auc_1: 0.8333 - lr: 1.0000e-05\n",
      "Epoch 25/100\n",
      "34/34 [==============================] - 2s 70ms/step - loss: 0.0000e+00 - accuracy: 1.0000 - auc_1: 1.0000 - val_loss: 266.5287 - val_accuracy: 0.8333 - val_auc_1: 0.8333 - lr: 1.0000e-05\n",
      "Epoch 26/100\n",
      "34/34 [==============================] - 2s 70ms/step - loss: 0.0000e+00 - accuracy: 1.0000 - auc_1: 1.0000 - val_loss: 266.4711 - val_accuracy: 0.8333 - val_auc_1: 0.8333 - lr: 1.0000e-05\n",
      "Epoch 27/100\n",
      "34/34 [==============================] - 2s 70ms/step - loss: 0.0000e+00 - accuracy: 1.0000 - auc_1: 1.0000 - val_loss: 266.4649 - val_accuracy: 0.8333 - val_auc_1: 0.8333 - lr: 1.0000e-05\n",
      "Epoch 28/100\n",
      "34/34 [==============================] - 2s 70ms/step - loss: 0.0000e+00 - accuracy: 1.0000 - auc_1: 1.0000 - val_loss: 266.4586 - val_accuracy: 0.8333 - val_auc_1: 0.8333 - lr: 1.0000e-05\n",
      "Epoch 29/100\n",
      "34/34 [==============================] - 2s 70ms/step - loss: 0.0000e+00 - accuracy: 1.0000 - auc_1: 1.0000 - val_loss: 266.4898 - val_accuracy: 0.8333 - val_auc_1: 0.8333 - lr: 1.0000e-05\n",
      "Epoch 30/100\n",
      "34/34 [==============================] - 2s 70ms/step - loss: 0.0000e+00 - accuracy: 1.0000 - auc_1: 1.0000 - val_loss: 266.4727 - val_accuracy: 0.8333 - val_auc_1: 0.8333 - lr: 1.0000e-05\n",
      "Epoch 31/100\n",
      "34/34 [==============================] - 2s 70ms/step - loss: 0.0000e+00 - accuracy: 1.0000 - auc_1: 1.0000 - val_loss: 266.4904 - val_accuracy: 0.8333 - val_auc_1: 0.8333 - lr: 1.0000e-05\n",
      "Epoch 32/100\n",
      "34/34 [==============================] - 2s 70ms/step - loss: 0.0000e+00 - accuracy: 1.0000 - auc_1: 1.0000 - val_loss: 266.4780 - val_accuracy: 0.8333 - val_auc_1: 0.8333 - lr: 1.0000e-05\n",
      "Epoch 33/100\n",
      "34/34 [==============================] - 2s 70ms/step - loss: 0.0000e+00 - accuracy: 1.0000 - auc_1: 1.0000 - val_loss: 266.4780 - val_accuracy: 0.8333 - val_auc_1: 0.8333 - lr: 1.0000e-05\n",
      "Epoch 34/100\n",
      "34/34 [==============================] - 2s 70ms/step - loss: 0.0000e+00 - accuracy: 1.0000 - auc_1: 1.0000 - val_loss: 266.5352 - val_accuracy: 0.8333 - val_auc_1: 0.8333 - lr: 1.0000e-05\n",
      "Epoch 35/100\n",
      "34/34 [==============================] - 2s 70ms/step - loss: 0.0000e+00 - accuracy: 1.0000 - auc_1: 1.0000 - val_loss: 266.4901 - val_accuracy: 0.8333 - val_auc_1: 0.8333 - lr: 1.0000e-05\n",
      "Epoch 36/100\n",
      "34/34 [==============================] - 2s 70ms/step - loss: 0.0000e+00 - accuracy: 1.0000 - auc_1: 1.0000 - val_loss: 266.5061 - val_accuracy: 0.8333 - val_auc_1: 0.8333 - lr: 1.0000e-05\n",
      "Epoch 37/100\n",
      "34/34 [==============================] - 2s 70ms/step - loss: 0.0000e+00 - accuracy: 1.0000 - auc_1: 1.0000 - val_loss: 266.5115 - val_accuracy: 0.8333 - val_auc_1: 0.8333 - lr: 1.0000e-05\n",
      "Test Accuracy:  0.8999999761581421\n"
     ]
    },
    {
     "data": {
      "image/png": "[encoded data removed]",
      "text/plain": [
       "<Figure size 432x288 with 1 Axes>"
      ]
     },
     "metadata": {
      "needs_background": "light"
     },
     "output_type": "display_data"
    },
    {
     "data": {
      "image/png": "[encoded data removed]",
      "text/plain": [
       "<Figure size 432x288 with 1 Axes>"
      ]
     },
     "metadata": {
      "needs_background": "light"
     },
     "output_type": "display_data"
    }
   ],
   "source": [
    "from sklearn.model_selection import train_test_split\n",
    "train_X,valid_X,train_ground,valid_ground = train_test_split(train_data,one_hot_labs,test_size=0.2,random_state=13)\n",
    "\n",
    "batch_size_ = 4\n",
    "epochs_ = 100\n",
    "inChannel = train_X.shape[3]\n",
    "x, y =  train_X.shape[1], train_X.shape[2]\n",
    "\n",
    "model = create_model(x, y, inChannel)\n",
    "model.summary()\n",
    "\n",
    "callbacks_list = callbacks(class_type)\n",
    "model.compile( optimizer='adam', loss='categorical_crossentropy', metrics=['accuracy', tf.keras.metrics.AUC()])\n",
    "model_train = model.fit(train_X, train_ground,\n",
    "                    epochs = epochs_, batch_size = batch_size_,\n",
    "                    verbose=1, validation_split=0.15, callbacks=callbacks_list)\n",
    "\n",
    "test_eval=model.evaluate(valid_X,valid_ground, verbose=0)\n",
    "print(\"Test Accuracy: \",test_eval[1])\n",
    "\n",
    "loss = model_train.history['loss']\n",
    "val_loss = model_train.history['val_loss']\n",
    "epochs = range(300)\n",
    "plt.figure()\n",
    "plt.plot(loss, 'b--', label='Training loss')\n",
    "plt.plot(val_loss, 'g--', label='Validation loss')\n",
    "plt.title('Training and validation loss for ' + class_type + ' class')\n",
    "plt.legend()\n",
    "plt.show()\n",
    "\n",
    "acc = model_train.history['accuracy']\n",
    "val_acc = model_train.history['val_accuracy']\n",
    "epochs = range(300)\n",
    "plt.figure()\n",
    "plt.plot(acc, 'b--', label='Training Accuracy')\n",
    "plt.plot(val_acc, 'g--', label='Validation Accuracy')\n",
    "plt.title('Training and validation Accuracy for ' + class_type + ' class')\n",
    "plt.legend()\n",
    "plt.show()"
   ]
  },
  {
   "cell_type": "markdown",
   "id": "8b0efd8c",
   "metadata": {},
   "source": [
    "## 3. Meniscus Class"
   ]
  },
  {
   "cell_type": "markdown",
   "id": "d5823481",
   "metadata": {},
   "source": [
    "### Data Loading"
   ]
  },
  {
   "cell_type": "code",
   "execution_count": 20,
   "id": "5566f8d2",
   "metadata": {
    "execution": {
     "iopub.execute_input": "2022-08-22T03:30:09.122773Z",
     "iopub.status.busy": "2022-08-22T03:30:09.122581Z",
     "iopub.status.idle": "2022-08-22T03:30:11.767673Z",
     "shell.execute_reply": "2022-08-22T03:30:11.767105Z",
     "shell.execute_reply.started": "2022-08-22T03:30:09.122755Z"
    }
   },
   "outputs": [],
   "source": [
    "class_type = 'meniscus'\n",
    "no_path = class_type + '_new/'+class_type+'_class_0/'\n",
    "yes_path = class_type + '_new/'+class_type+'_class_1/'\n",
    "\n",
    "no_data = load_images(no_path)\n",
    "no_data = np.stack(no_data, axis = -1)\n",
    "no_data = np.moveaxis(no_data, -1, 0)\n",
    "no_labs = np.zeros((no_data.shape[0], 1))\n",
    "\n",
    "yes_data = load_images(yes_path)\n",
    "yes_data = np.stack(yes_data, axis = -1)\n",
    "yes_data = np.moveaxis(yes_data, -1, 0)\n",
    "yes_labs = np.ones((yes_data.shape[0], 1))\n",
    "\n",
    "train_data = np.vstack((no_data, yes_data))\n",
    "labels = np.vstack((no_labs, yes_labs))\n",
    "\n",
    "one_hot_labs = np.zeros((len(labels), 2))\n",
    "\n",
    "ctr = 0\n",
    "for label in labels:\n",
    "    if label == 0:\n",
    "        one_hot_labs[ctr, 0] = 1\n",
    "    elif label == 1:\n",
    "        one_hot_labs[ctr, 1] = 1\n",
    "    ctr+=1"
   ]
  },
  {
   "cell_type": "markdown",
   "id": "1858c5c7",
   "metadata": {},
   "source": [
    "### Train and Validate"
   ]
  },
  {
   "cell_type": "code",
   "execution_count": 19,
   "id": "4c24bed3",
   "metadata": {
    "execution": {
     "iopub.execute_input": "2022-08-22T03:28:43.258808Z",
     "iopub.status.busy": "2022-08-22T03:28:43.258624Z",
     "iopub.status.idle": "2022-08-22T03:30:09.121498Z",
     "shell.execute_reply": "2022-08-22T03:30:09.120828Z",
     "shell.execute_reply.started": "2022-08-22T03:28:43.258793Z"
    }
   },
   "outputs": [
    {
     "name": "stdout",
     "output_type": "stream",
     "text": [
      "Model: \"sequential_4\"\n",
      "_________________________________________________________________\n",
      " Layer (type)                Output Shape              Param #   \n",
      "=================================================================\n",
      " conv2d_8 (Conv2D)           (None, 510, 510, 16)      448       \n",
      "                                                                 \n",
      " leaky_re_lu_8 (LeakyReLU)   (None, 510, 510, 16)      0         \n",
      "                                                                 \n",
      " conv2d_9 (Conv2D)           (None, 508, 508, 32)      4640      \n",
      "                                                                 \n",
      " batch_normalization_4 (Batc  (None, 508, 508, 32)     128       \n",
      " hNormalization)                                                 \n",
      "                                                                 \n",
      " leaky_re_lu_9 (LeakyReLU)   (None, 508, 508, 32)      0         \n",
      "                                                                 \n",
      " max_pooling2d_4 (MaxPooling  (None, 508, 508, 32)     0         \n",
      " 2D)                                                             \n",
      "                                                                 \n",
      " flatten_4 (Flatten)         (None, 8258048)           0         \n",
      "                                                                 \n",
      " dense_8 (Dense)             (None, 100)               825804900 \n",
      "                                                                 \n",
      " dense_9 (Dense)             (None, 2)                 202       \n",
      "                                                                 \n",
      "=================================================================\n",
      "Total params: 825,810,318\n",
      "Trainable params: 825,810,254\n",
      "Non-trainable params: 64\n",
      "_________________________________________________________________\n",
      "Epoch 1/100\n",
      "34/34 [==============================] - 3s 76ms/step - loss: 2485.1179 - accuracy: 0.5956 - auc_2: 0.5985 - val_loss: 3578.9148 - val_accuracy: 0.5417 - val_auc_2: 0.5417 - lr: 0.0010\n",
      "Epoch 2/100\n",
      "34/34 [==============================] - 2s 70ms/step - loss: 757.2433 - accuracy: 0.7721 - auc_2: 0.7721 - val_loss: 1116.3842 - val_accuracy: 0.7917 - val_auc_2: 0.7917 - lr: 0.0010\n",
      "Epoch 3/100\n",
      "34/34 [==============================] - 2s 70ms/step - loss: 611.5765 - accuracy: 0.8382 - auc_2: 0.8382 - val_loss: 806.0654 - val_accuracy: 0.8333 - val_auc_2: 0.8333 - lr: 0.0010\n",
      "Epoch 4/100\n",
      "34/34 [==============================] - 2s 70ms/step - loss: 354.3206 - accuracy: 0.8235 - auc_2: 0.8235 - val_loss: 962.9561 - val_accuracy: 0.8333 - val_auc_2: 0.8333 - lr: 0.0010\n",
      "Epoch 5/100\n",
      "34/34 [==============================] - 2s 70ms/step - loss: 179.5315 - accuracy: 0.9265 - auc_2: 0.9265 - val_loss: 1858.5151 - val_accuracy: 0.5833 - val_auc_2: 0.5833 - lr: 0.0010\n",
      "Epoch 6/100\n",
      "34/34 [==============================] - 2s 71ms/step - loss: 108.1926 - accuracy: 0.9338 - auc_2: 0.9407 - val_loss: 1061.9608 - val_accuracy: 0.7917 - val_auc_2: 0.7917 - lr: 5.0000e-04\n",
      "Epoch 7/100\n",
      "34/34 [==============================] - 2s 71ms/step - loss: 4.0786 - accuracy: 0.9926 - auc_2: 0.9926 - val_loss: 998.4107 - val_accuracy: 0.8333 - val_auc_2: 0.8333 - lr: 5.0000e-04\n",
      "Epoch 8/100\n",
      "34/34 [==============================] - 2s 71ms/step - loss: 5.8224 - accuracy: 0.9853 - auc_2: 0.9853 - val_loss: 913.8852 - val_accuracy: 0.8333 - val_auc_2: 0.8333 - lr: 2.5000e-04\n",
      "Epoch 9/100\n",
      "34/34 [==============================] - 2s 70ms/step - loss: 1.6643 - accuracy: 0.9926 - auc_2: 0.9926 - val_loss: 906.0418 - val_accuracy: 0.8333 - val_auc_2: 0.8333 - lr: 2.5000e-04\n",
      "Epoch 10/100\n",
      "34/34 [==============================] - 2s 71ms/step - loss: 0.0000e+00 - accuracy: 1.0000 - auc_2: 1.0000 - val_loss: 902.2161 - val_accuracy: 0.8333 - val_auc_2: 0.8333 - lr: 1.2500e-04\n",
      "Epoch 11/100\n",
      "34/34 [==============================] - 2s 70ms/step - loss: 0.0000e+00 - accuracy: 1.0000 - auc_2: 1.0000 - val_loss: 898.3027 - val_accuracy: 0.8333 - val_auc_2: 0.8333 - lr: 1.2500e-04\n",
      "Epoch 12/100\n",
      "34/34 [==============================] - 2s 70ms/step - loss: 0.0000e+00 - accuracy: 1.0000 - auc_2: 1.0000 - val_loss: 894.9829 - val_accuracy: 0.8333 - val_auc_2: 0.8333 - lr: 6.2500e-05\n",
      "Epoch 13/100\n",
      "34/34 [==============================] - 2s 70ms/step - loss: 0.0000e+00 - accuracy: 1.0000 - auc_2: 1.0000 - val_loss: 892.9534 - val_accuracy: 0.8333 - val_auc_2: 0.8333 - lr: 6.2500e-05\n",
      "Epoch 14/100\n",
      "34/34 [==============================] - 2s 70ms/step - loss: 0.0000e+00 - accuracy: 1.0000 - auc_2: 1.0000 - val_loss: 891.8874 - val_accuracy: 0.8333 - val_auc_2: 0.8333 - lr: 3.1250e-05\n",
      "Epoch 15/100\n",
      "34/34 [==============================] - 2s 70ms/step - loss: 0.0000e+00 - accuracy: 1.0000 - auc_2: 1.0000 - val_loss: 890.9577 - val_accuracy: 0.8333 - val_auc_2: 0.8333 - lr: 3.1250e-05\n",
      "Epoch 16/100\n",
      "34/34 [==============================] - 2s 70ms/step - loss: 0.0000e+00 - accuracy: 1.0000 - auc_2: 1.0000 - val_loss: 889.9699 - val_accuracy: 0.8333 - val_auc_2: 0.8333 - lr: 1.5625e-05\n",
      "Epoch 17/100\n",
      "34/34 [==============================] - 2s 71ms/step - loss: 0.0000e+00 - accuracy: 1.0000 - auc_2: 1.0000 - val_loss: 889.2936 - val_accuracy: 0.8333 - val_auc_2: 0.8333 - lr: 1.5625e-05\n",
      "Epoch 18/100\n",
      "34/34 [==============================] - 2s 70ms/step - loss: 0.0000e+00 - accuracy: 1.0000 - auc_2: 1.0000 - val_loss: 889.1356 - val_accuracy: 0.8333 - val_auc_2: 0.8333 - lr: 1.0000e-05\n",
      "Epoch 19/100\n",
      "34/34 [==============================] - 2s 70ms/step - loss: 0.0000e+00 - accuracy: 1.0000 - auc_2: 1.0000 - val_loss: 888.9565 - val_accuracy: 0.8333 - val_auc_2: 0.8333 - lr: 1.0000e-05\n",
      "Epoch 20/100\n",
      "34/34 [==============================] - 2s 70ms/step - loss: 0.0000e+00 - accuracy: 1.0000 - auc_2: 1.0000 - val_loss: 888.7319 - val_accuracy: 0.8333 - val_auc_2: 0.8333 - lr: 1.0000e-05\n",
      "Epoch 21/100\n",
      "34/34 [==============================] - 2s 70ms/step - loss: 0.0000e+00 - accuracy: 1.0000 - auc_2: 1.0000 - val_loss: 888.2686 - val_accuracy: 0.8333 - val_auc_2: 0.8333 - lr: 1.0000e-05\n",
      "Epoch 22/100\n",
      "34/34 [==============================] - 2s 70ms/step - loss: 0.0000e+00 - accuracy: 1.0000 - auc_2: 1.0000 - val_loss: 888.2966 - val_accuracy: 0.8333 - val_auc_2: 0.8333 - lr: 1.0000e-05\n",
      "Epoch 23/100\n",
      "34/34 [==============================] - 2s 70ms/step - loss: 0.0000e+00 - accuracy: 1.0000 - auc_2: 1.0000 - val_loss: 888.3986 - val_accuracy: 0.8333 - val_auc_2: 0.8333 - lr: 1.0000e-05\n",
      "Epoch 24/100\n",
      "34/34 [==============================] - 2s 70ms/step - loss: 0.0000e+00 - accuracy: 1.0000 - auc_2: 1.0000 - val_loss: 888.3550 - val_accuracy: 0.8333 - val_auc_2: 0.8333 - lr: 1.0000e-05\n",
      "Epoch 25/100\n",
      "34/34 [==============================] - 2s 70ms/step - loss: 0.0000e+00 - accuracy: 1.0000 - auc_2: 1.0000 - val_loss: 888.2849 - val_accuracy: 0.8333 - val_auc_2: 0.8333 - lr: 1.0000e-05\n",
      "Epoch 26/100\n",
      "34/34 [==============================] - 2s 70ms/step - loss: 0.0000e+00 - accuracy: 1.0000 - auc_2: 1.0000 - val_loss: 888.1168 - val_accuracy: 0.8333 - val_auc_2: 0.8333 - lr: 1.0000e-05\n",
      "Epoch 27/100\n",
      "34/34 [==============================] - 2s 70ms/step - loss: 0.0000e+00 - accuracy: 1.0000 - auc_2: 1.0000 - val_loss: 888.1164 - val_accuracy: 0.8333 - val_auc_2: 0.8333 - lr: 1.0000e-05\n",
      "Epoch 28/100\n",
      "34/34 [==============================] - 2s 70ms/step - loss: 0.0000e+00 - accuracy: 1.0000 - auc_2: 1.0000 - val_loss: 888.1281 - val_accuracy: 0.8333 - val_auc_2: 0.8333 - lr: 1.0000e-05\n",
      "Epoch 29/100\n",
      "34/34 [==============================] - 2s 70ms/step - loss: 0.0000e+00 - accuracy: 1.0000 - auc_2: 1.0000 - val_loss: 888.1935 - val_accuracy: 0.8333 - val_auc_2: 0.8333 - lr: 1.0000e-05\n",
      "Epoch 30/100\n",
      "34/34 [==============================] - 2s 71ms/step - loss: 0.0000e+00 - accuracy: 1.0000 - auc_2: 1.0000 - val_loss: 888.1494 - val_accuracy: 0.8333 - val_auc_2: 0.8333 - lr: 1.0000e-05\n",
      "Epoch 31/100\n",
      "34/34 [==============================] - 2s 70ms/step - loss: 0.0000e+00 - accuracy: 1.0000 - auc_2: 1.0000 - val_loss: 888.0746 - val_accuracy: 0.8333 - val_auc_2: 0.8333 - lr: 1.0000e-05\n",
      "Epoch 32/100\n",
      "34/34 [==============================] - 2s 70ms/step - loss: 0.0000e+00 - accuracy: 1.0000 - auc_2: 1.0000 - val_loss: 888.2009 - val_accuracy: 0.8333 - val_auc_2: 0.8333 - lr: 1.0000e-05\n",
      "Epoch 33/100\n",
      "34/34 [==============================] - 2s 70ms/step - loss: 0.0000e+00 - accuracy: 1.0000 - auc_2: 1.0000 - val_loss: 888.1915 - val_accuracy: 0.8333 - val_auc_2: 0.8333 - lr: 1.0000e-05\n",
      "Epoch 34/100\n",
      "34/34 [==============================] - 2s 70ms/step - loss: 0.0000e+00 - accuracy: 1.0000 - auc_2: 1.0000 - val_loss: 888.1917 - val_accuracy: 0.8333 - val_auc_2: 0.8333 - lr: 1.0000e-05\n",
      "Epoch 35/100\n",
      "34/34 [==============================] - 2s 70ms/step - loss: 0.0000e+00 - accuracy: 1.0000 - auc_2: 1.0000 - val_loss: 888.1917 - val_accuracy: 0.8333 - val_auc_2: 0.8333 - lr: 1.0000e-05\n",
      "Test Accuracy:  0.875\n"
     ]
    },
    {
     "data": {
      "image/png": "[encoded data removed]",
      "text/plain": [
       "<Figure size 432x288 with 1 Axes>"
      ]
     },
     "metadata": {
      "needs_background": "light"
     },
     "output_type": "display_data"
    },
    {
     "data": {
      "image/png": "[encoded data removed]",
      "text/plain": [
       "<Figure size 432x288 with 1 Axes>"
      ]
     },
     "metadata": {
      "needs_background": "light"
     },
     "output_type": "display_data"
    }
   ],
   "source": [
    "from sklearn.model_selection import train_test_split\n",
    "train_X,valid_X,train_ground,valid_ground = train_test_split(train_data,one_hot_labs,test_size=0.2,random_state=13)\n",
    "\n",
    "batch_size_ = 4\n",
    "epochs_ = 100\n",
    "inChannel = train_X.shape[3]\n",
    "x, y =  train_X.shape[1], train_X.shape[2]\n",
    "\n",
    "model = create_model(x, y, inChannel)\n",
    "model.summary()\n",
    "\n",
    "callbacks_list = callbacks(class_type)\n",
    "model.compile( optimizer='adam', loss='categorical_crossentropy', metrics=['accuracy', tf.keras.metrics.AUC()])\n",
    "model_train = model.fit(train_X, train_ground,\n",
    "                    epochs = epochs_, batch_size = batch_size_,\n",
    "                    verbose=1, validation_split=0.15, callbacks=callbacks_list)\n",
    "\n",
    "test_eval=model.evaluate(valid_X,valid_ground, verbose=0)\n",
    "print(\"Test Accuracy: \",test_eval[1])\n",
    "\n",
    "loss = model_train.history['loss']\n",
    "val_loss = model_train.history['val_loss']\n",
    "epochs = range(300)\n",
    "plt.figure()\n",
    "plt.plot(loss, 'b--', label='Training loss')\n",
    "plt.plot(val_loss, 'g--', label='Validation loss')\n",
    "plt.title('Training and validation loss for ' + class_type + ' class')\n",
    "plt.legend()\n",
    "plt.show()\n",
    "\n",
    "acc = model_train.history['accuracy']\n",
    "val_acc = model_train.history['val_accuracy']\n",
    "epochs = range(300)\n",
    "plt.figure()\n",
    "plt.plot(acc, 'b--', label='Training Accuracy')\n",
    "plt.plot(val_acc, 'g--', label='Validation Accuracy')\n",
    "plt.title('Training and validation Accuracy for ' + class_type + ' class')\n",
    "plt.legend()\n",
    "plt.show()"
   ]
  },
  {
   "cell_type": "markdown",
   "id": "5e146459",
   "metadata": {},
   "source": [
    "# THE END"
   ]
  }
 ],
 "metadata": {
  "kernelspec": {
   "display_name": "Python 3 (ipykernel)",
   "language": "python",
   "name": "python3"
  },
  "language_info": {
   "codemirror_mode": {
    "name": "ipython",
    "version": 3
   },
   "file_extension": ".py",
   "mimetype": "text/x-python",
   "name": "python",
   "nbconvert_exporter": "python",
   "pygments_lexer": "ipython3",
   "version": "3.9.13"
  }
 },
 "nbformat": 4,
 "nbformat_minor": 5
}
