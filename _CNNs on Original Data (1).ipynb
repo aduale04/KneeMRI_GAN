{
 "cells": [
  {
   "cell_type": "markdown",
   "id": "7b5c956b",
   "metadata": {},
   "source": [
    "# Training Testing on Original Data (All views stacked together)"
   ]
  },
  {
   "cell_type": "markdown",
   "id": "032b963b",
   "metadata": {},
   "source": [
    "### Loading Required Libraries"
   ]
  },
  {
   "cell_type": "code",
   "execution_count": 89,
   "id": "1e75c2b3",
   "metadata": {
    "execution": {
     "iopub.execute_input": "2022-08-21T18:42:16.773387Z",
     "iopub.status.busy": "2022-08-21T18:42:16.771461Z",
     "iopub.status.idle": "2022-08-21T18:42:16.789507Z",
     "shell.execute_reply": "2022-08-21T18:42:16.787319Z",
     "shell.execute_reply.started": "2022-08-21T18:42:16.773326Z"
    }
   },
   "outputs": [],
   "source": [
    "import os\n",
    "import pandas as pd\n",
    "import numpy as np\n",
    "import matplotlib.pyplot as plt\n",
    "\n",
    "from keras.models import Sequential\n",
    "from keras.layers import Flatten, Dense, BatchNormalization, Conv3D, MaxPooling3D\n",
    "import tensorflow as tf\n",
    "\n",
    "from keras.layers import LeakyReLU\n",
    "from keras.callbacks import EarlyStopping, CSVLogger, ReduceLROnPlateau"
   ]
  },
  {
   "cell_type": "markdown",
   "id": "ceb9bd1b",
   "metadata": {},
   "source": [
    "### Useful Functions"
   ]
  },
  {
   "cell_type": "code",
   "execution_count": 90,
   "id": "e5f7d246",
   "metadata": {
    "execution": {
     "iopub.execute_input": "2022-08-21T18:42:16.793665Z",
     "iopub.status.busy": "2022-08-21T18:42:16.792965Z",
     "iopub.status.idle": "2022-08-21T18:42:16.808275Z",
     "shell.execute_reply": "2022-08-21T18:42:16.806084Z",
     "shell.execute_reply.started": "2022-08-21T18:42:16.793615Z"
    }
   },
   "outputs": [],
   "source": [
    "def callbacks(class_type):\n",
    "    csv_logger = CSVLogger(\"/notebooks/Results/model_history_log_\" + class_type + \".csv\", append=True)\n",
    "    logfilepath = \"Models/setting_model2.csv\"\n",
    "    checkpoint_path = \"Models/cp.ckpt\"\n",
    "    checkpoint_dir = os.path.dirname(checkpoint_path)\n",
    "\n",
    "    reduce_lr_rate=0.5\n",
    "    earlyStopping = EarlyStopping(monitor='val_accuracy', min_delta=0, patience=12, verbose=0, mode='auto')\n",
    "    reduce_lr = ReduceLROnPlateau(monitor='val_accuracy', factor=reduce_lr_rate, patience=2,\n",
    "                                  cooldown=0, min_lr=0.00001, verbose=0)\n",
    "    callbacks_list = [earlyStopping, reduce_lr, csv_logger]\n",
    "    return callbacks_list"
   ]
  },
  {
   "cell_type": "code",
   "execution_count": 91,
   "id": "5ba0307b",
   "metadata": {
    "execution": {
     "iopub.execute_input": "2022-08-21T18:42:16.811376Z",
     "iopub.status.busy": "2022-08-21T18:42:16.810594Z",
     "iopub.status.idle": "2022-08-21T18:42:16.826521Z",
     "shell.execute_reply": "2022-08-21T18:42:16.824724Z",
     "shell.execute_reply.started": "2022-08-21T18:42:16.811291Z"
    }
   },
   "outputs": [],
   "source": [
    "def create_model(x, y, inChannel, z):\n",
    "    model = Sequential()\n",
    "    model.add(Conv3D(filters=32, kernel_size=3, activation=\"relu\",input_shape=(x, y, inChannel, z)))\n",
    "    model.add(LeakyReLU(alpha=0.05))\n",
    "    model.add(Conv3D(filters=64, kernel_size=1, activation=\"relu\",input_shape=(x, y, inChannel, z)))\n",
    "    model.add(LeakyReLU(alpha=0.05))\n",
    "    model.add(BatchNormalization())\n",
    "    model.add(LeakyReLU(alpha=0.05))\n",
    "    model.add(MaxPooling3D(pool_size=2,padding='same'))\n",
    "    model.add(Flatten())\n",
    "    model.add(Dense(100,activation='relu'))\n",
    "    model.add(Dense(2,activation='softmax'))\n",
    "    return model"
   ]
  },
  {
   "cell_type": "markdown",
   "id": "c61ef827",
   "metadata": {},
   "source": [
    "## Slices Data Loading"
   ]
  },
  {
   "cell_type": "markdown",
   "id": "880e5238",
   "metadata": {},
   "source": [
    "### Train and Valid Axial, Coronal, Saggital"
   ]
  },
  {
   "cell_type": "code",
   "execution_count": 92,
   "id": "5b838b8b",
   "metadata": {
    "execution": {
     "iopub.execute_input": "2022-08-21T18:42:16.832283Z",
     "iopub.status.busy": "2022-08-21T18:42:16.831668Z",
     "iopub.status.idle": "2022-08-21T18:42:22.077461Z",
     "shell.execute_reply": "2022-08-21T18:42:22.075511Z",
     "shell.execute_reply.started": "2022-08-21T18:42:16.832232Z"
    }
   },
   "outputs": [],
   "source": [
    "x_input_axial = np.load('/notebooks/training_set_axial.npy')\n",
    "x_input_cor = np.load('/notebooks/training_set_coronal.npy')\n",
    "x_input_sag = np.load('/notebooks/training_set_sagittal.npy')\n",
    "\n",
    "train_data = np.stack((x_input_axial, x_input_cor, x_input_sag), axis=-1)\n",
    "\n",
    "del x_input_axial\n",
    "del x_input_cor\n",
    "del x_input_sag\n",
    "\n",
    "val_input_axial = np.load('/notebooks/valid_set_axial.npy')\n",
    "val_input_cor = np.load('/notebooks/valid_set_coronal.npy')\n",
    "val_input_sag = np.load('/notebooks/valid_set_sagittal.npy')\n",
    "\n",
    "test_data = np.stack((val_input_axial, val_input_cor, val_input_sag), axis=-1)\n",
    "\n",
    "del val_input_axial\n",
    "del val_input_cor\n",
    "del val_input_sag\n"
   ]
  },
  {
   "cell_type": "markdown",
   "id": "78ee3903",
   "metadata": {},
   "source": [
    "### 1. Abnormal Class"
   ]
  },
  {
   "cell_type": "markdown",
   "id": "954c332b",
   "metadata": {},
   "source": [
    "##### Label Loading and converting to one-hot encoding"
   ]
  },
  {
   "cell_type": "code",
   "execution_count": 93,
   "id": "4c1ec0e4",
   "metadata": {
    "execution": {
     "iopub.execute_input": "2022-08-21T18:42:22.080432Z",
     "iopub.status.busy": "2022-08-21T18:42:22.079771Z",
     "iopub.status.idle": "2022-08-21T18:42:22.150886Z",
     "shell.execute_reply": "2022-08-21T18:42:22.149163Z",
     "shell.execute_reply.started": "2022-08-21T18:42:22.080373Z"
    }
   },
   "outputs": [],
   "source": [
    "class_type = 'abnormal'\n",
    "train_labs = pd.read_csv('/notebooks/train-abnormal.csv')\n",
    "valid_labs = pd.read_csv('/notebooks/valid-abnormal.csv')\n",
    "\n",
    "train_1_hot_labs = np.zeros((len(train_labs.Label), 2))\n",
    "val_1_hot_labs = np.zeros((len(valid_labs.Label), 2))\n",
    "\n",
    "ctr = 0\n",
    "for label in train_labs.Label:\n",
    "    if label == 0:\n",
    "        train_1_hot_labs[ctr, 0] = 1\n",
    "    elif label == 1:\n",
    "        train_1_hot_labs[ctr, 1] = 1\n",
    "    ctr+=1\n",
    "\n",
    "ctr = 0\n",
    "for label in valid_labs.Label:\n",
    "    if label == 0:\n",
    "        val_1_hot_labs[ctr, 0] = 1\n",
    "    elif label == 1:\n",
    "        val_1_hot_labs[ctr, 1] = 1\n",
    "    ctr+=1"
   ]
  },
  {
   "cell_type": "markdown",
   "id": "79056497",
   "metadata": {},
   "source": [
    "#### Model Training and Testing"
   ]
  },
  {
   "cell_type": "code",
   "execution_count": 94,
   "id": "53c194e7",
   "metadata": {
    "execution": {
     "iopub.execute_input": "2022-08-21T18:42:22.153709Z",
     "iopub.status.busy": "2022-08-21T18:42:22.153108Z",
     "iopub.status.idle": "2022-08-21T18:44:19.749551Z",
     "shell.execute_reply": "2022-08-21T18:44:19.747559Z",
     "shell.execute_reply.started": "2022-08-21T18:42:22.153654Z"
    }
   },
   "outputs": [
    {
     "name": "stdout",
     "output_type": "stream",
     "text": [
      "Model: \"sequential_28\"\n",
      "_________________________________________________________________\n",
      " Layer (type)                Output Shape              Param #   \n",
      "=================================================================\n",
      " conv3d_53 (Conv3D)          (None, 254, 254, 1, 32)   2624      \n",
      "                                                                 \n",
      " leaky_re_lu_55 (LeakyReLU)  (None, 254, 254, 1, 32)   0         \n",
      "                                                                 \n",
      " conv3d_54 (Conv3D)          (None, 254, 254, 1, 64)   2112      \n",
      "                                                                 \n",
      " leaky_re_lu_56 (LeakyReLU)  (None, 254, 254, 1, 64)   0         \n",
      "                                                                 \n",
      " batch_normalization_25 (Bat  (None, 254, 254, 1, 64)  256       \n",
      " chNormalization)                                                \n",
      "                                                                 \n",
      " leaky_re_lu_57 (LeakyReLU)  (None, 254, 254, 1, 64)   0         \n",
      "                                                                 \n",
      " max_pooling3d_25 (MaxPoolin  (None, 127, 127, 1, 64)  0         \n",
      " g3D)                                                            \n",
      "                                                                 \n",
      " flatten_25 (Flatten)        (None, 1032256)           0         \n",
      "                                                                 \n",
      " dense_50 (Dense)            (None, 100)               103225700 \n",
      "                                                                 \n",
      " dense_51 (Dense)            (None, 2)                 202       \n",
      "                                                                 \n",
      "=================================================================\n",
      "Total params: 103,230,894\n",
      "Trainable params: 103,230,766\n",
      "Non-trainable params: 128\n",
      "_________________________________________________________________\n",
      "None\n",
      "Epoch 1/50\n",
      "120/120 [==============================] - 9s 62ms/step - loss: 45.3228 - accuracy: 0.7615 - auc_1: 0.7651 - val_loss: 81.0938 - val_accuracy: 0.7941 - val_auc_1: 0.7941 - lr: 0.0010\n",
      "Epoch 2/50\n",
      "120/120 [==============================] - 6s 51ms/step - loss: 7.5484 - accuracy: 0.8562 - auc_1: 0.8647 - val_loss: 12.4104 - val_accuracy: 0.7471 - val_auc_1: 0.7618 - lr: 0.0010\n",
      "Epoch 3/50\n",
      "120/120 [==============================] - 6s 51ms/step - loss: 2.5350 - accuracy: 0.9156 - auc_1: 0.9254 - val_loss: 12.5438 - val_accuracy: 0.7941 - val_auc_1: 0.8048 - lr: 0.0010\n",
      "Epoch 4/50\n",
      "120/120 [==============================] - 6s 51ms/step - loss: 0.6949 - accuracy: 0.9656 - auc_1: 0.9695 - val_loss: 11.5830 - val_accuracy: 0.7882 - val_auc_1: 0.7892 - lr: 5.0000e-04\n",
      "Epoch 5/50\n",
      "120/120 [==============================] - 6s 51ms/step - loss: 0.3678 - accuracy: 0.9792 - auc_1: 0.9820 - val_loss: 13.3336 - val_accuracy: 0.7353 - val_auc_1: 0.7403 - lr: 5.0000e-04\n",
      "Epoch 6/50\n",
      "120/120 [==============================] - 6s 52ms/step - loss: 0.0762 - accuracy: 0.9906 - auc_1: 0.9947 - val_loss: 12.4401 - val_accuracy: 0.8000 - val_auc_1: 0.8178 - lr: 2.5000e-04\n",
      "Epoch 7/50\n",
      "120/120 [==============================] - 6s 52ms/step - loss: 0.0183 - accuracy: 0.9969 - auc_1: 0.9979 - val_loss: 11.4875 - val_accuracy: 0.7765 - val_auc_1: 0.7902 - lr: 2.5000e-04\n",
      "Epoch 8/50\n",
      "120/120 [==============================] - 6s 51ms/step - loss: 0.0016 - accuracy: 0.9979 - auc_1: 1.0000 - val_loss: 11.5213 - val_accuracy: 0.7706 - val_auc_1: 0.7725 - lr: 2.5000e-04\n",
      "Epoch 9/50\n",
      "120/120 [==============================] - 6s 51ms/step - loss: 6.2856e-05 - accuracy: 1.0000 - auc_1: 1.0000 - val_loss: 11.4946 - val_accuracy: 0.7765 - val_auc_1: 0.7725 - lr: 1.2500e-04\n",
      "Epoch 10/50\n",
      "120/120 [==============================] - 6s 51ms/step - loss: 7.2010e-06 - accuracy: 1.0000 - auc_1: 1.0000 - val_loss: 11.5265 - val_accuracy: 0.7765 - val_auc_1: 0.7770 - lr: 1.2500e-04\n",
      "Epoch 11/50\n",
      "120/120 [==============================] - 6s 51ms/step - loss: 1.5001e-05 - accuracy: 1.0000 - auc_1: 1.0000 - val_loss: 11.5339 - val_accuracy: 0.7765 - val_auc_1: 0.7770 - lr: 6.2500e-05\n",
      "Epoch 12/50\n",
      "120/120 [==============================] - 6s 51ms/step - loss: 1.5329e-04 - accuracy: 1.0000 - auc_1: 1.0000 - val_loss: 11.4827 - val_accuracy: 0.7765 - val_auc_1: 0.7784 - lr: 6.2500e-05\n",
      "Epoch 13/50\n",
      "120/120 [==============================] - 6s 51ms/step - loss: 3.9932e-07 - accuracy: 1.0000 - auc_1: 1.0000 - val_loss: 11.4894 - val_accuracy: 0.7765 - val_auc_1: 0.7797 - lr: 3.1250e-05\n",
      "Epoch 14/50\n",
      "120/120 [==============================] - 6s 51ms/step - loss: 2.5278e-06 - accuracy: 1.0000 - auc_1: 1.0000 - val_loss: 11.4689 - val_accuracy: 0.7765 - val_auc_1: 0.7784 - lr: 3.1250e-05\n",
      "Epoch 15/50\n",
      "120/120 [==============================] - 6s 51ms/step - loss: 7.9357e-06 - accuracy: 1.0000 - auc_1: 1.0000 - val_loss: 11.4743 - val_accuracy: 0.7765 - val_auc_1: 0.7797 - lr: 1.5625e-05\n",
      "Epoch 16/50\n",
      "120/120 [==============================] - 6s 51ms/step - loss: 4.4858e-07 - accuracy: 1.0000 - auc_1: 1.0000 - val_loss: 11.4804 - val_accuracy: 0.7765 - val_auc_1: 0.7797 - lr: 1.5625e-05\n",
      "Epoch 17/50\n",
      "120/120 [==============================] - 6s 51ms/step - loss: 1.6837e-07 - accuracy: 1.0000 - auc_1: 1.0000 - val_loss: 11.4930 - val_accuracy: 0.7765 - val_auc_1: 0.7797 - lr: 1.0000e-05\n",
      "Epoch 18/50\n",
      "120/120 [==============================] - 6s 51ms/step - loss: 4.0528e-07 - accuracy: 1.0000 - auc_1: 1.0000 - val_loss: 11.4957 - val_accuracy: 0.7765 - val_auc_1: 0.7797 - lr: 1.0000e-05\n",
      "Test Accuracy:  0.8333333134651184\n"
     ]
    },
    {
     "data": {
      "image/png": "[encoded data removed]",
      "text/plain": [
       "<Figure size 432x288 with 1 Axes>"
      ]
     },
     "metadata": {
      "needs_background": "light"
     },
     "output_type": "display_data"
    },
    {
     "data": {
      "image/png": "[encoded data removed]",
      "text/plain": [
       "<Figure size 432x288 with 1 Axes>"
      ]
     },
     "metadata": {
      "needs_background": "light"
     },
     "output_type": "display_data"
    }
   ],
   "source": [
    "batch_size_ = 8\n",
    "epochs_ = 50\n",
    "inChannel = train_data.shape[3]\n",
    "x, y, z =  train_data.shape[1], train_data.shape[2], train_data.shape[4]\n",
    "\n",
    "model = create_model(x, y, inChannel, z)\n",
    "print(model.summary())\n",
    "\n",
    "callbacks_list = callbacks(class_type)\n",
    "model.compile( optimizer='adam', loss='categorical_crossentropy', metrics=['accuracy', tf.keras.metrics.AUC()])\n",
    "model_train = model.fit(train_data, train_1_hot_labs,\n",
    "                    epochs = epochs_, batch_size = batch_size_,\n",
    "                    verbose=1, validation_split=0.15, callbacks=callbacks_list)\n",
    "\n",
    "test_eval=model.evaluate(test_data, val_1_hot_labs, verbose=0)\n",
    "print(\"Test Accuracy: \",test_eval[1])\n",
    "\n",
    "loss = model_train.history['loss']\n",
    "val_loss = model_train.history['val_loss']\n",
    "epochs = range(300)\n",
    "plt.figure()\n",
    "plt.plot(loss, 'b--', label='Training loss')\n",
    "plt.plot(val_loss, 'g--', label='Validation loss')\n",
    "plt.title('Training and validation loss for ' + class_type + ' class')\n",
    "plt.legend()\n",
    "\n",
    "plt.show()\n",
    "\n",
    "acc = model_train.history['accuracy']\n",
    "val_acc = model_train.history['val_accuracy']\n",
    "epochs = range(300)\n",
    "plt.figure()\n",
    "plt.plot(acc, 'b--', label='Training Accuracy')\n",
    "plt.plot(val_acc, 'g--', label='Validation Accuracy')\n",
    "plt.title('Training and validation Accuracy for ' + class_type + ' class')\n",
    "plt.legend()\n",
    "\n",
    "plt.show()"
   ]
  },
  {
   "cell_type": "markdown",
   "id": "b54d8ff2",
   "metadata": {},
   "source": [
    "### 2. ACL Class"
   ]
  },
  {
   "cell_type": "markdown",
   "id": "0a557336",
   "metadata": {},
   "source": [
    "##### Label Loading and converting to one-hot encoding"
   ]
  },
  {
   "cell_type": "code",
   "execution_count": 95,
   "id": "9cdde94a",
   "metadata": {
    "execution": {
     "iopub.execute_input": "2022-08-21T18:44:19.753297Z",
     "iopub.status.busy": "2022-08-21T18:44:19.752579Z",
     "iopub.status.idle": "2022-08-21T18:44:19.873598Z",
     "shell.execute_reply": "2022-08-21T18:44:19.871685Z",
     "shell.execute_reply.started": "2022-08-21T18:44:19.753238Z"
    }
   },
   "outputs": [],
   "source": [
    "class_type = 'acl'\n",
    "train_labs = pd.read_csv('/notebooks/train-acl.csv')\n",
    "valid_labs = pd.read_csv('/notebooks/valid-acl.csv')\n",
    "\n",
    "train_1_hot_labs = np.zeros((len(train_labs.Label), 2))\n",
    "val_1_hot_labs = np.zeros((len(valid_labs.Label), 2))\n",
    "\n",
    "ctr = 0\n",
    "for label in train_labs.Label:\n",
    "    if label == 0:\n",
    "        train_1_hot_labs[ctr, 0] = 1\n",
    "    elif label == 1:\n",
    "        train_1_hot_labs[ctr, 1] = 1\n",
    "    ctr+=1\n",
    "\n",
    "ctr = 0\n",
    "for label in valid_labs.Label:\n",
    "    if label == 0:\n",
    "        val_1_hot_labs[ctr, 0] = 1\n",
    "    elif label == 1:\n",
    "        val_1_hot_labs[ctr, 1] = 1\n",
    "    ctr+=1"
   ]
  },
  {
   "cell_type": "markdown",
   "id": "0c5235dc",
   "metadata": {},
   "source": [
    "#### Model Training and Testing"
   ]
  },
  {
   "cell_type": "code",
   "execution_count": 96,
   "id": "b008ade0",
   "metadata": {
    "execution": {
     "iopub.execute_input": "2022-08-21T18:44:19.877118Z",
     "iopub.status.busy": "2022-08-21T18:44:19.876421Z",
     "iopub.status.idle": "2022-08-21T18:45:33.150274Z",
     "shell.execute_reply": "2022-08-21T18:45:33.148203Z",
     "shell.execute_reply.started": "2022-08-21T18:44:19.877063Z"
    }
   },
   "outputs": [
    {
     "name": "stdout",
     "output_type": "stream",
     "text": [
      "Model: \"sequential_29\"\n",
      "_________________________________________________________________\n",
      " Layer (type)                Output Shape              Param #   \n",
      "=================================================================\n",
      " conv3d_55 (Conv3D)          (None, 254, 254, 1, 32)   2624      \n",
      "                                                                 \n",
      " leaky_re_lu_58 (LeakyReLU)  (None, 254, 254, 1, 32)   0         \n",
      "                                                                 \n",
      " conv3d_56 (Conv3D)          (None, 254, 254, 1, 64)   2112      \n",
      "                                                                 \n",
      " leaky_re_lu_59 (LeakyReLU)  (None, 254, 254, 1, 64)   0         \n",
      "                                                                 \n",
      " batch_normalization_26 (Bat  (None, 254, 254, 1, 64)  256       \n",
      " chNormalization)                                                \n",
      "                                                                 \n",
      " leaky_re_lu_60 (LeakyReLU)  (None, 254, 254, 1, 64)   0         \n",
      "                                                                 \n",
      " max_pooling3d_26 (MaxPoolin  (None, 127, 127, 1, 64)  0         \n",
      " g3D)                                                            \n",
      "                                                                 \n",
      " flatten_26 (Flatten)        (None, 1032256)           0         \n",
      "                                                                 \n",
      " dense_52 (Dense)            (None, 100)               103225700 \n",
      "                                                                 \n",
      " dense_53 (Dense)            (None, 2)                 202       \n",
      "                                                                 \n",
      "=================================================================\n",
      "Total params: 103,230,894\n",
      "Trainable params: 103,230,766\n",
      "Non-trainable params: 128\n",
      "_________________________________________________________________\n",
      "None\n",
      "Epoch 1/100\n",
      "60/60 [==============================] - 8s 107ms/step - loss: 46.4845 - accuracy: 0.7177 - auc_2: 0.7197 - val_loss: 28.9550 - val_accuracy: 0.8471 - val_auc_2: 0.8462 - lr: 0.0010\n",
      "Epoch 2/100\n",
      "60/60 [==============================] - 5s 84ms/step - loss: 4.2585 - accuracy: 0.8687 - auc_2: 0.8749 - val_loss: 8.1400 - val_accuracy: 0.8176 - val_auc_2: 0.8214 - lr: 0.0010\n",
      "Epoch 3/100\n",
      "60/60 [==============================] - 5s 84ms/step - loss: 1.1114 - accuracy: 0.9333 - auc_2: 0.9529 - val_loss: 15.3194 - val_accuracy: 0.8471 - val_auc_2: 0.8462 - lr: 0.0010\n",
      "Epoch 4/100\n",
      "60/60 [==============================] - 5s 84ms/step - loss: 0.4513 - accuracy: 0.9615 - auc_2: 0.9721 - val_loss: 5.7524 - val_accuracy: 0.8294 - val_auc_2: 0.8506 - lr: 5.0000e-04\n",
      "Epoch 5/100\n",
      "60/60 [==============================] - 5s 85ms/step - loss: 0.3925 - accuracy: 0.9750 - auc_2: 0.9807 - val_loss: 6.3351 - val_accuracy: 0.8176 - val_auc_2: 0.8290 - lr: 5.0000e-04\n",
      "Epoch 6/100\n",
      "60/60 [==============================] - 5s 85ms/step - loss: 0.0444 - accuracy: 0.9927 - auc_2: 0.9989 - val_loss: 5.3788 - val_accuracy: 0.8118 - val_auc_2: 0.8347 - lr: 2.5000e-04\n",
      "Epoch 7/100\n",
      "60/60 [==============================] - 5s 85ms/step - loss: 0.0288 - accuracy: 0.9958 - auc_2: 0.9968 - val_loss: 5.6133 - val_accuracy: 0.8176 - val_auc_2: 0.8290 - lr: 2.5000e-04\n",
      "Epoch 8/100\n",
      "60/60 [==============================] - 5s 84ms/step - loss: 2.1835e-04 - accuracy: 1.0000 - auc_2: 1.0000 - val_loss: 5.6510 - val_accuracy: 0.8235 - val_auc_2: 0.8337 - lr: 1.2500e-04\n",
      "Epoch 9/100\n",
      "60/60 [==============================] - 5s 85ms/step - loss: 2.6027e-05 - accuracy: 1.0000 - auc_2: 1.0000 - val_loss: 5.7245 - val_accuracy: 0.8235 - val_auc_2: 0.8385 - lr: 1.2500e-04\n",
      "Epoch 10/100\n",
      "60/60 [==============================] - 5s 85ms/step - loss: 1.1313e-06 - accuracy: 1.0000 - auc_2: 1.0000 - val_loss: 5.7267 - val_accuracy: 0.8294 - val_auc_2: 0.8387 - lr: 6.2500e-05\n",
      "Epoch 11/100\n",
      "60/60 [==============================] - 5s 85ms/step - loss: 8.4433e-05 - accuracy: 1.0000 - auc_2: 1.0000 - val_loss: 5.7613 - val_accuracy: 0.8294 - val_auc_2: 0.8435 - lr: 6.2500e-05\n",
      "Epoch 12/100\n",
      "60/60 [==============================] - 5s 86ms/step - loss: 1.3294e-06 - accuracy: 1.0000 - auc_2: 1.0000 - val_loss: 5.7730 - val_accuracy: 0.8294 - val_auc_2: 0.8436 - lr: 3.1250e-05\n",
      "Epoch 13/100\n",
      "60/60 [==============================] - 5s 85ms/step - loss: 6.6297e-06 - accuracy: 1.0000 - auc_2: 1.0000 - val_loss: 5.7841 - val_accuracy: 0.8294 - val_auc_2: 0.8446 - lr: 3.1250e-05\n",
      "Test Accuracy:  0.7250000238418579\n"
     ]
    },
    {
     "data": {
      "image/png": "[encoded data removed]",
      "text/plain": [
       "<Figure size 432x288 with 1 Axes>"
      ]
     },
     "metadata": {
      "needs_background": "light"
     },
     "output_type": "display_data"
    },
    {
     "data": {
      "image/png": "[encoded data removed]",
      "text/plain": [
       "<Figure size 432x288 with 1 Axes>"
      ]
     },
     "metadata": {
      "needs_background": "light"
     },
     "output_type": "display_data"
    }
   ],
   "source": [
    "batch_size_ = 16\n",
    "epochs_ = 100\n",
    "inChannel = train_data.shape[3]\n",
    "x, y, z =  train_data.shape[1], train_data.shape[2], train_data.shape[4]\n",
    "\n",
    "model = create_model(x, y, inChannel, z)\n",
    "print(model.summary())\n",
    "\n",
    "callbacks_list = callbacks(class_type)\n",
    "model.compile( optimizer='adam', loss='categorical_crossentropy', metrics=['accuracy', tf.keras.metrics.AUC()])\n",
    "model_train = model.fit(train_data, train_1_hot_labs,\n",
    "                    epochs = epochs_, batch_size = batch_size_,\n",
    "                    verbose=1, validation_split=0.15, callbacks=callbacks_list)\n",
    "\n",
    "test_eval=model.evaluate(test_data, val_1_hot_labs, verbose=0)\n",
    "print(\"Test Accuracy: \",test_eval[1])\n",
    "\n",
    "loss = model_train.history['loss']\n",
    "val_loss = model_train.history['val_loss']\n",
    "epochs = range(300)\n",
    "plt.figure()\n",
    "plt.plot(loss, 'b--', label='Training loss')\n",
    "plt.plot(val_loss, 'g--', label='Validation loss')\n",
    "plt.title('Training and validation loss for ' + class_type + ' class')\n",
    "plt.legend()\n",
    "\n",
    "plt.show()\n",
    "\n",
    "acc = model_train.history['accuracy']\n",
    "val_acc = model_train.history['val_accuracy']\n",
    "epochs = range(300)\n",
    "plt.figure()\n",
    "plt.plot(acc, 'b--', label='Training Accuracy')\n",
    "plt.plot(val_acc, 'g--', label='Validation Accuracy')\n",
    "plt.title('Training and validation Accuracy for ' + class_type + ' class')\n",
    "plt.legend()\n",
    "\n",
    "plt.show()"
   ]
  },
  {
   "cell_type": "markdown",
   "id": "a050530b",
   "metadata": {},
   "source": [
    "### 3. Meniscus Class"
   ]
  },
  {
   "cell_type": "markdown",
   "id": "e30e1923",
   "metadata": {},
   "source": [
    "##### Label Loading and converting to one-hot encoding"
   ]
  },
  {
   "cell_type": "code",
   "execution_count": 97,
   "id": "66ad1961",
   "metadata": {
    "execution": {
     "iopub.execute_input": "2022-08-21T18:45:33.153426Z",
     "iopub.status.busy": "2022-08-21T18:45:33.152784Z",
     "iopub.status.idle": "2022-08-21T18:45:33.266182Z",
     "shell.execute_reply": "2022-08-21T18:45:33.264577Z",
     "shell.execute_reply.started": "2022-08-21T18:45:33.153368Z"
    }
   },
   "outputs": [],
   "source": [
    "class_type = 'meniscus'\n",
    "train_labs = pd.read_csv('/notebooks/train-meniscus.csv')\n",
    "valid_labs = pd.read_csv('/notebooks/valid-meniscus.csv')\n",
    "\n",
    "train_1_hot_labs = np.zeros((len(train_labs.Label), 2))\n",
    "val_1_hot_labs = np.zeros((len(valid_labs.Label), 2))\n",
    "\n",
    "ctr = 0\n",
    "for label in train_labs.Label:\n",
    "    if label == 0:\n",
    "        train_1_hot_labs[ctr, 0] = 1\n",
    "    elif label == 1:\n",
    "        train_1_hot_labs[ctr, 1] = 1\n",
    "    ctr+=1\n",
    "\n",
    "ctr = 0\n",
    "for label in valid_labs.Label:\n",
    "    if label == 0:\n",
    "        val_1_hot_labs[ctr, 0] = 1\n",
    "    elif label == 1:\n",
    "        val_1_hot_labs[ctr, 1] = 1\n",
    "    ctr+=1"
   ]
  },
  {
   "cell_type": "markdown",
   "id": "6d4743b4",
   "metadata": {},
   "source": [
    "#### Model Training and Testin"
   ]
  },
  {
   "cell_type": "code",
   "execution_count": 99,
   "id": "4d91ef37",
   "metadata": {
    "execution": {
     "iopub.execute_input": "2022-08-21T18:46:58.168848Z",
     "iopub.status.busy": "2022-08-21T18:46:58.167015Z",
     "iopub.status.idle": "2022-08-21T18:49:28.788865Z",
     "shell.execute_reply": "2022-08-21T18:49:28.787020Z",
     "shell.execute_reply.started": "2022-08-21T18:46:58.168776Z"
    }
   },
   "outputs": [
    {
     "name": "stdout",
     "output_type": "stream",
     "text": [
      "Model: \"sequential_31\"\n",
      "_________________________________________________________________\n",
      " Layer (type)                Output Shape              Param #   \n",
      "=================================================================\n",
      " conv3d_59 (Conv3D)          (None, 254, 254, 1, 32)   2624      \n",
      "                                                                 \n",
      " leaky_re_lu_64 (LeakyReLU)  (None, 254, 254, 1, 32)   0         \n",
      "                                                                 \n",
      " conv3d_60 (Conv3D)          (None, 254, 254, 1, 64)   2112      \n",
      "                                                                 \n",
      " leaky_re_lu_65 (LeakyReLU)  (None, 254, 254, 1, 64)   0         \n",
      "                                                                 \n",
      " batch_normalization_28 (Bat  (None, 254, 254, 1, 64)  256       \n",
      " chNormalization)                                                \n",
      "                                                                 \n",
      " leaky_re_lu_66 (LeakyReLU)  (None, 254, 254, 1, 64)   0         \n",
      "                                                                 \n",
      " max_pooling3d_28 (MaxPoolin  (None, 127, 127, 1, 64)  0         \n",
      " g3D)                                                            \n",
      "                                                                 \n",
      " flatten_28 (Flatten)        (None, 1032256)           0         \n",
      "                                                                 \n",
      " dense_56 (Dense)            (None, 100)               103225700 \n",
      "                                                                 \n",
      " dense_57 (Dense)            (None, 2)                 202       \n",
      "                                                                 \n",
      "=================================================================\n",
      "Total params: 103,230,894\n",
      "Trainable params: 103,230,766\n",
      "Non-trainable params: 128\n",
      "_________________________________________________________________\n",
      "None\n",
      "Epoch 1/100\n",
      "120/120 [==============================] - 9s 61ms/step - loss: 101.1810 - accuracy: 0.5979 - auc_4: 0.5945 - val_loss: 49.9552 - val_accuracy: 0.4529 - val_auc_4: 0.4696 - lr: 0.0010\n",
      "Epoch 2/100\n",
      "120/120 [==============================] - 6s 51ms/step - loss: 7.9882 - accuracy: 0.7656 - auc_4: 0.7923 - val_loss: 3.0301 - val_accuracy: 0.5706 - val_auc_4: 0.6736 - lr: 0.0010\n",
      "Epoch 3/100\n",
      "120/120 [==============================] - 6s 51ms/step - loss: 0.5118 - accuracy: 0.7490 - auc_4: 0.8410 - val_loss: 0.6410 - val_accuracy: 0.6588 - val_auc_4: 0.7410 - lr: 0.0010\n",
      "Epoch 4/100\n",
      "120/120 [==============================] - 6s 51ms/step - loss: 0.3973 - accuracy: 0.8427 - auc_4: 0.9053 - val_loss: 0.6218 - val_accuracy: 0.6059 - val_auc_4: 0.6939 - lr: 0.0010\n",
      "Epoch 5/100\n",
      "120/120 [==============================] - 6s 51ms/step - loss: 0.3651 - accuracy: 0.8646 - auc_4: 0.9203 - val_loss: 0.8599 - val_accuracy: 0.6235 - val_auc_4: 0.7211 - lr: 0.0010\n",
      "Epoch 6/100\n",
      "120/120 [==============================] - 6s 52ms/step - loss: 0.2903 - accuracy: 0.9250 - auc_4: 0.9651 - val_loss: 0.8930 - val_accuracy: 0.6706 - val_auc_4: 0.7363 - lr: 5.0000e-04\n",
      "Epoch 7/100\n",
      "120/120 [==============================] - 6s 52ms/step - loss: 0.2459 - accuracy: 0.9573 - auc_4: 0.9809 - val_loss: 0.9107 - val_accuracy: 0.6176 - val_auc_4: 0.7184 - lr: 5.0000e-04\n",
      "Epoch 8/100\n",
      "120/120 [==============================] - 6s 51ms/step - loss: 0.2019 - accuracy: 0.9625 - auc_4: 0.9885 - val_loss: 0.8981 - val_accuracy: 0.6176 - val_auc_4: 0.7024 - lr: 5.0000e-04\n",
      "Epoch 9/100\n",
      "120/120 [==============================] - 6s 51ms/step - loss: 0.0989 - accuracy: 0.9708 - auc_4: 0.9957 - val_loss: 1.1012 - val_accuracy: 0.5882 - val_auc_4: 0.6543 - lr: 2.5000e-04\n",
      "Epoch 10/100\n",
      "120/120 [==============================] - 6s 51ms/step - loss: 0.0582 - accuracy: 0.9875 - auc_4: 0.9992 - val_loss: 1.1483 - val_accuracy: 0.6588 - val_auc_4: 0.7001 - lr: 2.5000e-04\n",
      "Epoch 11/100\n",
      "120/120 [==============================] - 6s 51ms/step - loss: 0.0242 - accuracy: 0.9958 - auc_4: 1.0000 - val_loss: 1.2126 - val_accuracy: 0.6765 - val_auc_4: 0.7134 - lr: 1.2500e-04\n",
      "Epoch 12/100\n",
      "120/120 [==============================] - 6s 51ms/step - loss: 0.0200 - accuracy: 0.9958 - auc_4: 1.0000 - val_loss: 1.1889 - val_accuracy: 0.6529 - val_auc_4: 0.7067 - lr: 1.2500e-04\n",
      "Epoch 13/100\n",
      "120/120 [==============================] - 6s 52ms/step - loss: 0.0170 - accuracy: 0.9958 - auc_4: 1.0000 - val_loss: 1.2212 - val_accuracy: 0.6706 - val_auc_4: 0.7092 - lr: 1.2500e-04\n",
      "Epoch 14/100\n",
      "120/120 [==============================] - 6s 52ms/step - loss: 0.0148 - accuracy: 0.9958 - auc_4: 1.0000 - val_loss: 1.2430 - val_accuracy: 0.6647 - val_auc_4: 0.7088 - lr: 6.2500e-05\n",
      "Epoch 15/100\n",
      "120/120 [==============================] - 6s 52ms/step - loss: 0.0137 - accuracy: 0.9958 - auc_4: 1.0000 - val_loss: 1.2500 - val_accuracy: 0.6529 - val_auc_4: 0.7075 - lr: 6.2500e-05\n",
      "Epoch 16/100\n",
      "120/120 [==============================] - 6s 51ms/step - loss: 0.0131 - accuracy: 0.9958 - auc_4: 1.0000 - val_loss: 1.2669 - val_accuracy: 0.6471 - val_auc_4: 0.7063 - lr: 3.1250e-05\n",
      "Epoch 17/100\n",
      "120/120 [==============================] - 6s 51ms/step - loss: 0.0122 - accuracy: 0.9958 - auc_4: 1.0000 - val_loss: 1.2654 - val_accuracy: 0.6588 - val_auc_4: 0.7071 - lr: 3.1250e-05\n",
      "Epoch 18/100\n",
      "120/120 [==============================] - 6s 51ms/step - loss: 0.0124 - accuracy: 0.9958 - auc_4: 1.0000 - val_loss: 1.2717 - val_accuracy: 0.6588 - val_auc_4: 0.7083 - lr: 1.5625e-05\n",
      "Epoch 19/100\n",
      "120/120 [==============================] - 6s 52ms/step - loss: 0.0117 - accuracy: 0.9958 - auc_4: 1.0000 - val_loss: 1.2758 - val_accuracy: 0.6588 - val_auc_4: 0.7087 - lr: 1.5625e-05\n",
      "Epoch 20/100\n",
      "120/120 [==============================] - 6s 52ms/step - loss: 0.0111 - accuracy: 0.9958 - auc_4: 1.0000 - val_loss: 1.2835 - val_accuracy: 0.6529 - val_auc_4: 0.7102 - lr: 1.0000e-05\n",
      "Epoch 21/100\n",
      "120/120 [==============================] - 6s 52ms/step - loss: 0.0106 - accuracy: 0.9969 - auc_4: 1.0000 - val_loss: 1.2829 - val_accuracy: 0.6529 - val_auc_4: 0.7091 - lr: 1.0000e-05\n",
      "Epoch 22/100\n",
      "120/120 [==============================] - 6s 52ms/step - loss: 0.0112 - accuracy: 0.9969 - auc_4: 1.0000 - val_loss: 1.2809 - val_accuracy: 0.6588 - val_auc_4: 0.7110 - lr: 1.0000e-05\n",
      "Epoch 23/100\n",
      "120/120 [==============================] - 6s 52ms/step - loss: 0.0108 - accuracy: 0.9969 - auc_4: 1.0000 - val_loss: 1.2839 - val_accuracy: 0.6529 - val_auc_4: 0.7107 - lr: 1.0000e-05\n",
      "Test Accuracy:  0.6083333492279053\n"
     ]
    },
    {
     "data": {
      "image/png": "[encoded data removed]",
      "text/plain": [
       "<Figure size 432x288 with 1 Axes>"
      ]
     },
     "metadata": {
      "needs_background": "light"
     },
     "output_type": "display_data"
    },
    {
     "data": {
      "image/png": "[encoded data removed]",
      "text/plain": [
       "<Figure size 432x288 with 1 Axes>"
      ]
     },
     "metadata": {
      "needs_background": "light"
     },
     "output_type": "display_data"
    }
   ],
   "source": [
    "batch_size_ = 16\n",
    "epochs_ = 100\n",
    "inChannel = train_data.shape[3]\n",
    "x, y, z =  train_data.shape[1], train_data.shape[2], train_data.shape[4]\n",
    "\n",
    "model = create_model(x, y, inChannel, z)\n",
    "print(model.summary())\n",
    "\n",
    "callbacks_list = callbacks(class_type)\n",
    "model.compile( optimizer='adam', loss='categorical_crossentropy', metrics=['accuracy',tf.keras.metrics.AUC() ])\n",
    "model_train = model.fit(train_data, train_1_hot_labs,\n",
    "                    epochs = epochs_, batch_size = batch_size_,\n",
    "                    verbose=1, validation_split=0.15, callbacks=callbacks_list)\n",
    "\n",
    "test_eval=model.evaluate(test_data, val_1_hot_labs, verbose=0)\n",
    "print(\"Test Accuracy: \",test_eval[1])\n",
    "\n",
    "loss = model_train.history['loss']\n",
    "val_loss = model_train.history['val_loss']\n",
    "epochs = range(300)\n",
    "plt.figure()\n",
    "plt.plot(loss, 'b--', label='Training loss')\n",
    "plt.plot(val_loss, 'g--', label='Validation loss')\n",
    "plt.title('Training and validation loss for ' + class_type + ' class')\n",
    "plt.legend()\n",
    "\n",
    "plt.show()\n",
    "\n",
    "acc = model_train.history['accuracy']\n",
    "val_acc = model_train.history['val_accuracy']\n",
    "epochs = range(300)\n",
    "plt.figure()\n",
    "plt.plot(acc, 'b--', label='Training Accuracy')\n",
    "plt.plot(val_acc, 'g--', label='Validation Accuracy')\n",
    "plt.title('Training and validation Accuracy for ' + class_type + ' class')\n",
    "plt.legend()\n",
    "\n",
    "plt.show()"
   ]
  }
 ],
 "metadata": {
  "kernelspec": {
   "display_name": "Python 3 (ipykernel)",
   "language": "python",
   "name": "python3"
  },
  "language_info": {
   "codemirror_mode": {
    "name": "ipython",
    "version": 3
   },
   "file_extension": ".py",
   "mimetype": "text/x-python",
   "name": "python",
   "nbconvert_exporter": "python",
   "pygments_lexer": "ipython3",
   "version": "3.9.13"
  }
 },
 "nbformat": 4,
 "nbformat_minor": 5
}
