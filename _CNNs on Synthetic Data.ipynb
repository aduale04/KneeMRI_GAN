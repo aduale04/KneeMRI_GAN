{
 "cells": [
  {
   "cell_type": "markdown",
   "id": "107d7b7f",
   "metadata": {},
   "source": [
    "# CNN Trained on Synthetic Data"
   ]
  },
  {
   "cell_type": "markdown",
   "id": "9732402d",
   "metadata": {},
   "source": [
    "## Loading Required Libraries"
   ]
  },
  {
   "cell_type": "code",
   "execution_count": 2,
   "id": "b9678d5a",
   "metadata": {},
   "outputs": [],
   "source": [
    "import cv2\n",
    "import os\n",
    "import numpy as np\n",
    "import matplotlib.pyplot as plt\n",
    "\n",
    "from keras.models import Sequential\n",
    "from keras.layers import Conv2D,Flatten,MaxPooling2D, Dense, BatchNormalization, LeakyReLU\n",
    "from keras.callbacks import EarlyStopping, CSVLogger, ReduceLROnPlateau"
   ]
  },
  {
   "cell_type": "code",
   "execution_count": 3,
   "id": "fea97634",
   "metadata": {},
   "outputs": [],
   "source": [
    "def load_images(path):\n",
    "    images = []\n",
    "    for file in os.listdir(path):\n",
    "        img = cv2.imread(os.path.join(path, file))\n",
    "        if img is not None:\n",
    "            images.append(img)\n",
    "    return images"
   ]
  },
  {
   "cell_type": "code",
   "execution_count": 4,
   "id": "7afc4c58",
   "metadata": {},
   "outputs": [],
   "source": [
    "def create_model(x, y, inChannel):\n",
    "    model=Sequential()\n",
    "    model.add(Conv2D(16, (3,3),input_shape=(x, y, inChannel)))\n",
    "    model.add(LeakyReLU(alpha=0.05))\n",
    "    model.add(Conv2D(32, (3,3), input_shape=(x, y, inChannel)))\n",
    "    model.add(BatchNormalization())\n",
    "    model.add(LeakyReLU(alpha=0.05))\n",
    "    model.add(MaxPooling2D((3,3),padding='same',strides=(1,1)))\n",
    "    model.add(Flatten())\n",
    "    model.add(Dense(100,activation='relu'))\n",
    "    model.add(Dense(2,activation='softmax'))\n",
    "    return model"
   ]
  },
  {
   "cell_type": "code",
   "execution_count": 5,
   "id": "6c52d512",
   "metadata": {},
   "outputs": [],
   "source": [
    "def callbacks(class_type):\n",
    "    csv_logger = CSVLogger(\"Results/model_history_\"+class_type+\"_synth.csv\", append=True)\n",
    "    reduce_lr_rate=0.5\n",
    "    earlyStopping = EarlyStopping(monitor='val_accuracy', min_delta=0, patience=32, verbose=0, mode='auto')\n",
    "    reduce_lr = ReduceLROnPlateau(monitor='val_accuracy', factor=reduce_lr_rate, patience=2,\n",
    "                                  cooldown=0, min_lr=0.00001, verbose=0)\n",
    "    callbacks_list = [earlyStopping, reduce_lr, csv_logger]\n",
    "    return callbacks_list"
   ]
  },
  {
   "cell_type": "markdown",
   "id": "3c019dd5",
   "metadata": {},
   "source": [
    "## Abnormal Class"
   ]
  },
  {
   "cell_type": "markdown",
   "id": "bd19d1d1",
   "metadata": {},
   "source": [
    "### Data Loading"
   ]
  },
  {
   "cell_type": "code",
   "execution_count": 77,
   "id": "681812e5",
   "metadata": {},
   "outputs": [],
   "source": [
    "class_type = 'abnormal'\n",
    "no_path = class_type + '_new/'+class_type+'_class_0/'\n",
    "yes_path = class_type + '_new/'+class_type+'_class_1/'\n",
    "\n",
    "no_data = load_images(no_path)\n",
    "no_data = np.stack(no_data, axis = -1)\n",
    "no_data = np.moveaxis(no_data, -1, 0)\n",
    "no_labs = np.zeros((no_data.shape[0], 1))\n",
    "\n",
    "yes_data = load_images(yes_path)\n",
    "yes_data = np.stack(yes_data, axis = -1)\n",
    "yes_data = np.moveaxis(yes_data, -1, 0)\n",
    "yes_labs = np.ones((yes_data.shape[0], 1))\n",
    "\n",
    "train_data = np.vstack((no_data, yes_data))\n",
    "labels = np.vstack((no_labs, yes_labs))\n",
    "\n",
    "one_hot_labs = np.zeros((len(labels), 2))\n",
    "\n",
    "ctr = 0\n",
    "for label in labels:\n",
    "    if label == 0:\n",
    "        one_hot_labs[ctr, 0] = 1\n",
    "    elif label == 1:\n",
    "        one_hot_labs[ctr, 1] = 1\n",
    "    ctr+=1"
   ]
  },
  {
   "cell_type": "markdown",
   "id": "13219701",
   "metadata": {},
   "source": [
    "### Train and Validate"
   ]
  },
  {
   "cell_type": "code",
   "execution_count": null,
   "id": "5283b58a",
   "metadata": {},
   "outputs": [
    {
     "name": "stdout",
     "output_type": "stream",
     "text": [
      "Model: \"sequential\"\n",
      "_________________________________________________________________\n",
      " Layer (type)                Output Shape              Param #   \n",
      "=================================================================\n",
      " conv2d (Conv2D)             (None, 510, 510, 16)      448       \n",
      "                                                                 \n",
      " leaky_re_lu (LeakyReLU)     (None, 510, 510, 16)      0         \n",
      "                                                                 \n",
      " conv2d_1 (Conv2D)           (None, 508, 508, 32)      4640      \n",
      "                                                                 \n",
      " batch_normalization (BatchN  (None, 508, 508, 32)     128       \n",
      " ormalization)                                                   \n",
      "                                                                 \n",
      " leaky_re_lu_1 (LeakyReLU)   (None, 508, 508, 32)      0         \n",
      "                                                                 \n",
      " max_pooling2d (MaxPooling2D  (None, 508, 508, 32)     0         \n",
      " )                                                               \n",
      "                                                                 \n",
      " conv2d_2 (Conv2D)           (None, 506, 506, 64)      18496     \n",
      "                                                                 \n",
      " batch_normalization_1 (Batc  (None, 506, 506, 64)     256       \n",
      " hNormalization)                                                 \n",
      "                                                                 \n",
      " leaky_re_lu_2 (LeakyReLU)   (None, 506, 506, 64)      0         \n",
      "                                                                 \n",
      " flatten (Flatten)           (None, 16386304)          0         \n",
      "                                                                 \n",
      " dense (Dense)               (None, 100)               1638630500\n",
      "                                                                 \n",
      " dense_1 (Dense)             (None, 2)                 202       \n",
      "                                                                 \n",
      "=================================================================\n",
      "Total params: 1,638,654,670\n",
      "Trainable params: 1,638,654,478\n",
      "Non-trainable params: 192\n",
      "_________________________________________________________________\n",
      "Epoch 1/100\n"
     ]
    }
   ],
   "source": [
    "from sklearn.model_selection import train_test_split\n",
    "train_X,valid_X,train_ground,valid_ground = train_test_split(train_data,one_hot_labs,test_size=0.2,random_state=13)\n",
    "\n",
    "batch_size_ = 4\n",
    "epochs_ = 100\n",
    "inChannel = train_X.shape[3]\n",
    "x, y =  train_X.shape[1], train_X.shape[2]\n",
    "\n",
    "model = create_model(x, y, inChannel)\n",
    "model.summary()\n",
    "\n",
    "callbacks_list = callbacks(class_type)\n",
    "model.compile( optimizer='adam', loss='categorical_crossentropy', metrics=['accuracy'])\n",
    "model_train = model.fit(train_X, train_ground,\n",
    "                    epochs = epochs_, batch_size = batch_size_,\n",
    "                    verbose=1, validation_split=0.15, callbacks=callbacks_list)\n",
    "\n",
    "test_eval=model.evaluate(valid_X,valid_ground, verbose=0)\n",
    "print(\"Test Accuracy: \",test_eval[1])\n",
    "\n",
    "loss = model_train.history['loss']\n",
    "val_loss = model_train.history['val_loss']\n",
    "epochs = range(300)\n",
    "plt.figure()\n",
    "plt.plot(loss, 'b--', label='Training loss')\n",
    "plt.plot(val_loss, 'g--', label='Validation loss')\n",
    "plt.title('Training and validation loss for ' + class_type + ' class')\n",
    "plt.legend()\n",
    "plt.show()\n",
    "\n",
    "acc = model_train.history['accuracy']\n",
    "val_acc = model_train.history['val_accuracy']\n",
    "epochs = range(300)\n",
    "plt.figure()\n",
    "plt.plot(acc, 'b--', label='Training Accuracy')\n",
    "plt.plot(val_acc, 'g--', label='Validation Accuracy')\n",
    "plt.title('Training and validation Accuracy for ' + class_type + ' class')\n",
    "plt.legend()\n",
    "plt.show()"
   ]
  },
  {
   "cell_type": "markdown",
   "id": "ff846526",
   "metadata": {},
   "source": [
    "## 2. ACL Class"
   ]
  },
  {
   "cell_type": "markdown",
   "id": "f42421bd",
   "metadata": {},
   "source": [
    "### Data Loading"
   ]
  },
  {
   "cell_type": "code",
   "execution_count": 6,
   "id": "1facdab3",
   "metadata": {},
   "outputs": [],
   "source": [
    "class_type = 'acl'\n",
    "no_path = class_type + '_new/'+class_type+'_class_0/'\n",
    "yes_path = class_type + '_new/'+class_type+'_class_1/'\n",
    "\n",
    "no_data = load_images(no_path)\n",
    "no_data = np.stack(no_data, axis = -1)\n",
    "no_data = np.moveaxis(no_data, -1, 0)\n",
    "no_labs = np.zeros((no_data.shape[0], 1))\n",
    "\n",
    "yes_data = load_images(yes_path)\n",
    "yes_data = np.stack(yes_data, axis = -1)\n",
    "yes_data = np.moveaxis(yes_data, -1, 0)\n",
    "yes_labs = np.ones((yes_data.shape[0], 1))\n",
    "\n",
    "train_data = np.vstack((no_data, yes_data))\n",
    "labels = np.vstack((no_labs, yes_labs))\n",
    "\n",
    "one_hot_labs = np.zeros((len(labels), 2))\n",
    "\n",
    "ctr = 0\n",
    "for label in labels:\n",
    "    if label == 0:\n",
    "        one_hot_labs[ctr, 0] = 1\n",
    "    elif label == 1:\n",
    "        one_hot_labs[ctr, 1] = 1\n",
    "    ctr+=1"
   ]
  },
  {
   "cell_type": "markdown",
   "id": "733485e4",
   "metadata": {},
   "source": [
    "### Train and Validate"
   ]
  },
  {
   "cell_type": "code",
   "execution_count": null,
   "id": "bbaa7777",
   "metadata": {},
   "outputs": [],
   "source": [
    "from sklearn.model_selection import train_test_split\n",
    "train_X,valid_X,train_ground,valid_ground = train_test_split(train_data,one_hot_labs,test_size=0.2,random_state=13)\n",
    "\n",
    "batch_size_ = 4\n",
    "epochs_ = 100\n",
    "inChannel = train_X.shape[3]\n",
    "x, y =  train_X.shape[1], train_X.shape[2]\n",
    "\n",
    "model = create_model(x, y, inChannel)\n",
    "model.summary()\n",
    "\n",
    "callbacks_list = callbacks(class_type)\n",
    "model.compile( optimizer='adam', loss='categorical_crossentropy', metrics=['accuracy'])\n",
    "model_train = model.fit(train_X, train_ground,\n",
    "                    epochs = epochs_, batch_size = batch_size_,\n",
    "                    verbose=1, validation_split=0.15, callbacks=callbacks_list)\n",
    "\n",
    "test_eval=model.evaluate(valid_X,valid_ground, verbose=0)\n",
    "print(\"Test Accuracy: \",test_eval[1])\n",
    "\n",
    "loss = model_train.history['loss']\n",
    "val_loss = model_train.history['val_loss']\n",
    "epochs = range(300)\n",
    "plt.figure()\n",
    "plt.plot(loss, 'b--', label='Training loss')\n",
    "plt.plot(val_loss, 'g--', label='Validation loss')\n",
    "plt.title('Training and validation loss for ' + class_type + ' class')\n",
    "plt.legend()\n",
    "plt.show()\n",
    "\n",
    "acc = model_train.history['accuracy']\n",
    "val_acc = model_train.history['val_accuracy']\n",
    "epochs = range(300)\n",
    "plt.figure()\n",
    "plt.plot(acc, 'b--', label='Training Accuracy')\n",
    "plt.plot(val_acc, 'g--', label='Validation Accuracy')\n",
    "plt.title('Training and validation Accuracy for ' + class_type + ' class')\n",
    "plt.legend()\n",
    "plt.show()"
   ]
  },
  {
   "cell_type": "markdown",
   "id": "8b0efd8c",
   "metadata": {},
   "source": [
    "## 3. Meniscus Class"
   ]
  },
  {
   "cell_type": "markdown",
   "id": "d5823481",
   "metadata": {},
   "source": [
    "### Data Loading"
   ]
  },
  {
   "cell_type": "code",
   "execution_count": null,
   "id": "5566f8d2",
   "metadata": {},
   "outputs": [],
   "source": [
    "class_type = 'meniscus'\n",
    "no_path = class_type + '_new/'+class_type+'_class_0/'\n",
    "yes_path = class_type + '_new/'+class_type+'_class_1/'\n",
    "\n",
    "no_data = load_images(no_path)\n",
    "no_data = np.stack(no_data, axis = -1)\n",
    "no_data = np.moveaxis(no_data, -1, 0)\n",
    "no_labs = np.zeros((no_data.shape[0], 1))\n",
    "\n",
    "yes_data = load_images(yes_path)\n",
    "yes_data = np.stack(yes_data, axis = -1)\n",
    "yes_data = np.moveaxis(yes_data, -1, 0)\n",
    "yes_labs = np.ones((yes_data.shape[0], 1))\n",
    "\n",
    "train_data = np.vstack((no_data, yes_data))\n",
    "labels = np.vstack((no_labs, yes_labs))\n",
    "\n",
    "one_hot_labs = np.zeros((len(labels), 2))\n",
    "\n",
    "ctr = 0\n",
    "for label in labels:\n",
    "    if label == 0:\n",
    "        one_hot_labs[ctr, 0] = 1\n",
    "    elif label == 1:\n",
    "        one_hot_labs[ctr, 1] = 1\n",
    "    ctr+=1"
   ]
  },
  {
   "cell_type": "markdown",
   "id": "1858c5c7",
   "metadata": {},
   "source": [
    "### Train and Validate"
   ]
  },
  {
   "cell_type": "code",
   "execution_count": null,
   "id": "4c24bed3",
   "metadata": {},
   "outputs": [],
   "source": [
    "from sklearn.model_selection import train_test_split\n",
    "train_X,valid_X,train_ground,valid_ground = train_test_split(train_data,one_hot_labs,test_size=0.2,random_state=13)\n",
    "\n",
    "batch_size_ = 4\n",
    "epochs_ = 100\n",
    "inChannel = train_X.shape[3]\n",
    "x, y =  train_X.shape[1], train_X.shape[2]\n",
    "\n",
    "model = create_model(x, y, inChannel)\n",
    "model.summary()\n",
    "\n",
    "callbacks_list = callbacks(class_type)\n",
    "model.compile( optimizer='adam', loss='categorical_crossentropy', metrics=['accuracy'])\n",
    "model_train = model.fit(train_X, train_ground,\n",
    "                    epochs = epochs_, batch_size = batch_size_,\n",
    "                    verbose=1, validation_split=0.15, callbacks=callbacks_list)\n",
    "\n",
    "test_eval=model.evaluate(valid_X,valid_ground, verbose=0)\n",
    "print(\"Test Accuracy: \",test_eval[1])\n",
    "\n",
    "loss = model_train.history['loss']\n",
    "val_loss = model_train.history['val_loss']\n",
    "epochs = range(300)\n",
    "plt.figure()\n",
    "plt.plot(loss, 'b--', label='Training loss')\n",
    "plt.plot(val_loss, 'g--', label='Validation loss')\n",
    "plt.title('Training and validation loss for ' + class_type + ' class')\n",
    "plt.legend()\n",
    "plt.show()\n",
    "\n",
    "acc = model_train.history['accuracy']\n",
    "val_acc = model_train.history['val_accuracy']\n",
    "epochs = range(300)\n",
    "plt.figure()\n",
    "plt.plot(acc, 'b--', label='Training Accuracy')\n",
    "plt.plot(val_acc, 'g--', label='Validation Accuracy')\n",
    "plt.title('Training and validation Accuracy for ' + class_type + ' class')\n",
    "plt.legend()\n",
    "plt.show()"
   ]
  },
  {
   "cell_type": "markdown",
   "id": "5e146459",
   "metadata": {},
   "source": [
    "# THE END"
   ]
  }
 ],
 "metadata": {
  "kernelspec": {
   "display_name": "Python 3 (ipykernel)",
   "language": "python",
   "name": "python3"
  },
  "language_info": {
   "codemirror_mode": {
    "name": "ipython",
    "version": 3
   },
   "file_extension": ".py",
   "mimetype": "text/x-python",
   "name": "python",
   "nbconvert_exporter": "python",
   "pygments_lexer": "ipython3",
   "version": "3.8.8"
  }
 },
 "nbformat": 4,
 "nbformat_minor": 5
}
